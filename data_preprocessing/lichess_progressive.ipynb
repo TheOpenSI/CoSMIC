{
 "cells": [
  {
   "cell_type": "markdown",
   "id": "fe23b7ad-3a9d-485a-b207-028b4d6c05ef",
   "metadata": {},
   "source": [
    "## Getting game history dataset and creating the progressive move df"
   ]
  },
  {
   "cell_type": "code",
   "execution_count": 1,
   "id": "8f629533-b9ce-40c6-bac9-531b5797d59f",
   "metadata": {
    "tags": []
   },
   "outputs": [],
   "source": [
    "import pandas as pd"
   ]
  },
  {
   "cell_type": "code",
   "execution_count": 2,
   "id": "0f5af219-663a-415a-9ff1-4700da36a402",
   "metadata": {
    "tags": []
   },
   "outputs": [
    {
     "data": {
      "text/html": [
       "<div>\n",
       "<style scoped>\n",
       "    .dataframe tbody tr th:only-of-type {\n",
       "        vertical-align: middle;\n",
       "    }\n",
       "\n",
       "    .dataframe tbody tr th {\n",
       "        vertical-align: top;\n",
       "    }\n",
       "\n",
       "    .dataframe thead th {\n",
       "        text-align: right;\n",
       "    }\n",
       "</style>\n",
       "<table border=\"1\" class=\"dataframe\">\n",
       "  <thead>\n",
       "    <tr style=\"text-align: right;\">\n",
       "      <th></th>\n",
       "      <th>id</th>\n",
       "      <th>rated</th>\n",
       "      <th>created_at</th>\n",
       "      <th>last_move_at</th>\n",
       "      <th>turns</th>\n",
       "      <th>victory_status</th>\n",
       "      <th>winner</th>\n",
       "      <th>increment_code</th>\n",
       "      <th>white_id</th>\n",
       "      <th>white_rating</th>\n",
       "      <th>black_id</th>\n",
       "      <th>black_rating</th>\n",
       "      <th>moves</th>\n",
       "      <th>opening_eco</th>\n",
       "      <th>opening_name</th>\n",
       "      <th>opening_ply</th>\n",
       "    </tr>\n",
       "  </thead>\n",
       "  <tbody>\n",
       "    <tr>\n",
       "      <th>0</th>\n",
       "      <td>TZJHLljE</td>\n",
       "      <td>False</td>\n",
       "      <td>1.504210e+12</td>\n",
       "      <td>1.504210e+12</td>\n",
       "      <td>13</td>\n",
       "      <td>outoftime</td>\n",
       "      <td>white</td>\n",
       "      <td>15+2</td>\n",
       "      <td>bourgris</td>\n",
       "      <td>1500</td>\n",
       "      <td>a-00</td>\n",
       "      <td>1191</td>\n",
       "      <td>d4 d5 c4 c6 cxd5 e6 dxe6 fxe6 Nf3 Bb4+ Nc3 Ba5...</td>\n",
       "      <td>D10</td>\n",
       "      <td>Slav Defense: Exchange Variation</td>\n",
       "      <td>5</td>\n",
       "    </tr>\n",
       "    <tr>\n",
       "      <th>1</th>\n",
       "      <td>l1NXvwaE</td>\n",
       "      <td>True</td>\n",
       "      <td>1.504130e+12</td>\n",
       "      <td>1.504130e+12</td>\n",
       "      <td>16</td>\n",
       "      <td>resign</td>\n",
       "      <td>black</td>\n",
       "      <td>5+10</td>\n",
       "      <td>a-00</td>\n",
       "      <td>1322</td>\n",
       "      <td>skinnerua</td>\n",
       "      <td>1261</td>\n",
       "      <td>d4 Nc6 e4 e5 f4 f6 dxe5 fxe5 fxe5 Nxe5 Qd4 Nc6...</td>\n",
       "      <td>B00</td>\n",
       "      <td>Nimzowitsch Defense: Kennedy Variation</td>\n",
       "      <td>4</td>\n",
       "    </tr>\n",
       "  </tbody>\n",
       "</table>\n",
       "</div>"
      ],
      "text/plain": [
       "         id  rated    created_at  last_move_at  turns victory_status winner  \\\n",
       "0  TZJHLljE  False  1.504210e+12  1.504210e+12     13      outoftime  white   \n",
       "1  l1NXvwaE   True  1.504130e+12  1.504130e+12     16         resign  black   \n",
       "\n",
       "  increment_code  white_id  white_rating   black_id  black_rating  \\\n",
       "0           15+2  bourgris          1500       a-00          1191   \n",
       "1           5+10      a-00          1322  skinnerua          1261   \n",
       "\n",
       "                                               moves opening_eco  \\\n",
       "0  d4 d5 c4 c6 cxd5 e6 dxe6 fxe6 Nf3 Bb4+ Nc3 Ba5...         D10   \n",
       "1  d4 Nc6 e4 e5 f4 f6 dxe5 fxe5 fxe5 Nxe5 Qd4 Nc6...         B00   \n",
       "\n",
       "                             opening_name  opening_ply  \n",
       "0        Slav Defense: Exchange Variation            5  \n",
       "1  Nimzowitsch Defense: Kennedy Variation            4  "
      ]
     },
     "execution_count": 2,
     "metadata": {},
     "output_type": "execute_result"
    }
   ],
   "source": [
    "df = pd.read_csv(\"./data/games.csv\")\n",
    "df.head(2)"
   ]
  },
  {
   "cell_type": "code",
   "execution_count": 3,
   "id": "556c06b6-b553-4566-b1a6-d48407026942",
   "metadata": {
    "tags": []
   },
   "outputs": [
    {
     "data": {
      "text/plain": [
       "(20058, 16)"
      ]
     },
     "execution_count": 3,
     "metadata": {},
     "output_type": "execute_result"
    }
   ],
   "source": [
    "df.shape"
   ]
  },
  {
   "cell_type": "code",
   "execution_count": 4,
   "id": "3415aa22-a238-4d3e-8f81-a78a6c8f6ac3",
   "metadata": {
    "tags": []
   },
   "outputs": [
    {
     "data": {
      "text/plain": [
       "Index(['id', 'rated', 'created_at', 'last_move_at', 'turns', 'victory_status',\n",
       "       'winner', 'increment_code', 'white_id', 'white_rating', 'black_id',\n",
       "       'black_rating', 'moves', 'opening_eco', 'opening_name', 'opening_ply'],\n",
       "      dtype='object')"
      ]
     },
     "execution_count": 4,
     "metadata": {},
     "output_type": "execute_result"
    }
   ],
   "source": [
    "df.columns"
   ]
  },
  {
   "cell_type": "code",
   "execution_count": 5,
   "id": "765c9543-0086-45be-8da8-407374c18500",
   "metadata": {
    "tags": []
   },
   "outputs": [
    {
     "data": {
      "text/html": [
       "<div>\n",
       "<style scoped>\n",
       "    .dataframe tbody tr th:only-of-type {\n",
       "        vertical-align: middle;\n",
       "    }\n",
       "\n",
       "    .dataframe tbody tr th {\n",
       "        vertical-align: top;\n",
       "    }\n",
       "\n",
       "    .dataframe thead th {\n",
       "        text-align: right;\n",
       "    }\n",
       "</style>\n",
       "<table border=\"1\" class=\"dataframe\">\n",
       "  <thead>\n",
       "    <tr style=\"text-align: right;\">\n",
       "      <th></th>\n",
       "      <th>moves</th>\n",
       "      <th>opening_name</th>\n",
       "    </tr>\n",
       "  </thead>\n",
       "  <tbody>\n",
       "    <tr>\n",
       "      <th>0</th>\n",
       "      <td>d4 d5 c4 c6 cxd5 e6 dxe6 fxe6 Nf3 Bb4+ Nc3 Ba5...</td>\n",
       "      <td>Slav Defense: Exchange Variation</td>\n",
       "    </tr>\n",
       "    <tr>\n",
       "      <th>1</th>\n",
       "      <td>d4 Nc6 e4 e5 f4 f6 dxe5 fxe5 fxe5 Nxe5 Qd4 Nc6...</td>\n",
       "      <td>Nimzowitsch Defense: Kennedy Variation</td>\n",
       "    </tr>\n",
       "    <tr>\n",
       "      <th>2</th>\n",
       "      <td>e4 e5 d3 d6 Be3 c6 Be2 b5 Nd2 a5 a4 c5 axb5 Nc...</td>\n",
       "      <td>King's Pawn Game: Leonardis Variation</td>\n",
       "    </tr>\n",
       "    <tr>\n",
       "      <th>3</th>\n",
       "      <td>d4 d5 Nf3 Bf5 Nc3 Nf6 Bf4 Ng4 e3 Nc6 Be2 Qd7 O...</td>\n",
       "      <td>Queen's Pawn Game: Zukertort Variation</td>\n",
       "    </tr>\n",
       "    <tr>\n",
       "      <th>4</th>\n",
       "      <td>e4 e5 Nf3 d6 d4 Nc6 d5 Nb4 a3 Na6 Nc3 Be7 b4 N...</td>\n",
       "      <td>Philidor Defense</td>\n",
       "    </tr>\n",
       "  </tbody>\n",
       "</table>\n",
       "</div>"
      ],
      "text/plain": [
       "                                               moves  \\\n",
       "0  d4 d5 c4 c6 cxd5 e6 dxe6 fxe6 Nf3 Bb4+ Nc3 Ba5...   \n",
       "1  d4 Nc6 e4 e5 f4 f6 dxe5 fxe5 fxe5 Nxe5 Qd4 Nc6...   \n",
       "2  e4 e5 d3 d6 Be3 c6 Be2 b5 Nd2 a5 a4 c5 axb5 Nc...   \n",
       "3  d4 d5 Nf3 Bf5 Nc3 Nf6 Bf4 Ng4 e3 Nc6 Be2 Qd7 O...   \n",
       "4  e4 e5 Nf3 d6 d4 Nc6 d5 Nb4 a3 Na6 Nc3 Be7 b4 N...   \n",
       "\n",
       "                             opening_name  \n",
       "0        Slav Defense: Exchange Variation  \n",
       "1  Nimzowitsch Defense: Kennedy Variation  \n",
       "2   King's Pawn Game: Leonardis Variation  \n",
       "3  Queen's Pawn Game: Zukertort Variation  \n",
       "4                        Philidor Defense  "
      ]
     },
     "execution_count": 5,
     "metadata": {},
     "output_type": "execute_result"
    }
   ],
   "source": [
    "df = df[[\"moves\", \"opening_name\"]]\n",
    "df.head()"
   ]
  },
  {
   "cell_type": "code",
   "execution_count": 6,
   "id": "915175c5-99a1-4bba-bc82-9627a5443cc4",
   "metadata": {
    "tags": []
   },
   "outputs": [],
   "source": [
    "df[\"progressive_moves\"] = df[\"moves\"].str.split().apply(lambda moves: [' '.join(moves[:i+1]) for i in range(len(moves))]) \n",
    "# .join(moves[:i+1]) is exclusive"
   ]
  },
  {
   "cell_type": "code",
   "execution_count": 7,
   "id": "3c19ba2b-f373-4736-8677-27e7e560095a",
   "metadata": {
    "tags": []
   },
   "outputs": [
    {
     "data": {
      "text/plain": [
       "['d4',\n",
       " 'd4 d5',\n",
       " 'd4 d5 c4',\n",
       " 'd4 d5 c4 c6',\n",
       " 'd4 d5 c4 c6 cxd5',\n",
       " 'd4 d5 c4 c6 cxd5 e6',\n",
       " 'd4 d5 c4 c6 cxd5 e6 dxe6',\n",
       " 'd4 d5 c4 c6 cxd5 e6 dxe6 fxe6',\n",
       " 'd4 d5 c4 c6 cxd5 e6 dxe6 fxe6 Nf3',\n",
       " 'd4 d5 c4 c6 cxd5 e6 dxe6 fxe6 Nf3 Bb4+',\n",
       " 'd4 d5 c4 c6 cxd5 e6 dxe6 fxe6 Nf3 Bb4+ Nc3',\n",
       " 'd4 d5 c4 c6 cxd5 e6 dxe6 fxe6 Nf3 Bb4+ Nc3 Ba5',\n",
       " 'd4 d5 c4 c6 cxd5 e6 dxe6 fxe6 Nf3 Bb4+ Nc3 Ba5 Bf4']"
      ]
     },
     "execution_count": 7,
     "metadata": {},
     "output_type": "execute_result"
    }
   ],
   "source": [
    "df.iloc[0][\"progressive_moves\"]"
   ]
  },
  {
   "cell_type": "markdown",
   "id": "27e1b2a6-cfda-40f8-ad4e-1fe7c35655a0",
   "metadata": {},
   "source": [
    "# we will test with 5000 entries only first"
   ]
  },
  {
   "cell_type": "code",
   "execution_count": 8,
   "id": "c45299c1-4d0c-45ca-b3d1-95e16466a21b",
   "metadata": {
    "tags": []
   },
   "outputs": [],
   "source": [
    "target = df.explode(\"progressive_moves\").iloc[:5000].reset_index(drop = True)"
   ]
  },
  {
   "cell_type": "code",
   "execution_count": 9,
   "id": "f91a61e8",
   "metadata": {},
   "outputs": [
    {
     "data": {
      "text/plain": [
       "(5000, 3)"
      ]
     },
     "execution_count": 9,
     "metadata": {},
     "output_type": "execute_result"
    }
   ],
   "source": [
    "target.shape"
   ]
  },
  {
   "cell_type": "code",
   "execution_count": 10,
   "id": "c1aec4a3-4575-4be6-aca9-5c43908eeef7",
   "metadata": {
    "tags": []
   },
   "outputs": [
    {
     "data": {
      "text/html": [
       "<div>\n",
       "<style scoped>\n",
       "    .dataframe tbody tr th:only-of-type {\n",
       "        vertical-align: middle;\n",
       "    }\n",
       "\n",
       "    .dataframe tbody tr th {\n",
       "        vertical-align: top;\n",
       "    }\n",
       "\n",
       "    .dataframe thead th {\n",
       "        text-align: right;\n",
       "    }\n",
       "</style>\n",
       "<table border=\"1\" class=\"dataframe\">\n",
       "  <thead>\n",
       "    <tr style=\"text-align: right;\">\n",
       "      <th></th>\n",
       "      <th>opening_name</th>\n",
       "      <th>prev_moves</th>\n",
       "      <th>last_move</th>\n",
       "    </tr>\n",
       "  </thead>\n",
       "  <tbody>\n",
       "    <tr>\n",
       "      <th>0</th>\n",
       "      <td>Slav Defense: Exchange Variation</td>\n",
       "      <td>d4</td>\n",
       "      <td>None</td>\n",
       "    </tr>\n",
       "    <tr>\n",
       "      <th>1</th>\n",
       "      <td>Slav Defense: Exchange Variation</td>\n",
       "      <td>d4</td>\n",
       "      <td>d5</td>\n",
       "    </tr>\n",
       "    <tr>\n",
       "      <th>2</th>\n",
       "      <td>Slav Defense: Exchange Variation</td>\n",
       "      <td>d4 d5</td>\n",
       "      <td>c4</td>\n",
       "    </tr>\n",
       "    <tr>\n",
       "      <th>3</th>\n",
       "      <td>Slav Defense: Exchange Variation</td>\n",
       "      <td>d4 d5 c4</td>\n",
       "      <td>c6</td>\n",
       "    </tr>\n",
       "    <tr>\n",
       "      <th>4</th>\n",
       "      <td>Slav Defense: Exchange Variation</td>\n",
       "      <td>d4 d5 c4 c6</td>\n",
       "      <td>cxd5</td>\n",
       "    </tr>\n",
       "  </tbody>\n",
       "</table>\n",
       "</div>"
      ],
      "text/plain": [
       "                       opening_name   prev_moves last_move\n",
       "0  Slav Defense: Exchange Variation           d4      None\n",
       "1  Slav Defense: Exchange Variation           d4        d5\n",
       "2  Slav Defense: Exchange Variation        d4 d5        c4\n",
       "3  Slav Defense: Exchange Variation     d4 d5 c4        c6\n",
       "4  Slav Defense: Exchange Variation  d4 d5 c4 c6      cxd5"
      ]
     },
     "execution_count": 10,
     "metadata": {},
     "output_type": "execute_result"
    }
   ],
   "source": [
    "target[[\"prev_moves\", \"last_move\"]] = target[\"progressive_moves\"].str.rsplit(n=1, expand=True)\n",
    "target.drop([\"progressive_moves\", \"moves\"], axis = 1, inplace=True)\n",
    "target.head()"
   ]
  },
  {
   "cell_type": "code",
   "execution_count": 11,
   "id": "d499d61e-08d9-47b8-a4fb-7926e6630f8a",
   "metadata": {
    "tags": []
   },
   "outputs": [
    {
     "data": {
      "text/plain": [
       "(5000, 3)"
      ]
     },
     "execution_count": 11,
     "metadata": {},
     "output_type": "execute_result"
    }
   ],
   "source": [
    "target.shape"
   ]
  },
  {
   "cell_type": "code",
   "execution_count": 12,
   "id": "36731a30-92e1-42a3-b06d-b045b343eae6",
   "metadata": {
    "tags": []
   },
   "outputs": [],
   "source": [
    "def fix_prev_last_move(row):\n",
    "    if row[\"last_move\"] == None:\n",
    "        return pd.Series([\"None\", row[\"prev_moves\"]])\n",
    "    else:\n",
    "        return pd.Series([row[\"prev_moves\"], row[\"last_move\"]])"
   ]
  },
  {
   "cell_type": "code",
   "execution_count": 13,
   "id": "528c12dd-e06f-4714-a81c-8e5d9a6fe572",
   "metadata": {
    "tags": []
   },
   "outputs": [
    {
     "data": {
      "text/html": [
       "<div>\n",
       "<style scoped>\n",
       "    .dataframe tbody tr th:only-of-type {\n",
       "        vertical-align: middle;\n",
       "    }\n",
       "\n",
       "    .dataframe tbody tr th {\n",
       "        vertical-align: top;\n",
       "    }\n",
       "\n",
       "    .dataframe thead th {\n",
       "        text-align: right;\n",
       "    }\n",
       "</style>\n",
       "<table border=\"1\" class=\"dataframe\">\n",
       "  <thead>\n",
       "    <tr style=\"text-align: right;\">\n",
       "      <th></th>\n",
       "      <th>opening_name</th>\n",
       "      <th>prev_moves</th>\n",
       "      <th>last_move</th>\n",
       "    </tr>\n",
       "  </thead>\n",
       "  <tbody>\n",
       "    <tr>\n",
       "      <th>0</th>\n",
       "      <td>Slav Defense: Exchange Variation</td>\n",
       "      <td>None</td>\n",
       "      <td>d4</td>\n",
       "    </tr>\n",
       "    <tr>\n",
       "      <th>1</th>\n",
       "      <td>Slav Defense: Exchange Variation</td>\n",
       "      <td>d4</td>\n",
       "      <td>d5</td>\n",
       "    </tr>\n",
       "    <tr>\n",
       "      <th>2</th>\n",
       "      <td>Slav Defense: Exchange Variation</td>\n",
       "      <td>d4 d5</td>\n",
       "      <td>c4</td>\n",
       "    </tr>\n",
       "    <tr>\n",
       "      <th>3</th>\n",
       "      <td>Slav Defense: Exchange Variation</td>\n",
       "      <td>d4 d5 c4</td>\n",
       "      <td>c6</td>\n",
       "    </tr>\n",
       "    <tr>\n",
       "      <th>4</th>\n",
       "      <td>Slav Defense: Exchange Variation</td>\n",
       "      <td>d4 d5 c4 c6</td>\n",
       "      <td>cxd5</td>\n",
       "    </tr>\n",
       "  </tbody>\n",
       "</table>\n",
       "</div>"
      ],
      "text/plain": [
       "                       opening_name   prev_moves last_move\n",
       "0  Slav Defense: Exchange Variation         None        d4\n",
       "1  Slav Defense: Exchange Variation           d4        d5\n",
       "2  Slav Defense: Exchange Variation        d4 d5        c4\n",
       "3  Slav Defense: Exchange Variation     d4 d5 c4        c6\n",
       "4  Slav Defense: Exchange Variation  d4 d5 c4 c6      cxd5"
      ]
     },
     "execution_count": 13,
     "metadata": {},
     "output_type": "execute_result"
    }
   ],
   "source": [
    "target[[\"prev_moves\", \"last_move\"]] = target.apply(lambda row : fix_prev_last_move(row), axis = 1)\n",
    "target.head()"
   ]
  },
  {
   "cell_type": "code",
   "execution_count": 14,
   "id": "d441c43e",
   "metadata": {},
   "outputs": [],
   "source": [
    "def split_dataframe(df : pd.DataFrame, num_files : int, rows_per_file : int):\n",
    "\n",
    "  last_file_rows = df.shape[0] % rows_per_file\n",
    "\n",
    "  for i in range(num_files):\n",
    "    start_row = i * rows_per_file\n",
    "    end_row = min((i + 1) * rows_per_file, df.shape[0])\n",
    "\n",
    "    # handle the last file potentially having fewer rows, won't cause trouble for us\n",
    "    if i == num_files - 1:\n",
    "      end_row = start_row + last_file_rows\n",
    "\n",
    "    subset_df = df.iloc[start_row:end_row]\n",
    "\n",
    "    filename = f\"./data/data_{i:02d}.csv\"\n",
    "\n",
    "    subset_df.to_csv(filename, index=False)\n"
   ]
  },
  {
   "cell_type": "code",
   "execution_count": 15,
   "id": "5138c05d",
   "metadata": {},
   "outputs": [],
   "source": [
    "split_dataframe(target, num_files=20, rows_per_file=500)"
   ]
  }
 ],
 "metadata": {
  "kernelspec": {
   "display_name": "Python 3 (ipykernel)",
   "language": "python",
   "name": "python3"
  },
  "language_info": {
   "codemirror_mode": {
    "name": "ipython",
    "version": 3
   },
   "file_extension": ".py",
   "mimetype": "text/x-python",
   "name": "python",
   "nbconvert_exporter": "python",
   "pygments_lexer": "ipython3",
   "version": "3.10.13"
  }
 },
 "nbformat": 4,
 "nbformat_minor": 5
}
