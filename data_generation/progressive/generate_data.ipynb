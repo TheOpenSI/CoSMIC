{
 "cells": [
  {
   "cell_type": "code",
   "execution_count": 1,
   "metadata": {},
   "outputs": [],
   "source": [
    "import os\n",
    "import pandas as pd\n",
    "from openai import OpenAI\n",
    "import textwrap\n",
    "# client = OpenAI(api_key = api_key)"
   ]
  },
  {
   "cell_type": "code",
   "execution_count": 2,
   "metadata": {},
   "outputs": [
    {
     "data": {
      "text/plain": [
       "openai.OpenAI"
      ]
     },
     "execution_count": 2,
     "metadata": {},
     "output_type": "execute_result"
    }
   ],
   "source": [
    "type(client)"
   ]
  },
  {
   "cell_type": "code",
   "execution_count": 146,
   "metadata": {},
   "outputs": [],
   "source": [
    "system_content_cot = '''Assume you are a chess master.\n",
    "    You will be provided with a list of chess move pairs in Algebraic Notation where 1st move is by White and 2nd by Black.\n",
    "    Your task is to analyse each pair and then generate the rationale behind each White and Black move and then the last move.\n",
    "    '''"
   ]
  },
  {
   "cell_type": "code",
   "execution_count": 85,
   "metadata": {},
   "outputs": [
    {
     "data": {
      "text/html": [
       "<div>\n",
       "<style scoped>\n",
       "    .dataframe tbody tr th:only-of-type {\n",
       "        vertical-align: middle;\n",
       "    }\n",
       "\n",
       "    .dataframe tbody tr th {\n",
       "        vertical-align: top;\n",
       "    }\n",
       "\n",
       "    .dataframe thead th {\n",
       "        text-align: right;\n",
       "    }\n",
       "</style>\n",
       "<table border=\"1\" class=\"dataframe\">\n",
       "  <thead>\n",
       "    <tr style=\"text-align: right;\">\n",
       "      <th></th>\n",
       "      <th>prev_moves</th>\n",
       "      <th>last_move</th>\n",
       "      <th>explanation</th>\n",
       "    </tr>\n",
       "  </thead>\n",
       "  <tbody>\n",
       "    <tr>\n",
       "      <th>0</th>\n",
       "      <td>None</td>\n",
       "      <td>d4</td>\n",
       "      <td></td>\n",
       "    </tr>\n",
       "    <tr>\n",
       "      <th>1</th>\n",
       "      <td>d4</td>\n",
       "      <td>d5</td>\n",
       "      <td></td>\n",
       "    </tr>\n",
       "    <tr>\n",
       "      <th>2</th>\n",
       "      <td>d4 d5</td>\n",
       "      <td>c4</td>\n",
       "      <td></td>\n",
       "    </tr>\n",
       "    <tr>\n",
       "      <th>3</th>\n",
       "      <td>d4 d5 c4</td>\n",
       "      <td>c6</td>\n",
       "      <td></td>\n",
       "    </tr>\n",
       "    <tr>\n",
       "      <th>4</th>\n",
       "      <td>d4 d5 c4 c6</td>\n",
       "      <td>cxd5</td>\n",
       "      <td></td>\n",
       "    </tr>\n",
       "  </tbody>\n",
       "</table>\n",
       "</div>"
      ],
      "text/plain": [
       "    prev_moves last_move explanation\n",
       "0         None        d4            \n",
       "1           d4        d5            \n",
       "2        d4 d5        c4            \n",
       "3     d4 d5 c4        c6            \n",
       "4  d4 d5 c4 c6      cxd5            "
      ]
     },
     "execution_count": 85,
     "metadata": {},
     "output_type": "execute_result"
    }
   ],
   "source": [
    "df = pd.read_csv(\"./data/progressive_moves_500.csv\", index_col=0)\n",
    "df.drop(\"opening_name\", axis = 1, inplace=True)\n",
    "df = df.fillna(\"None\")\n",
    "df[\"explanation\"] = \" \"\n",
    "df.head()"
   ]
  },
  {
   "cell_type": "code",
   "execution_count": 86,
   "metadata": {},
   "outputs": [
    {
     "data": {
      "text/plain": [
       "500"
      ]
     },
     "execution_count": 86,
     "metadata": {},
     "output_type": "execute_result"
    }
   ],
   "source": [
    "df.shape[0]"
   ]
  },
  {
   "cell_type": "code",
   "execution_count": 162,
   "metadata": {},
   "outputs": [],
   "source": [
    "def process_response(response):\n",
    "    lines = response.replace(\"\", \"\").replace(\"\", \"\").split(\"\\n\")\n",
    "    wrapped_lines = [textwrap.fill(line, width=100) for line in lines]\n",
    "    for wrapped_line in wrapped_lines:\n",
    "        print(wrapped_line)"
   ]
  },
  {
   "cell_type": "code",
   "execution_count": 87,
   "metadata": {},
   "outputs": [],
   "source": [
    "def gen_cot_prompt(prev_moves : str, last_move : str) -> str:\n",
    "    if prev_moves == \"None\":\n",
    "        return f\"White : {last_move}\"\n",
    "    else: \n",
    "        prev_moves = (prev_moves+f\" {last_move}\").split(\" \")\n",
    "        cot_moves = [f\"White: {prev_moves[i]}, Black: {prev_moves[i+1]}\" if i + 1 < len(prev_moves) else f\"White: {prev_moves[i]}\" for i in range(0, len(prev_moves), 2)]\n",
    "        return \"\\n\".join(cot_moves)"
   ]
  },
  {
   "cell_type": "code",
   "execution_count": 156,
   "metadata": {},
   "outputs": [
    {
     "data": {
      "text/html": [
       "<div>\n",
       "<style scoped>\n",
       "    .dataframe tbody tr th:only-of-type {\n",
       "        vertical-align: middle;\n",
       "    }\n",
       "\n",
       "    .dataframe tbody tr th {\n",
       "        vertical-align: top;\n",
       "    }\n",
       "\n",
       "    .dataframe thead th {\n",
       "        text-align: right;\n",
       "    }\n",
       "</style>\n",
       "<table border=\"1\" class=\"dataframe\">\n",
       "  <thead>\n",
       "    <tr style=\"text-align: right;\">\n",
       "      <th></th>\n",
       "      <th>prev_moves</th>\n",
       "      <th>last_move</th>\n",
       "      <th>explanation</th>\n",
       "    </tr>\n",
       "  </thead>\n",
       "  <tbody>\n",
       "    <tr>\n",
       "      <th>0</th>\n",
       "      <td>None</td>\n",
       "      <td>d4</td>\n",
       "      <td></td>\n",
       "    </tr>\n",
       "    <tr>\n",
       "      <th>1</th>\n",
       "      <td>d4</td>\n",
       "      <td>d5</td>\n",
       "      <td></td>\n",
       "    </tr>\n",
       "    <tr>\n",
       "      <th>2</th>\n",
       "      <td>d4 d5</td>\n",
       "      <td>c4</td>\n",
       "      <td></td>\n",
       "    </tr>\n",
       "    <tr>\n",
       "      <th>3</th>\n",
       "      <td>d4 d5 c4</td>\n",
       "      <td>c6</td>\n",
       "      <td></td>\n",
       "    </tr>\n",
       "    <tr>\n",
       "      <th>4</th>\n",
       "      <td>d4 d5 c4 c6</td>\n",
       "      <td>cxd5</td>\n",
       "      <td></td>\n",
       "    </tr>\n",
       "  </tbody>\n",
       "</table>\n",
       "</div>"
      ],
      "text/plain": [
       "    prev_moves last_move explanation\n",
       "0         None        d4            \n",
       "1           d4        d5            \n",
       "2        d4 d5        c4            \n",
       "3     d4 d5 c4        c6            \n",
       "4  d4 d5 c4 c6      cxd5            "
      ]
     },
     "execution_count": 156,
     "metadata": {},
     "output_type": "execute_result"
    }
   ],
   "source": [
    "temp = df.head().copy()\n",
    "temp"
   ]
  },
  {
   "cell_type": "code",
   "execution_count": 157,
   "metadata": {},
   "outputs": [],
   "source": [
    "def generate_explanation(df : pd.DataFrame, sytem_content : str) -> pd.DataFrame:\n",
    "    return_df = df.copy()\n",
    "\n",
    "    for i in range(df.shape[0]):\n",
    "        prev_moves = df.iloc[i][\"prev_moves\"]\n",
    "        last_move = df.iloc[i][\"last_move\"]\n",
    "\n",
    "        user_prompt_move = gen_cot_prompt(prev_moves, last_move)\n",
    "        user_content_cot = f\"Previous move pairs are - \\n{user_prompt_move}\"\n",
    "        \n",
    "        stream = client.chat.completions.create(\n",
    "        model=\"gpt-3.5-turbo-0125\",\n",
    "        messages = [{\"role\": \"system\",\n",
    "                     \"content\": sytem_content},\n",
    "                    {\"role\": \"user\",\n",
    "                     \"content\": user_content_cot}],\n",
    "        stream=True,)\n",
    "        \n",
    "        explanation = \"\"\n",
    "        for chunk in stream:\n",
    "            if chunk.choices[0].delta.content is not None:\n",
    "                explanation += chunk.choices[0].delta.content\n",
    "        return_df.loc[i, \"explanation\"] = explanation\n",
    "    return return_df\n"
   ]
  },
  {
   "cell_type": "code",
   "execution_count": 158,
   "metadata": {},
   "outputs": [
    {
     "data": {
      "text/html": [
       "<div>\n",
       "<style scoped>\n",
       "    .dataframe tbody tr th:only-of-type {\n",
       "        vertical-align: middle;\n",
       "    }\n",
       "\n",
       "    .dataframe tbody tr th {\n",
       "        vertical-align: top;\n",
       "    }\n",
       "\n",
       "    .dataframe thead th {\n",
       "        text-align: right;\n",
       "    }\n",
       "</style>\n",
       "<table border=\"1\" class=\"dataframe\">\n",
       "  <thead>\n",
       "    <tr style=\"text-align: right;\">\n",
       "      <th></th>\n",
       "      <th>prev_moves</th>\n",
       "      <th>last_move</th>\n",
       "      <th>explanation</th>\n",
       "    </tr>\n",
       "  </thead>\n",
       "  <tbody>\n",
       "    <tr>\n",
       "      <th>0</th>\n",
       "      <td>None</td>\n",
       "      <td>d4</td>\n",
       "      <td>Black: e5\\n\\nAnalysis:\\n1. White played d4, a ...</td>\n",
       "    </tr>\n",
       "    <tr>\n",
       "      <th>1</th>\n",
       "      <td>d4</td>\n",
       "      <td>d5</td>\n",
       "      <td>White's move of playing d4 is a common opening...</td>\n",
       "    </tr>\n",
       "    <tr>\n",
       "      <th>2</th>\n",
       "      <td>d4 d5</td>\n",
       "      <td>c4</td>\n",
       "      <td>White move: c4\\n\\nRationale behind White's mov...</td>\n",
       "    </tr>\n",
       "    <tr>\n",
       "      <th>3</th>\n",
       "      <td>d4 d5 c4</td>\n",
       "      <td>c6</td>\n",
       "      <td>In the first move pair, White played d4, which...</td>\n",
       "    </tr>\n",
       "    <tr>\n",
       "      <th>4</th>\n",
       "      <td>d4 d5 c4 c6</td>\n",
       "      <td>cxd5</td>\n",
       "      <td>In the first move pair, White played d4, aimin...</td>\n",
       "    </tr>\n",
       "  </tbody>\n",
       "</table>\n",
       "</div>"
      ],
      "text/plain": [
       "    prev_moves last_move                                        explanation\n",
       "0         None        d4  Black: e5\\n\\nAnalysis:\\n1. White played d4, a ...\n",
       "1           d4        d5  White's move of playing d4 is a common opening...\n",
       "2        d4 d5        c4  White move: c4\\n\\nRationale behind White's mov...\n",
       "3     d4 d5 c4        c6  In the first move pair, White played d4, which...\n",
       "4  d4 d5 c4 c6      cxd5  In the first move pair, White played d4, aimin..."
      ]
     },
     "execution_count": 158,
     "metadata": {},
     "output_type": "execute_result"
    }
   ],
   "source": [
    "temp = generate_explanation(temp, system_content_cot)\n",
    "temp"
   ]
  },
  {
   "cell_type": "code",
   "execution_count": 163,
   "metadata": {},
   "outputs": [
    {
     "name": "stdout",
     "output_type": "stream",
     "text": [
      "In the first move pair, White played d4, aiming to control the center of the board and open up lines\n",
      "for the queen and bishop. Black responded with d5, mirroring White's move by also aiming to control\n",
      "the center and contest White's influence.\n",
      "\n",
      "In the second move pair, White played c4, further reinforcing their control over the center and\n",
      "preparing to develop the bishop on the c1-h6 diagonal. Black played c6, preparing to support the\n",
      "pawn on d5 and potentially fianchetto the bishop on b7.\n",
      "\n",
      "In the third move, White played cxd5, capturing Black's d5 pawn with the c4 pawn. This move helps\n",
      "White gain more central control by exchanging pawns and potentially opening lines for their pieces.\n",
      "Black now has the option to recapture the pawn on d5 or make a different move based on the current\n",
      "board position.\n"
     ]
    }
   ],
   "source": [
    "process_response(temp.loc[4, \"explanation\"])"
   ]
  }
 ],
 "metadata": {
  "kernelspec": {
   "display_name": "Python 3",
   "language": "python",
   "name": "python3"
  },
  "language_info": {
   "codemirror_mode": {
    "name": "ipython",
    "version": 3
   },
   "file_extension": ".py",
   "mimetype": "text/x-python",
   "name": "python",
   "nbconvert_exporter": "python",
   "pygments_lexer": "ipython3",
   "version": "3.10.13"
  }
 },
 "nbformat": 4,
 "nbformat_minor": 2
}
