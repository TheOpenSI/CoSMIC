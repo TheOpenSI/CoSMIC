{
 "cells": [
  {
   "cell_type": "code",
   "execution_count": 5,
   "id": "6f45e7b1-4349-4144-bc57-24e235dd690e",
   "metadata": {
    "tags": []
   },
   "outputs": [],
   "source": [
    "import pandas as pd"
   ]
  },
  {
   "cell_type": "code",
   "execution_count": 6,
   "id": "43c69fbb-2d65-4825-b0d6-05f27e866c2e",
   "metadata": {
    "tags": []
   },
   "outputs": [
    {
     "data": {
      "text/html": [
       "<div>\n",
       "<style scoped>\n",
       "    .dataframe tbody tr th:only-of-type {\n",
       "        vertical-align: middle;\n",
       "    }\n",
       "\n",
       "    .dataframe tbody tr th {\n",
       "        vertical-align: top;\n",
       "    }\n",
       "\n",
       "    .dataframe thead th {\n",
       "        text-align: right;\n",
       "    }\n",
       "</style>\n",
       "<table border=\"1\" class=\"dataframe\">\n",
       "  <thead>\n",
       "    <tr style=\"text-align: right;\">\n",
       "      <th></th>\n",
       "      <th>opening_name</th>\n",
       "      <th>prev_moves</th>\n",
       "      <th>last_move</th>\n",
       "    </tr>\n",
       "  </thead>\n",
       "  <tbody>\n",
       "    <tr>\n",
       "      <th>0</th>\n",
       "      <td>Slav Defense: Exchange Variation</td>\n",
       "      <td>NaN</td>\n",
       "      <td>d4</td>\n",
       "    </tr>\n",
       "    <tr>\n",
       "      <th>1</th>\n",
       "      <td>Slav Defense: Exchange Variation</td>\n",
       "      <td>d4</td>\n",
       "      <td>d5</td>\n",
       "    </tr>\n",
       "    <tr>\n",
       "      <th>2</th>\n",
       "      <td>Slav Defense: Exchange Variation</td>\n",
       "      <td>d4 d5</td>\n",
       "      <td>c4</td>\n",
       "    </tr>\n",
       "    <tr>\n",
       "      <th>3</th>\n",
       "      <td>Slav Defense: Exchange Variation</td>\n",
       "      <td>d4 d5 c4</td>\n",
       "      <td>c6</td>\n",
       "    </tr>\n",
       "    <tr>\n",
       "      <th>4</th>\n",
       "      <td>Slav Defense: Exchange Variation</td>\n",
       "      <td>d4 d5 c4 c6</td>\n",
       "      <td>cxd5</td>\n",
       "    </tr>\n",
       "  </tbody>\n",
       "</table>\n",
       "</div>"
      ],
      "text/plain": [
       "                       opening_name   prev_moves last_move\n",
       "0  Slav Defense: Exchange Variation          NaN        d4\n",
       "1  Slav Defense: Exchange Variation           d4        d5\n",
       "2  Slav Defense: Exchange Variation        d4 d5        c4\n",
       "3  Slav Defense: Exchange Variation     d4 d5 c4        c6\n",
       "4  Slav Defense: Exchange Variation  d4 d5 c4 c6      cxd5"
      ]
     },
     "execution_count": 6,
     "metadata": {},
     "output_type": "execute_result"
    }
   ],
   "source": [
    "# my index column or the first column is unnamed\n",
    "df = pd.read_csv(\"./data/progressive_moves_500.csv\", index_col = 0)\n",
    "df.head()"
   ]
  },
  {
   "cell_type": "markdown",
   "id": "39ef9165-4e16-4b81-b49f-03a0c3fb2851",
   "metadata": {
    "tags": []
   },
   "source": [
    "# Loading API keys"
   ]
  },
  {
   "cell_type": "code",
   "execution_count": 10,
   "id": "943f239c-19b3-4ce1-9a6e-40a08c925a99",
   "metadata": {
    "tags": []
   },
   "outputs": [
    {
     "data": {
      "text/plain": [
       "True"
      ]
     },
     "execution_count": 10,
     "metadata": {},
     "output_type": "execute_result"
    }
   ],
   "source": [
    "import os\n",
    "from dotenv import load_dotenv\n",
    "load_dotenv()"
   ]
  },
  {
   "cell_type": "code",
   "execution_count": 12,
   "id": "b814f084-1ede-461a-8dfd-e5e2d4eb1ab2",
   "metadata": {
    "tags": []
   },
   "outputs": [],
   "source": [
    "openai_api_key = os.getenv(\"openai_api_key\")"
   ]
  },
  {
   "cell_type": "markdown",
   "id": "32622501-7cd8-400d-b571-66f8917953d7",
   "metadata": {},
   "source": [
    "## Setting up openai api call environment"
   ]
  },
  {
   "cell_type": "code",
   "execution_count": 15,
   "id": "24a27290-e95d-4d94-8f44-5ac619242532",
   "metadata": {
    "tags": []
   },
   "outputs": [],
   "source": [
    "from openai import OpenAI\n",
    "client = OpenAI(api_key = openai_api_key)"
   ]
  },
  {
   "cell_type": "code",
   "execution_count": 25,
   "id": "704ee803-d52c-44bc-a429-399a8717d1af",
   "metadata": {
    "tags": []
   },
   "outputs": [
    {
     "data": {
      "text/plain": [
       "opening_name    Slav Defense: Exchange Variation\n",
       "prev_moves                      d4 d5 c4 c6 cxd5\n",
       "last_move                                     e6\n",
       "Name: 5, dtype: object"
      ]
     },
     "execution_count": 25,
     "metadata": {},
     "output_type": "execute_result"
    }
   ],
   "source": [
    "df.iloc[5]"
   ]
  },
  {
   "cell_type": "code",
   "execution_count": 19,
   "id": "9eab5054-f7ea-4684-b0d0-3661805a7412",
   "metadata": {
    "tags": []
   },
   "outputs": [
    {
     "data": {
      "text/plain": [
       "('d4 d5 c4 c6 cxd5', 'e6')"
      ]
     },
     "execution_count": 19,
     "metadata": {},
     "output_type": "execute_result"
    }
   ],
   "source": [
    "prev_moves, last_move = df.iloc[5][\"prev_moves\"], df.iloc[5][\"last_move\"]\n",
    "prev_moves, last_move"
   ]
  },
  {
   "cell_type": "code",
   "execution_count": 24,
   "id": "0e8f696b-c3d1-41a5-b559-3ae710733aea",
   "metadata": {
    "tags": []
   },
   "outputs": [
    {
     "name": "stdout",
     "output_type": "stream",
     "text": [
      "\n",
      "1. d4: White opens the game by moving the d2 pawn two squares forward. This move establishes control over the center of the board and prepares for developing the pieces.\n",
      "\n",
      "2. d5: Black responds symmetrically by moving their d7 pawn two squares forward. This move also aims to control the center and prepare for piece development.\n",
      "\n",
      "3. c4: White plays c4, an aggressive move known as the Queen's Gambit. By sacrificing a pawn temporarily, White aims to gain control of the center and limit Black's pawn structure options.\n",
      "\n",
      "4. c6: Black counters by playing c6, which is a solid move to defend the d5 pawn and maintain symmetrical pawn structure in the center.\n",
      "\n",
      "5. cxd5: White captures the d5 pawn with the c4 pawn. This move not only recaptures the pawn but also opens up the c-file for potential rook activity and disrupts Black's pawn structure.\n",
      "\n",
      "6. e6: Black plays e6 to defend the d5 pawn that was just attacked by White's c4 pawn capture. This move also prepares to develop the dark-squared bishop to f5 or g4, and supports future pawn pushes like d5 or c5 to challenge White's center control. By playing e6, Black also looks to solidify their pawn structure and create a strong defense."
     ]
    }
   ],
   "source": [
    "stream = client.chat.completions.create(\n",
    "    model=\"gpt-3.5-turbo-0125\",\n",
    "    # messages=[{\"role\": \"user\", \"content\": setup}],\n",
    "    messages = [\n",
    "    {\n",
    "      \"role\": \"system\",\n",
    "      \"content\": \"You will be provided with a list of Algebraic Notation based chess moves, and your task is to analyse all previous moves and explain why last move was taken.\"\n",
    "    },\n",
    "    {\n",
    "      \"role\": \"user\",\n",
    "      \"content\": f\"prevous moves are {prev_moves}, analyse each move and explain why the last move {last_move} was taken.\"\n",
    "    }\n",
    "  ],\n",
    "    stream=True,\n",
    ")\n",
    "print()\n",
    "for chunk in stream:\n",
    "    if chunk.choices[0].delta.content is not None:\n",
    "        print(chunk.choices[0].delta.content, end=\"\")"
   ]
  }
 ],
 "metadata": {
  "kernelspec": {
   "display_name": "Python 3 (ipykernel)",
   "language": "python",
   "name": "python3"
  },
  "language_info": {
   "codemirror_mode": {
    "name": "ipython",
    "version": 3
   },
   "file_extension": ".py",
   "mimetype": "text/x-python",
   "name": "python",
   "nbconvert_exporter": "python",
   "pygments_lexer": "ipython3",
   "version": "3.11.4"
  }
 },
 "nbformat": 4,
 "nbformat_minor": 5
}
