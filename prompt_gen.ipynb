{
 "cells": [
  {
   "cell_type": "code",
   "execution_count": 5,
   "id": "6f45e7b1-4349-4144-bc57-24e235dd690e",
   "metadata": {
    "tags": []
   },
   "outputs": [],
   "source": [
    "import pandas as pd"
   ]
  },
  {
   "cell_type": "code",
   "execution_count": 6,
   "id": "43c69fbb-2d65-4825-b0d6-05f27e866c2e",
   "metadata": {
    "tags": []
   },
   "outputs": [
    {
     "data": {
      "text/html": [
       "<div>\n",
       "<style scoped>\n",
       "    .dataframe tbody tr th:only-of-type {\n",
       "        vertical-align: middle;\n",
       "    }\n",
       "\n",
       "    .dataframe tbody tr th {\n",
       "        vertical-align: top;\n",
       "    }\n",
       "\n",
       "    .dataframe thead th {\n",
       "        text-align: right;\n",
       "    }\n",
       "</style>\n",
       "<table border=\"1\" class=\"dataframe\">\n",
       "  <thead>\n",
       "    <tr style=\"text-align: right;\">\n",
       "      <th></th>\n",
       "      <th>opening_name</th>\n",
       "      <th>prev_moves</th>\n",
       "      <th>last_move</th>\n",
       "    </tr>\n",
       "  </thead>\n",
       "  <tbody>\n",
       "    <tr>\n",
       "      <th>0</th>\n",
       "      <td>Slav Defense: Exchange Variation</td>\n",
       "      <td>NaN</td>\n",
       "      <td>d4</td>\n",
       "    </tr>\n",
       "    <tr>\n",
       "      <th>1</th>\n",
       "      <td>Slav Defense: Exchange Variation</td>\n",
       "      <td>d4</td>\n",
       "      <td>d5</td>\n",
       "    </tr>\n",
       "    <tr>\n",
       "      <th>2</th>\n",
       "      <td>Slav Defense: Exchange Variation</td>\n",
       "      <td>d4 d5</td>\n",
       "      <td>c4</td>\n",
       "    </tr>\n",
       "    <tr>\n",
       "      <th>3</th>\n",
       "      <td>Slav Defense: Exchange Variation</td>\n",
       "      <td>d4 d5 c4</td>\n",
       "      <td>c6</td>\n",
       "    </tr>\n",
       "    <tr>\n",
       "      <th>4</th>\n",
       "      <td>Slav Defense: Exchange Variation</td>\n",
       "      <td>d4 d5 c4 c6</td>\n",
       "      <td>cxd5</td>\n",
       "    </tr>\n",
       "  </tbody>\n",
       "</table>\n",
       "</div>"
      ],
      "text/plain": [
       "                       opening_name   prev_moves last_move\n",
       "0  Slav Defense: Exchange Variation          NaN        d4\n",
       "1  Slav Defense: Exchange Variation           d4        d5\n",
       "2  Slav Defense: Exchange Variation        d4 d5        c4\n",
       "3  Slav Defense: Exchange Variation     d4 d5 c4        c6\n",
       "4  Slav Defense: Exchange Variation  d4 d5 c4 c6      cxd5"
      ]
     },
     "execution_count": 6,
     "metadata": {},
     "output_type": "execute_result"
    }
   ],
   "source": [
    "# my index column or the first column is unnamed\n",
    "df = pd.read_csv(\"./data/progressive_moves_500.csv\", index_col = 0)\n",
    "df.head()"
   ]
  },
  {
   "cell_type": "markdown",
   "id": "39ef9165-4e16-4b81-b49f-03a0c3fb2851",
   "metadata": {
    "tags": []
   },
   "source": [
    "# Loading API keys"
   ]
  },
  {
   "cell_type": "code",
   "execution_count": 10,
   "id": "943f239c-19b3-4ce1-9a6e-40a08c925a99",
   "metadata": {
    "tags": []
   },
   "outputs": [
    {
     "data": {
      "text/plain": [
       "True"
      ]
     },
     "execution_count": 10,
     "metadata": {},
     "output_type": "execute_result"
    }
   ],
   "source": [
    "import os\n",
    "from dotenv import load_dotenv\n",
    "load_dotenv()"
   ]
  },
  {
   "cell_type": "code",
   "execution_count": 12,
   "id": "b814f084-1ede-461a-8dfd-e5e2d4eb1ab2",
   "metadata": {
    "tags": []
   },
   "outputs": [],
   "source": [
    "openai_api_key = os.getenv(\"openai_api_key\")"
   ]
  },
  {
   "cell_type": "code",
   "execution_count": null,
   "id": "b52fa2e2-2526-4d3a-8190-3aa608ec422a",
   "metadata": {},
   "outputs": [],
   "source": []
  }
 ],
 "metadata": {
  "kernelspec": {
   "display_name": "Python 3 (ipykernel)",
   "language": "python",
   "name": "python3"
  },
  "language_info": {
   "codemirror_mode": {
    "name": "ipython",
    "version": 3
   },
   "file_extension": ".py",
   "mimetype": "text/x-python",
   "name": "python",
   "nbconvert_exporter": "python",
   "pygments_lexer": "ipython3",
   "version": "3.11.4"
  }
 },
 "nbformat": 4,
 "nbformat_minor": 5
}
