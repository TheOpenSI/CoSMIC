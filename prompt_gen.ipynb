{
 "cells": [
  {
   "cell_type": "code",
   "execution_count": 1,
   "id": "6f45e7b1-4349-4144-bc57-24e235dd690e",
   "metadata": {
    "tags": []
   },
   "outputs": [],
   "source": [
    "import pandas as pd"
   ]
  },
  {
   "cell_type": "code",
   "execution_count": 2,
   "id": "43c69fbb-2d65-4825-b0d6-05f27e866c2e",
   "metadata": {
    "tags": []
   },
   "outputs": [
    {
     "data": {
      "text/html": [
       "<div>\n",
       "<style scoped>\n",
       "    .dataframe tbody tr th:only-of-type {\n",
       "        vertical-align: middle;\n",
       "    }\n",
       "\n",
       "    .dataframe tbody tr th {\n",
       "        vertical-align: top;\n",
       "    }\n",
       "\n",
       "    .dataframe thead th {\n",
       "        text-align: right;\n",
       "    }\n",
       "</style>\n",
       "<table border=\"1\" class=\"dataframe\">\n",
       "  <thead>\n",
       "    <tr style=\"text-align: right;\">\n",
       "      <th></th>\n",
       "      <th>opening_name</th>\n",
       "      <th>prev_moves</th>\n",
       "      <th>last_move</th>\n",
       "    </tr>\n",
       "  </thead>\n",
       "  <tbody>\n",
       "    <tr>\n",
       "      <th>0</th>\n",
       "      <td>Slav Defense: Exchange Variation</td>\n",
       "      <td>NaN</td>\n",
       "      <td>d4</td>\n",
       "    </tr>\n",
       "    <tr>\n",
       "      <th>1</th>\n",
       "      <td>Slav Defense: Exchange Variation</td>\n",
       "      <td>d4</td>\n",
       "      <td>d5</td>\n",
       "    </tr>\n",
       "    <tr>\n",
       "      <th>2</th>\n",
       "      <td>Slav Defense: Exchange Variation</td>\n",
       "      <td>d4 d5</td>\n",
       "      <td>c4</td>\n",
       "    </tr>\n",
       "    <tr>\n",
       "      <th>3</th>\n",
       "      <td>Slav Defense: Exchange Variation</td>\n",
       "      <td>d4 d5 c4</td>\n",
       "      <td>c6</td>\n",
       "    </tr>\n",
       "    <tr>\n",
       "      <th>4</th>\n",
       "      <td>Slav Defense: Exchange Variation</td>\n",
       "      <td>d4 d5 c4 c6</td>\n",
       "      <td>cxd5</td>\n",
       "    </tr>\n",
       "  </tbody>\n",
       "</table>\n",
       "</div>"
      ],
      "text/plain": [
       "                       opening_name   prev_moves last_move\n",
       "0  Slav Defense: Exchange Variation          NaN        d4\n",
       "1  Slav Defense: Exchange Variation           d4        d5\n",
       "2  Slav Defense: Exchange Variation        d4 d5        c4\n",
       "3  Slav Defense: Exchange Variation     d4 d5 c4        c6\n",
       "4  Slav Defense: Exchange Variation  d4 d5 c4 c6      cxd5"
      ]
     },
     "execution_count": 2,
     "metadata": {},
     "output_type": "execute_result"
    }
   ],
   "source": [
    "# my index column or the first column is unnamed\n",
    "df = pd.read_csv(\"./data/progressive_moves_500.csv\", index_col = 0)\n",
    "df.head()"
   ]
  },
  {
   "cell_type": "markdown",
   "id": "39ef9165-4e16-4b81-b49f-03a0c3fb2851",
   "metadata": {
    "tags": []
   },
   "source": [
    "# Loading API keys"
   ]
  },
  {
   "cell_type": "code",
   "execution_count": 3,
   "id": "943f239c-19b3-4ce1-9a6e-40a08c925a99",
   "metadata": {
    "tags": []
   },
   "outputs": [
    {
     "data": {
      "text/plain": [
       "True"
      ]
     },
     "execution_count": 3,
     "metadata": {},
     "output_type": "execute_result"
    }
   ],
   "source": [
    "import os\n",
    "from dotenv import load_dotenv\n",
    "load_dotenv()"
   ]
  },
  {
   "cell_type": "code",
   "execution_count": 4,
   "id": "b814f084-1ede-461a-8dfd-e5e2d4eb1ab2",
   "metadata": {
    "tags": []
   },
   "outputs": [],
   "source": [
    "openai_api_key = os.getenv(\"openai_api_key\")"
   ]
  },
  {
   "cell_type": "markdown",
   "id": "32622501-7cd8-400d-b571-66f8917953d7",
   "metadata": {},
   "source": [
    "## Setting up openai api call environment"
   ]
  },
  {
   "cell_type": "code",
   "execution_count": 5,
   "id": "24a27290-e95d-4d94-8f44-5ac619242532",
   "metadata": {
    "tags": []
   },
   "outputs": [],
   "source": [
    "from openai import OpenAI\n",
    "client = OpenAI(api_key = openai_api_key)"
   ]
  },
  {
   "cell_type": "code",
   "execution_count": 6,
   "id": "704ee803-d52c-44bc-a429-399a8717d1af",
   "metadata": {
    "tags": []
   },
   "outputs": [
    {
     "data": {
      "text/plain": [
       "opening_name               Nimzowitsch Defense: Kennedy Variation\n",
       "prev_moves      d4 Nc6 e4 e5 f4 f6 dxe5 fxe5 fxe5 Nxe5 Qd4 Nc6...\n",
       "last_move                                                    Bb4+\n",
       "Name: 28, dtype: object"
      ]
     },
     "execution_count": 6,
     "metadata": {},
     "output_type": "execute_result"
    }
   ],
   "source": [
    "df.iloc[28]"
   ]
  },
  {
   "cell_type": "code",
   "execution_count": 7,
   "id": "9eab5054-f7ea-4684-b0d0-3661805a7412",
   "metadata": {
    "tags": []
   },
   "outputs": [
    {
     "data": {
      "text/plain": [
       "('d4 Nc6 e4 e5 f4 f6 dxe5 fxe5 fxe5 Nxe5 Qd4 Nc6 Qe5+ Nxe5 c4', 'Bb4+')"
      ]
     },
     "execution_count": 7,
     "metadata": {},
     "output_type": "execute_result"
    }
   ],
   "source": [
    "prev_moves, last_move = df.iloc[28][\"prev_moves\"], df.iloc[28][\"last_move\"]\n",
    "prev_moves, last_move"
   ]
  },
  {
   "cell_type": "code",
   "execution_count": 8,
   "id": "eefa1a5e-97c1-433b-ba8e-2bab38a7b90d",
   "metadata": {},
   "outputs": [],
   "source": [
    "system_content_prim = '''You will be provided with a list of chess moves in Algebraic Notation,\n",
    "            and your task is to analyse all previous moves and explain why last move was taken.'''"
   ]
  },
  {
   "cell_type": "code",
   "execution_count": 9,
   "id": "feed7bd9-408a-4dab-a690-b784f59cd866",
   "metadata": {},
   "outputs": [],
   "source": [
    "recursion_psuedo_code = '''\n",
    "function explainMoves(moves):\n",
    "    # base case\n",
    "    if len(moves) == 1:\n",
    "        return generateExplanation(moves[0])\n",
    "    \n",
    "    # recursion\n",
    "    previous_explanation = explainMoves(moves[:-1])\n",
    "    \n",
    "    # generate explanation using returned explanation and last move in the list\n",
    "    new_explanation = generateNewExplanation(previous_explanation, moves[-1])\n",
    "    \n",
    "    return new_explanation\n",
    "\n",
    "function generateExplanation(move):\n",
    "    return explain_the_move-{move}\n",
    "\n",
    "function generateNewExplanation(previous_explanation, move):\n",
    "    return explain_the_move_{move}_based_on_previous_explanation\n",
    "\n",
    "'''"
   ]
  },
  {
   "cell_type": "code",
   "execution_count": 11,
   "id": "3862e786-ddba-43c5-b475-84c7098d878f",
   "metadata": {},
   "outputs": [],
   "source": [
    "system_content_recur = f'''Assume you are a chess master.\n",
    "            You will be provided with a list of chess moves in Algebraic Notation,\n",
    "            and your task is to recursively analyse each previous move.\n",
    "            A pseudo code for such recursive function is provided here - {recursion_psuedo_code}'''"
   ]
  },
  {
   "cell_type": "code",
   "execution_count": 12,
   "id": "6e9984db-81bf-4d65-b575-13fda5ea7a00",
   "metadata": {},
   "outputs": [],
   "source": [
    "user_content = f\"previous moves are {prev_moves}, analyse each move and explain why the last move {last_move} was taken.\""
   ]
  },
  {
   "cell_type": "markdown",
   "id": "309f81b5-f58e-4efe-a3f2-8dc888e4e6a4",
   "metadata": {},
   "source": [
    "- wrong explanation dxe5: This move is a capture of the f6 pawn, gaining material advantage.\n",
    "- from explanation 9, everything is wrong cause it escaped the repeat fxe5\n"
   ]
  },
  {
   "cell_type": "code",
   "execution_count": 15,
   "id": "0e8f696b-c3d1-41a5-b559-3ae710733aea",
   "metadata": {
    "tags": []
   },
   "outputs": [
    {
     "name": "stdout",
     "output_type": "stream",
     "text": [
      "\n",
      "Here is the recursive implementation in pseudo code to analyse each move:\n",
      "\n",
      "```\n",
      "function explainMoves(moves):\n",
      "    # base case\n",
      "    if len(moves) == 1:\n",
      "        return generateExplanation(moves[0])\n",
      "    \n",
      "    # recursion\n",
      "    previous_explanation = explainMoves(moves[:-1])\n",
      "    \n",
      "    # generate explanation using returned explanation and last move in the list\n",
      "    new_explanation = generateNewExplanation(previous_explanation, moves[-1])\n",
      "    \n",
      "    return new_explanation\n",
      "\n",
      "function generateExplanation(move):\n",
      "    return explain_the_move_{move}\n",
      "\n",
      "function generateNewExplanation(previous_explanation, move):\n",
      "    return explain_the_move_{move}_based_on_previous_explanation\n",
      "```\n",
      "\n",
      "To breakdown each move:\n",
      "\n",
      "1. d4: This move is the Queen's Pawn Opening. It controls the central squares and prepares for development.\n",
      "2. Nc6: This move is the Knight development and prepares for central control. It also prevents White from playing e4.\n",
      "3. e4: This move is the King's Pawn Opening, controlling the center and preparing for development.\n",
      "4. e5: This move is a response by Black to challenge White's central control, aiming for a central pawn break.\n",
      "5. f4: This move is the King's Gambit, sacrificing a pawn for quick development and attacking chances.\n",
      "6. f6: This move is a defense by Black to counter White's King's Gambit and protect the e5 pawn.\n",
      "7. dxe5: This move is a capture of the f6 pawn, gaining material advantage.\n",
      "8. fxe5: This move is a counter-capture by Black to regain the lost pawn.\n",
      "9. Nxe5: This move is a Knight development by White, targeting Black's weakened pawn structure.\n",
      "10. Qd4: This move is a Queen move, targeting the weak f7 square and preparing to castle kingside.\n",
      "11. Nc6: This move is a Knight fork attacking the queen and the White king.\n",
      "12. Qe5+: This move is a check by White, forcing Black to move the king or block with a piece.\n",
      "13. Nxe5: This move is a capture of the knight with the queen, gaining material advantage.\n",
      "14. c4: This move is a pawn push, controlling the center and preparing for development.\n",
      "\n",
      "Now, let's analyse the last move Bb4+:\n",
      "\n",
      "The move Bb4+ is a Bishop check. It is a tactical move to disrupt the opponent's position. By moving the bishop to b4 and giving a check, Black is forcing White to either move the king or block the check with a piece. This move can lead to further tactical opportunities for Black to gain an advantage in the game."
     ]
    }
   ],
   "source": [
    "stream = client.chat.completions.create(\n",
    "    model=\"gpt-3.5-turbo-0125\",\n",
    "    # messages=[{\"role\": \"user\", \"content\": setup}],\n",
    "    messages = [\n",
    "    {\n",
    "      \"role\": \"system\",\n",
    "      \"content\": system_content_recur\n",
    "    },\n",
    "    {\n",
    "      \"role\": \"user\",\n",
    "      \"content\": user_content\n",
    "    }\n",
    "  ],\n",
    "    stream=True,\n",
    ")\n",
    "print()\n",
    "for chunk in stream:\n",
    "    if chunk.choices[0].delta.content is not None:\n",
    "        print(chunk.choices[0].delta.content, end=\"\")"
   ]
  },
  {
   "cell_type": "markdown",
   "id": "0cd29917-58e9-43c5-bdda-7518eb200a73",
   "metadata": {},
   "source": [
    "# Testing the prim prompt"
   ]
  },
  {
   "cell_type": "code",
   "execution_count": 17,
   "id": "c154850c-6c52-44d0-8252-0a7ff5ffd4be",
   "metadata": {},
   "outputs": [
    {
     "name": "stdout",
     "output_type": "stream",
     "text": [
      "\n",
      "1. d4 - This move opens up the center and allows White to control the central squares d4 and e4. It also prepares for development of White's pieces.\n",
      "\n",
      "2. Nc6 - Black develops the knight to a central square, preparing for further development and control of the center.\n",
      "\n",
      "3. e4 - White expands in the center and continues development of their pieces.\n",
      "\n",
      "4. e5 - Black counters in the center by challenging White's central pawn and gaining space.\n",
      "\n",
      "5. f4 - White continues to push forward in the center, gaining more space and threatening Black's e5 pawn.\n",
      "\n",
      "6. f6 - Black defends the e5 pawn and gains control over the central square on f6.\n",
      "\n",
      "7. dxe5 - White captures the e5 pawn and gains material advantage.\n",
      "\n",
      "8. fxe5 - Black recaptures the pawn on e5 to regain material equality.\n",
      "\n",
      "9. Nxe5 - White attacks the knight on e5 and gains a tempo.\n",
      "\n",
      "10. Qd4 - White brings the queen out, attacking the knight on c6 and preparing to castle kingside.\n",
      "\n",
      "11. Nc6 - Black defends the attacked knight on c6 and also attacks White's queen on d4.\n",
      "\n",
      "12. Qe5+ - White checks the black king and forces it to move.\n",
      "\n",
      "13. Nxe5 - Black captures the knight on e5, getting rid of the attacking piece and regaining material advantage.\n",
      "\n",
      "14. c4 - White moves the c-pawn forward to gain more central control and prepare for further development.\n",
      "\n",
      "15. Bb4+ - Black pins the White king's knight to its queen, introducing a checked by discovered check, potentially leading to a favorable endgame or a quicker decisive win."
     ]
    }
   ],
   "source": [
    "stream = client.chat.completions.create(\n",
    "    model=\"gpt-3.5-turbo-0125\",\n",
    "    # messages=[{\"role\": \"user\", \"content\": setup}],\n",
    "    messages = [\n",
    "    {\n",
    "      \"role\": \"system\",\n",
    "      \"content\": system_content_prim\n",
    "    },\n",
    "    {\n",
    "      \"role\": \"user\",\n",
    "      \"content\": user_content\n",
    "    }\n",
    "  ],\n",
    "    stream=True,\n",
    ")\n",
    "print()\n",
    "for chunk in stream:\n",
    "    if chunk.choices[0].delta.content is not None:\n",
    "        print(chunk.choices[0].delta.content, end=\"\")"
   ]
  },
  {
   "cell_type": "markdown",
   "id": "d5775357-1a60-4cce-9387-b69cddabc7cd",
   "metadata": {},
   "source": [
    "# for loop explicit chain of thougt prompting"
   ]
  },
  {
   "cell_type": "code",
   "execution_count": 45,
   "id": "4ece9c15-4c15-4efa-ac64-a2bee6a59fea",
   "metadata": {},
   "outputs": [],
   "source": [
    "def gen_cot_prompt(prev_moves : str, last_move : str) -> str:\n",
    "    prev_moves = (prev_moves+f\" {last_move}\").split(\" \")\n",
    "    cot_moves = [f\"White: {prev_moves[i]}, Black: {prev_moves[i+1]}\" if i + 1 < len(prev_moves) else f\"White: {prev_moves[i]}\" for i in range(0, len(prev_moves), 2)]\n",
    "    return cot_moves"
   ]
  },
  {
   "cell_type": "code",
   "execution_count": 46,
   "id": "69c54969-e344-4add-8ab0-b2c9c22de812",
   "metadata": {},
   "outputs": [
    {
     "name": "stdout",
     "output_type": "stream",
     "text": [
      "White: d4, Black: Nc6\n",
      "White: e4, Black: e5\n",
      "White: f4, Black: f6\n",
      "White: dxe5, Black: fxe5\n",
      "White: fxe5, Black: Nxe5\n",
      "White: Qd4, Black: Nc6\n",
      "White: Qe5+, Black: Nxe5\n",
      "White: c4, Black: Bb4+\n"
     ]
    }
   ],
   "source": [
    "print(\"\\n\".join(gen_cot_prompt(prev_moves, last_move)))"
   ]
  },
  {
   "cell_type": "code",
   "execution_count": 48,
   "id": "1c33379c-9ea9-4068-9e11-9542e72ed417",
   "metadata": {},
   "outputs": [],
   "source": [
    "system_content_cot = '''Assume you are a chess master.\n",
    "You will be provided with a list of chess move pairs in Algebraic Notation where 1st move is by White and 2nd by Black.\n",
    "Your task is to analyse each pair and then generate the rationale behind the last move.\n",
    "'''\n",
    "user_content_cot = f\"Previous move pairs are - {gen_cot_prompt(prev_moves, last_move)}, last move is {last_move}\""
   ]
  },
  {
   "cell_type": "code",
   "execution_count": 49,
   "id": "6651b569-e260-4dd0-8e6b-4a7f08fecf93",
   "metadata": {},
   "outputs": [
    {
     "name": "stdout",
     "output_type": "stream",
     "text": [
      "\n",
      "In the given chess game, the last move played was Black's Bishop moving to b4+ (Bb4+). \n",
      "\n",
      "Analyzing the previous moves:\n",
      "1. White played d4, which is a common opening move controlling the center and allowing the queen and bishop to develop.\n",
      "2. Black responded with Nc6, developing the knight and preparing for further development. \n",
      "3. White played e4, reinforcing the center and preparing for the development of the bishop and queen.\n",
      "4. Black mirrored White's move with e5, also controlling the center. \n",
      "5. White played f4, advancing the pawn to support the center and potentially preparing for a kingside attack.\n",
      "6. Black responded with f6, challenging White's pawn and preparing to advance in the center.\n",
      "7. White captured Black's pawn with dxe5, gaining material advantage.\n",
      "8. Black captured White's pawn with fxe5, regaining the material.\n",
      "9. White captured Black's knight with fxe5, aiming to maintain the material advantage. \n",
      "10. Black moved the knight to c6, attacking White's queen and preparing for further development.\n",
      "11. White moved the queen to d4, eyeing potential threats and maintaining control of the center.\n",
      "12. Black blocked White's queen with the move Nc6, protecting the d4 square.\n",
      "13. White played Qe5+, checking the black king and forcing Black to respond to the threat.\n",
      "14. Black captured White's queen with Nxe5, eluding the check and gaining a material advantage.\n",
      "15. White played c4, aiming to support the center and potentially prepare for fianchettoing the bishop.\n",
      "16. Finally, Black played Bb4+, checking the White king with the bishop.\n",
      "\n",
      "The rationale behind Black's last move Bb4+ may vary depending on the specific position and tactical opportunities. However, in general, Bb4+ checks the White king, potentially disrupting White's plans and forcing a response. It also opens up possibilities for further attacks and development, ensuring that the game remains dynamic and competitive."
     ]
    }
   ],
   "source": [
    "stream = client.chat.completions.create(\n",
    "    model=\"gpt-3.5-turbo-0125\",\n",
    "    # messages=[{\"role\": \"user\", \"content\": setup}],\n",
    "    messages = [\n",
    "    {\n",
    "      \"role\": \"system\",\n",
    "      \"content\": system_content_cot\n",
    "    },\n",
    "    {\n",
    "      \"role\": \"user\",\n",
    "      \"content\": user_content_cot\n",
    "    }\n",
    "  ],\n",
    "    stream=True,\n",
    ")\n",
    "print()\n",
    "for chunk in stream:\n",
    "    if chunk.choices[0].delta.content is not None:\n",
    "        print(chunk.choices[0].delta.content, end=\"\")"
   ]
  },
  {
   "cell_type": "code",
   "execution_count": null,
   "id": "5c2d4b09-b83a-4e27-b709-1a1eba4b6a6c",
   "metadata": {},
   "outputs": [],
   "source": []
  }
 ],
 "metadata": {
  "kernelspec": {
   "display_name": "Python 3 (ipykernel)",
   "language": "python",
   "name": "python3"
  },
  "language_info": {
   "codemirror_mode": {
    "name": "ipython",
    "version": 3
   },
   "file_extension": ".py",
   "mimetype": "text/x-python",
   "name": "python",
   "nbconvert_exporter": "python",
   "pygments_lexer": "ipython3",
   "version": "3.10.14"
  }
 },
 "nbformat": 4,
 "nbformat_minor": 5
}
