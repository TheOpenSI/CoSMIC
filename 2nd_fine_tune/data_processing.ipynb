{
 "cells": [
  {
   "cell_type": "code",
   "execution_count": 1,
   "id": "192c1ffc-563d-40db-b95c-50e5effad5f8",
   "metadata": {},
   "outputs": [
    {
     "data": {
      "text/plain": [
       "['RAFT', 'fen_parsing.txt', 'capture_explanation.csv', '.ipynb_checkpoints']"
      ]
     },
     "execution_count": 1,
     "metadata": {},
     "output_type": "execute_result"
    }
   ],
   "source": [
    "import os\n",
    "import pandas as pd\n",
    "os.listdir(\"../data/2nd_finetune/\")"
   ]
  },
  {
   "cell_type": "markdown",
   "id": "1751a5d0-ef7a-475b-8ea0-92b4e67d8386",
   "metadata": {},
   "source": [
    "# RAFT"
   ]
  },
  {
   "cell_type": "code",
   "execution_count": 2,
   "id": "2d502bca-1c62-47d4-a833-fb6c9823b6f0",
   "metadata": {},
   "outputs": [],
   "source": [
    "raft_df = pd.DataFrame(columns=[\"Question\", \"Context\", \"Answer\"])"
   ]
  },
  {
   "cell_type": "code",
   "execution_count": 3,
   "id": "1230e600-b739-4b99-b4fa-89ee63c6b917",
   "metadata": {},
   "outputs": [
    {
     "data": {
      "text/plain": [
       "['raft.csv',\n",
       " '.ipynb_checkpoints',\n",
       " 'questions.txt',\n",
       " 'raft.txt',\n",
       " 'raft_o_c.txt',\n",
       " 'raft_some_o_c.txt']"
      ]
     },
     "execution_count": 3,
     "metadata": {},
     "output_type": "execute_result"
    }
   ],
   "source": [
    "os.listdir(\"../data/2nd_finetune/RAFT/\")"
   ]
  },
  {
   "cell_type": "code",
   "execution_count": 4,
   "id": "d197293f-6185-4713-a681-c11f780087df",
   "metadata": {},
   "outputs": [],
   "source": [
    "# context\n",
    "from typing import List\n",
    "from llama_index.core import SimpleDirectoryReader\n",
    "from langchain.text_splitter import RecursiveCharacterTextSplitter\n",
    "\n",
    "def get_doc_chunk(file_path: str, separators: List[str] = [\"\\n\\n\", \"\\n\"]) -> List[str]:\n",
    "    docs = SimpleDirectoryReader(file_path).load_data()\n",
    "    text_splitter = RecursiveCharacterTextSplitter(\n",
    "        chunk_size = 500,\n",
    "        separators = separators,\n",
    "        is_separator_regex = False\n",
    "        )\n",
    "    \n",
    "    # we have a single document only\n",
    "    chunks = text_splitter.split_text(docs[0].text)\n",
    "    \n",
    "    return [chunk.replace(\"\\n\", \" \") for chunk in chunks]\n",
    "\n",
    "docs = get_doc_chunk(\"../RAFT/text/\")"
   ]
  },
  {
   "cell_type": "code",
   "execution_count": 5,
   "id": "21f5aeac-298b-44c4-b963-18f8f12ca808",
   "metadata": {},
   "outputs": [
    {
     "data": {
      "text/plain": [
       "18"
      ]
     },
     "execution_count": 5,
     "metadata": {},
     "output_type": "execute_result"
    }
   ],
   "source": [
    "len(docs)"
   ]
  },
  {
   "cell_type": "markdown",
   "id": "4cad8384-9a00-497c-947c-2658c51c5c54",
   "metadata": {},
   "source": [
    "### 1 relevant context"
   ]
  },
  {
   "cell_type": "code",
   "execution_count": 46,
   "id": "293e760d-09d9-4ca0-9d0a-5531378896a7",
   "metadata": {},
   "outputs": [],
   "source": [
    "raft_main = open(\"../data/2nd_finetune/RAFT/raft.txt\", \"r\").read()"
   ]
  },
  {
   "cell_type": "code",
   "execution_count": 47,
   "id": "0efa90a7-0e83-47bc-a5bf-c16c02f3ce57",
   "metadata": {},
   "outputs": [],
   "source": [
    "# Splitting the file content into multiple entries based on the delimiter '=====\\n'\n",
    "entries = raft_main.split('=====\\n')\n",
    "\n",
    "# Initialize empty lists to store questions, answers, contexts, and indices\n",
    "questions = []\n",
    "answers = []\n",
    "contexts = []\n",
    "\n",
    "# need to process entries in chunks of 4 parts (question, answer, context, index)\n",
    "for i in range(0, len(entries) - 1, 4):\n",
    "    try:\n",
    "        # Extract and strip the parts\n",
    "        question = entries[i].strip()\n",
    "        answer = entries[i + 1].strip()\n",
    "        index = int(entries[i + 3].strip())\n",
    "\n",
    "        # Append the parts to the respective lists\n",
    "        questions.append(question)\n",
    "        answers.append(answer)\n",
    "        contexts.append(docs[index])\n",
    "    except (IndexError, ValueError) as e:\n",
    "        print(f\"Skipping malformed entry at index {i}: {e}\")"
   ]
  },
  {
   "cell_type": "code",
   "execution_count": 48,
   "id": "2c4c24de-4135-48f3-b9cc-d1175e1b511f",
   "metadata": {},
   "outputs": [
    {
     "data": {
      "text/plain": [
       "(36, 36, 36)"
      ]
     },
     "execution_count": 48,
     "metadata": {},
     "output_type": "execute_result"
    }
   ],
   "source": [
    "len(questions), len(contexts), len(answers)"
   ]
  },
  {
   "cell_type": "code",
   "execution_count": 49,
   "id": "7baf21b2-d25e-4182-94d7-6e85714695b0",
   "metadata": {},
   "outputs": [],
   "source": [
    "data = {\n",
    "    \"Question\": questions,\n",
    "    \"Context\": contexts,\n",
    "    \"Answer\": answers\n",
    "}\n",
    "\n",
    "raft_main_df = pd.DataFrame(data)"
   ]
  },
  {
   "cell_type": "code",
   "execution_count": 50,
   "id": "0eeb11b4-0af0-41b5-a7cb-128443a9e3c0",
   "metadata": {},
   "outputs": [
    {
     "data": {
      "text/html": [
       "<div>\n",
       "<style scoped>\n",
       "    .dataframe tbody tr th:only-of-type {\n",
       "        vertical-align: middle;\n",
       "    }\n",
       "\n",
       "    .dataframe tbody tr th {\n",
       "        vertical-align: top;\n",
       "    }\n",
       "\n",
       "    .dataframe thead th {\n",
       "        text-align: right;\n",
       "    }\n",
       "</style>\n",
       "<table border=\"1\" class=\"dataframe\">\n",
       "  <thead>\n",
       "    <tr style=\"text-align: right;\">\n",
       "      <th></th>\n",
       "      <th>Question</th>\n",
       "      <th>Context</th>\n",
       "      <th>Answer</th>\n",
       "    </tr>\n",
       "  </thead>\n",
       "  <tbody>\n",
       "    <tr>\n",
       "      <th>0</th>\n",
       "      <td>Who are Tardo and Peo in \"DISQUALIFIED\" by Cha...</td>\n",
       "      <td>DISQUALIFIED  BY CHARLES L. FONTENAY   After t...</td>\n",
       "      <td>To determine who Tardo and Peo are in \"DISQUAL...</td>\n",
       "    </tr>\n",
       "    <tr>\n",
       "      <th>1</th>\n",
       "      <td>What is the significance of the castle overloo...</td>\n",
       "      <td>DISQUALIFIED  BY CHARLES L. FONTENAY   After t...</td>\n",
       "      <td>To determine the significance of the castle ov...</td>\n",
       "    </tr>\n",
       "    <tr>\n",
       "      <th>2</th>\n",
       "      <td>Who entertained Tardo and Peo at luncheon?</td>\n",
       "      <td>After the morning inspection tour, Tardo, the ...</td>\n",
       "      <td>To answer the question \"Who entertained Tardo ...</td>\n",
       "    </tr>\n",
       "    <tr>\n",
       "      <th>3</th>\n",
       "      <td>What was served for dessert?</td>\n",
       "      <td>After the morning inspection tour, Tardo, the ...</td>\n",
       "      <td>To determine what was served for dessert, we n...</td>\n",
       "    </tr>\n",
       "    <tr>\n",
       "      <th>4</th>\n",
       "      <td>What technical aid is available aboard the ship?</td>\n",
       "      <td>\"My recommendation will be of considerable imp...</td>\n",
       "      <td>To answer the question \"What technical aid is ...</td>\n",
       "    </tr>\n",
       "  </tbody>\n",
       "</table>\n",
       "</div>"
      ],
      "text/plain": [
       "                                            Question  \\\n",
       "0  Who are Tardo and Peo in \"DISQUALIFIED\" by Cha...   \n",
       "1  What is the significance of the castle overloo...   \n",
       "2         Who entertained Tardo and Peo at luncheon?   \n",
       "3                       What was served for dessert?   \n",
       "4   What technical aid is available aboard the ship?   \n",
       "\n",
       "                                             Context  \\\n",
       "0  DISQUALIFIED  BY CHARLES L. FONTENAY   After t...   \n",
       "1  DISQUALIFIED  BY CHARLES L. FONTENAY   After t...   \n",
       "2  After the morning inspection tour, Tardo, the ...   \n",
       "3  After the morning inspection tour, Tardo, the ...   \n",
       "4  \"My recommendation will be of considerable imp...   \n",
       "\n",
       "                                              Answer  \n",
       "0  To determine who Tardo and Peo are in \"DISQUAL...  \n",
       "1  To determine the significance of the castle ov...  \n",
       "2  To answer the question \"Who entertained Tardo ...  \n",
       "3  To determine what was served for dessert, we n...  \n",
       "4  To answer the question \"What technical aid is ...  "
      ]
     },
     "execution_count": 50,
     "metadata": {},
     "output_type": "execute_result"
    }
   ],
   "source": [
    "raft_main_df.head()"
   ]
  },
  {
   "cell_type": "markdown",
   "id": "7d186484-1658-4b17-a830-3ae65c65bcfa",
   "metadata": {},
   "source": [
    "### out of context"
   ]
  },
  {
   "cell_type": "code",
   "execution_count": 51,
   "id": "9a71b380-b952-4668-9665-508601167340",
   "metadata": {},
   "outputs": [],
   "source": [
    "o_c_raft = open(\"../data/2nd_finetune/RAFT/raft_o_c.txt\").read()"
   ]
  },
  {
   "cell_type": "code",
   "execution_count": 52,
   "id": "4b874e8d-fb35-4041-a151-4052cb6b2850",
   "metadata": {},
   "outputs": [],
   "source": [
    "entries = o_c_raft.split('=====\\n')\n",
    "\n",
    "questions = []\n",
    "answers = []\n",
    "contexts = []\n",
    "\n",
    "for i in range(0, len(entries) - 1, 3):\n",
    "    try:\n",
    "        question = entries[i].strip()\n",
    "        answer = entries[i + 1].strip()\n",
    "        context = entries[i + 2].strip()\n",
    "\n",
    "        questions.append(question)\n",
    "        answers.append(answer)\n",
    "        contexts.append(context)\n",
    "    except (IndexError, ValueError) as e:\n",
    "        print(f\"Skipping malformed entry at index {i}: {e}\")"
   ]
  },
  {
   "cell_type": "code",
   "execution_count": 53,
   "id": "e2e50bbb-326c-4037-9a6a-5942574fa31a",
   "metadata": {},
   "outputs": [],
   "source": [
    "data = {\n",
    "    \"Question\": questions,\n",
    "    \"Context\": contexts,\n",
    "    \"Answer\": answers\n",
    "}\n",
    "\n",
    "raft_o_c = pd.DataFrame(data)"
   ]
  },
  {
   "cell_type": "code",
   "execution_count": 54,
   "id": "c68875da-a31f-46cf-8a5a-e2cae59505b5",
   "metadata": {},
   "outputs": [
    {
     "data": {
      "text/html": [
       "<div>\n",
       "<style scoped>\n",
       "    .dataframe tbody tr th:only-of-type {\n",
       "        vertical-align: middle;\n",
       "    }\n",
       "\n",
       "    .dataframe tbody tr th {\n",
       "        vertical-align: top;\n",
       "    }\n",
       "\n",
       "    .dataframe thead th {\n",
       "        text-align: right;\n",
       "    }\n",
       "</style>\n",
       "<table border=\"1\" class=\"dataframe\">\n",
       "  <thead>\n",
       "    <tr style=\"text-align: right;\">\n",
       "      <th></th>\n",
       "      <th>Question</th>\n",
       "      <th>Context</th>\n",
       "      <th>Answer</th>\n",
       "    </tr>\n",
       "  </thead>\n",
       "  <tbody>\n",
       "    <tr>\n",
       "      <th>0</th>\n",
       "      <td>What is the capital of France?</td>\n",
       "      <td>DISQUALIFIED  BY CHARLES L. FONTENAY   After t...</td>\n",
       "      <td>The context provided is a science fiction stor...</td>\n",
       "    </tr>\n",
       "    <tr>\n",
       "      <th>1</th>\n",
       "      <td>What is the capital of Japan?</td>\n",
       "      <td>After the morning inspection tour, Tardo, the ...</td>\n",
       "      <td>The context provided does not directly mention...</td>\n",
       "    </tr>\n",
       "    <tr>\n",
       "      <th>2</th>\n",
       "      <td>What is the capital of Canada?</td>\n",
       "      <td>\"My recommendation will be of considerable imp...</td>\n",
       "      <td>The context provided does not contain any rele...</td>\n",
       "    </tr>\n",
       "    <tr>\n",
       "      <th>3</th>\n",
       "      <td>What is the capital of Australia?</td>\n",
       "      <td>\"I'm afraid our culture is too simple and agra...</td>\n",
       "      <td>The context provided does not contain any rele...</td>\n",
       "    </tr>\n",
       "    <tr>\n",
       "      <th>4</th>\n",
       "      <td>What is the capital of Azerbaijan?</td>\n",
       "      <td>\"We really feel that we have done well since w...</td>\n",
       "      <td>The context provided does not contain any rele...</td>\n",
       "    </tr>\n",
       "  </tbody>\n",
       "</table>\n",
       "</div>"
      ],
      "text/plain": [
       "                             Question  \\\n",
       "0      What is the capital of France?   \n",
       "1       What is the capital of Japan?   \n",
       "2      What is the capital of Canada?   \n",
       "3   What is the capital of Australia?   \n",
       "4  What is the capital of Azerbaijan?   \n",
       "\n",
       "                                             Context  \\\n",
       "0  DISQUALIFIED  BY CHARLES L. FONTENAY   After t...   \n",
       "1  After the morning inspection tour, Tardo, the ...   \n",
       "2  \"My recommendation will be of considerable imp...   \n",
       "3  \"I'm afraid our culture is too simple and agra...   \n",
       "4  \"We really feel that we have done well since w...   \n",
       "\n",
       "                                              Answer  \n",
       "0  The context provided is a science fiction stor...  \n",
       "1  The context provided does not directly mention...  \n",
       "2  The context provided does not contain any rele...  \n",
       "3  The context provided does not contain any rele...  \n",
       "4  The context provided does not contain any rele...  "
      ]
     },
     "execution_count": 54,
     "metadata": {},
     "output_type": "execute_result"
    }
   ],
   "source": [
    "raft_o_c.head()"
   ]
  },
  {
   "cell_type": "markdown",
   "id": "54d7e74f-2a70-448c-a8fc-2ce177d4d4e8",
   "metadata": {},
   "source": [
    "### some context"
   ]
  },
  {
   "cell_type": "code",
   "execution_count": 55,
   "id": "a7a40ba1-1297-4b86-9878-88199b27947b",
   "metadata": {},
   "outputs": [],
   "source": [
    "some_o_c_raft = open(\"../data/2nd_finetune/RAFT/raft_some_o_c.txt\").read()"
   ]
  },
  {
   "cell_type": "code",
   "execution_count": 56,
   "id": "1880fdb7-8432-45d9-9ea3-8f326c26c777",
   "metadata": {},
   "outputs": [],
   "source": [
    "entries = some_o_c_raft.split('=====\\n')\n",
    "\n",
    "questions = []\n",
    "answers = []\n",
    "contexts = []\n",
    "\n",
    "for i in range(0, len(entries) - 1, 3):\n",
    "    try:\n",
    "        question = entries[i].strip()\n",
    "        context = entries[i + 1].strip()\n",
    "        answer = entries[i + 2].strip()\n",
    "\n",
    "        questions.append(question)\n",
    "        answers.append(answer)\n",
    "        contexts.append(context)\n",
    "    except (IndexError, ValueError) as e:\n",
    "        print(f\"Skipping malformed entry at index {i}: {e}\")"
   ]
  },
  {
   "cell_type": "code",
   "execution_count": 58,
   "id": "54a391c9-5df2-4acb-b8b8-1682ac48ea9b",
   "metadata": {},
   "outputs": [],
   "source": [
    "data = {\n",
    "    \"Question\": questions,\n",
    "    \"Context\": contexts,\n",
    "    \"Answer\": answers\n",
    "}\n",
    "\n",
    "raft_some_o_c = pd.DataFrame(data)"
   ]
  },
  {
   "cell_type": "code",
   "execution_count": 59,
   "id": "e6d41de2-3a6e-4a64-b529-c1809c9b6039",
   "metadata": {},
   "outputs": [
    {
     "data": {
      "text/html": [
       "<div>\n",
       "<style scoped>\n",
       "    .dataframe tbody tr th:only-of-type {\n",
       "        vertical-align: middle;\n",
       "    }\n",
       "\n",
       "    .dataframe tbody tr th {\n",
       "        vertical-align: top;\n",
       "    }\n",
       "\n",
       "    .dataframe thead th {\n",
       "        text-align: right;\n",
       "    }\n",
       "</style>\n",
       "<table border=\"1\" class=\"dataframe\">\n",
       "  <thead>\n",
       "    <tr style=\"text-align: right;\">\n",
       "      <th></th>\n",
       "      <th>Question</th>\n",
       "      <th>Context</th>\n",
       "      <th>Answer</th>\n",
       "    </tr>\n",
       "  </thead>\n",
       "  <tbody>\n",
       "    <tr>\n",
       "      <th>0</th>\n",
       "      <td>Who are Tardo and Peo in \"DISQUALIFIED\" by Cha...</td>\n",
       "      <td>DISQUALIFIED  BY CHARLES L. FONTENAY   After t...</td>\n",
       "      <td>Given the context provided, Tardo and Peo are ...</td>\n",
       "    </tr>\n",
       "    <tr>\n",
       "      <th>1</th>\n",
       "      <td>What is the significance of the castle overloo...</td>\n",
       "      <td>DISQUALIFIED  BY CHARLES L. FONTENAY   After t...</td>\n",
       "      <td>Given the context provided, the significance o...</td>\n",
       "    </tr>\n",
       "    <tr>\n",
       "      <th>2</th>\n",
       "      <td>Who entertained Tardo and Peo at luncheon?</td>\n",
       "      <td>After the morning inspection tour, Tardo, the ...</td>\n",
       "      <td>Given the context provided, we can see that Ta...</td>\n",
       "    </tr>\n",
       "    <tr>\n",
       "      <th>3</th>\n",
       "      <td>What was served for dessert?</td>\n",
       "      <td>After the morning inspection tour, Tardo, the ...</td>\n",
       "      <td>To answer the question \"What was served for de...</td>\n",
       "    </tr>\n",
       "    <tr>\n",
       "      <th>4</th>\n",
       "      <td>What technical aid is available aboard the ship?</td>\n",
       "      <td>\"My recommendation will be of considerable imp...</td>\n",
       "      <td>The context provided indicates that there is c...</td>\n",
       "    </tr>\n",
       "  </tbody>\n",
       "</table>\n",
       "</div>"
      ],
      "text/plain": [
       "                                            Question  \\\n",
       "0  Who are Tardo and Peo in \"DISQUALIFIED\" by Cha...   \n",
       "1  What is the significance of the castle overloo...   \n",
       "2         Who entertained Tardo and Peo at luncheon?   \n",
       "3                       What was served for dessert?   \n",
       "4   What technical aid is available aboard the ship?   \n",
       "\n",
       "                                             Context  \\\n",
       "0  DISQUALIFIED  BY CHARLES L. FONTENAY   After t...   \n",
       "1  DISQUALIFIED  BY CHARLES L. FONTENAY   After t...   \n",
       "2  After the morning inspection tour, Tardo, the ...   \n",
       "3  After the morning inspection tour, Tardo, the ...   \n",
       "4  \"My recommendation will be of considerable imp...   \n",
       "\n",
       "                                              Answer  \n",
       "0  Given the context provided, Tardo and Peo are ...  \n",
       "1  Given the context provided, the significance o...  \n",
       "2  Given the context provided, we can see that Ta...  \n",
       "3  To answer the question \"What was served for de...  \n",
       "4  The context provided indicates that there is c...  "
      ]
     },
     "execution_count": 59,
     "metadata": {},
     "output_type": "execute_result"
    }
   ],
   "source": [
    "raft_some_o_c.head()"
   ]
  },
  {
   "cell_type": "code",
   "execution_count": 60,
   "id": "ac305861-1c43-4f52-b66d-5109fd610cb3",
   "metadata": {},
   "outputs": [],
   "source": [
    "raft_df = pd.concat([raft_main_df, raft_o_c, raft_some_o_c], ignore_index=True).sample(frac=1).reset_index(drop=True)"
   ]
  },
  {
   "cell_type": "code",
   "execution_count": 61,
   "id": "809b6a62-ccfa-455a-9e4f-e2c2a214581d",
   "metadata": {},
   "outputs": [
    {
     "data": {
      "text/html": [
       "<div>\n",
       "<style scoped>\n",
       "    .dataframe tbody tr th:only-of-type {\n",
       "        vertical-align: middle;\n",
       "    }\n",
       "\n",
       "    .dataframe tbody tr th {\n",
       "        vertical-align: top;\n",
       "    }\n",
       "\n",
       "    .dataframe thead th {\n",
       "        text-align: right;\n",
       "    }\n",
       "</style>\n",
       "<table border=\"1\" class=\"dataframe\">\n",
       "  <thead>\n",
       "    <tr style=\"text-align: right;\">\n",
       "      <th></th>\n",
       "      <th>Question</th>\n",
       "      <th>Context</th>\n",
       "      <th>Answer</th>\n",
       "    </tr>\n",
       "  </thead>\n",
       "  <tbody>\n",
       "    <tr>\n",
       "      <th>0</th>\n",
       "      <td>What is the reason why the ship just rusted away?</td>\n",
       "      <td>\"We really feel that we have done well since w...</td>\n",
       "      <td>The context provided discusses a conversation ...</td>\n",
       "    </tr>\n",
       "    <tr>\n",
       "      <th>1</th>\n",
       "      <td>What was the reason for having to walk on the ...</td>\n",
       "      <td>Tardo had seemed most intent on the question o...</td>\n",
       "      <td>To answer the question \"What was the reason fo...</td>\n",
       "    </tr>\n",
       "    <tr>\n",
       "      <th>2</th>\n",
       "      <td>What was the reason for having to walk on the ...</td>\n",
       "      <td>Tardo had seemed most intent on the question o...</td>\n",
       "      <td>Given the context provided, the reason for hav...</td>\n",
       "    </tr>\n",
       "    <tr>\n",
       "      <th>3</th>\n",
       "      <td>Who is responsible for working the fields on t...</td>\n",
       "      <td>Saranta apologized for their having to walk, e...</td>\n",
       "      <td>Given the context provided, Saranta mentioned ...</td>\n",
       "    </tr>\n",
       "    <tr>\n",
       "      <th>4</th>\n",
       "      <td>Who are Tardo and Peo in \"DISQUALIFIED\" by Cha...</td>\n",
       "      <td>DISQUALIFIED  BY CHARLES L. FONTENAY   After t...</td>\n",
       "      <td>To determine who Tardo and Peo are in \"DISQUAL...</td>\n",
       "    </tr>\n",
       "    <tr>\n",
       "      <th>5</th>\n",
       "      <td>Why did colonizing ships have to depend on nat...</td>\n",
       "      <td>\"If you haven't seen them, how do you know the...</td>\n",
       "      <td>To answer the question \"Why did colonizing shi...</td>\n",
       "    </tr>\n",
       "    <tr>\n",
       "      <th>6</th>\n",
       "      <td>What is the capital of Bangladesh?</td>\n",
       "      <td>\"But you were able to solve this situation in ...</td>\n",
       "      <td>The context provided does not contain any info...</td>\n",
       "    </tr>\n",
       "    <tr>\n",
       "      <th>7</th>\n",
       "      <td>What is the reason for the lack of workers in ...</td>\n",
       "      <td>Tardo asked about the fields.  \"I see there is...</td>\n",
       "      <td>To answer the question about the reason for th...</td>\n",
       "    </tr>\n",
       "    <tr>\n",
       "      <th>8</th>\n",
       "      <td>What is the capital of Japan?</td>\n",
       "      <td>After the morning inspection tour, Tardo, the ...</td>\n",
       "      <td>The context provided does not directly mention...</td>\n",
       "    </tr>\n",
       "    <tr>\n",
       "      <th>9</th>\n",
       "      <td>What did Saranta say?</td>\n",
       "      <td>\"Saranta said that. But I don't see ...\"  \"Tho...</td>\n",
       "      <td>Given the context provided, Saranta's actual w...</td>\n",
       "    </tr>\n",
       "  </tbody>\n",
       "</table>\n",
       "</div>"
      ],
      "text/plain": [
       "                                            Question  \\\n",
       "0  What is the reason why the ship just rusted away?   \n",
       "1  What was the reason for having to walk on the ...   \n",
       "2  What was the reason for having to walk on the ...   \n",
       "3  Who is responsible for working the fields on t...   \n",
       "4  Who are Tardo and Peo in \"DISQUALIFIED\" by Cha...   \n",
       "5  Why did colonizing ships have to depend on nat...   \n",
       "6                 What is the capital of Bangladesh?   \n",
       "7  What is the reason for the lack of workers in ...   \n",
       "8                      What is the capital of Japan?   \n",
       "9                              What did Saranta say?   \n",
       "\n",
       "                                             Context  \\\n",
       "0  \"We really feel that we have done well since w...   \n",
       "1  Tardo had seemed most intent on the question o...   \n",
       "2  Tardo had seemed most intent on the question o...   \n",
       "3  Saranta apologized for their having to walk, e...   \n",
       "4  DISQUALIFIED  BY CHARLES L. FONTENAY   After t...   \n",
       "5  \"If you haven't seen them, how do you know the...   \n",
       "6  \"But you were able to solve this situation in ...   \n",
       "7  Tardo asked about the fields.  \"I see there is...   \n",
       "8  After the morning inspection tour, Tardo, the ...   \n",
       "9  \"Saranta said that. But I don't see ...\"  \"Tho...   \n",
       "\n",
       "                                              Answer  \n",
       "0  The context provided discusses a conversation ...  \n",
       "1  To answer the question \"What was the reason fo...  \n",
       "2  Given the context provided, the reason for hav...  \n",
       "3  Given the context provided, Saranta mentioned ...  \n",
       "4  To determine who Tardo and Peo are in \"DISQUAL...  \n",
       "5  To answer the question \"Why did colonizing shi...  \n",
       "6  The context provided does not contain any info...  \n",
       "7  To answer the question about the reason for th...  \n",
       "8  The context provided does not directly mention...  \n",
       "9  Given the context provided, Saranta's actual w...  "
      ]
     },
     "execution_count": 61,
     "metadata": {},
     "output_type": "execute_result"
    }
   ],
   "source": [
    "raft_df.head(10)"
   ]
  },
  {
   "cell_type": "code",
   "execution_count": 62,
   "id": "73d43ed3-6215-4fc0-887f-0f8d25bc3ccc",
   "metadata": {},
   "outputs": [
    {
     "data": {
      "text/plain": [
       "(96, 3)"
      ]
     },
     "execution_count": 62,
     "metadata": {},
     "output_type": "execute_result"
    }
   ],
   "source": [
    "raft_df.shape"
   ]
  },
  {
   "cell_type": "code",
   "execution_count": 64,
   "id": "840ae602-6e72-4b5e-98e6-93a48dda8c3d",
   "metadata": {},
   "outputs": [],
   "source": [
    "raft_df.to_csv(\"raft.csv\", index=False)"
   ]
  },
  {
   "cell_type": "markdown",
   "id": "5302c30c-1c7c-4669-a756-63e0311cb62e",
   "metadata": {},
   "source": [
    "# capture explanation"
   ]
  },
  {
   "cell_type": "code",
   "execution_count": 120,
   "id": "7152b9b6-4ff3-4dd0-a560-f0709fadaef6",
   "metadata": {},
   "outputs": [
    {
     "data": {
      "text/html": [
       "<div>\n",
       "<style scoped>\n",
       "    .dataframe tbody tr th:only-of-type {\n",
       "        vertical-align: middle;\n",
       "    }\n",
       "\n",
       "    .dataframe tbody tr th {\n",
       "        vertical-align: top;\n",
       "    }\n",
       "\n",
       "    .dataframe thead th {\n",
       "        text-align: right;\n",
       "    }\n",
       "</style>\n",
       "<table border=\"1\" class=\"dataframe\">\n",
       "  <thead>\n",
       "    <tr style=\"text-align: right;\">\n",
       "      <th></th>\n",
       "      <th>moves</th>\n",
       "      <th>game_length</th>\n",
       "      <th>capture_explanantion</th>\n",
       "    </tr>\n",
       "  </thead>\n",
       "  <tbody>\n",
       "    <tr>\n",
       "      <th>0</th>\n",
       "      <td>d4 f5 Bf4 Nf6 e3 d6 Nc3 Nc6 Bc4 e5 dxe5 dxe5 Q...</td>\n",
       "      <td>31</td>\n",
       "      <td>\\nWhite: d4, Black: f5\\n(no capture at White: ...</td>\n",
       "    </tr>\n",
       "    <tr>\n",
       "      <th>1</th>\n",
       "      <td>e4 e5 Nf3 f5 d3 fxe4 dxe4 Bb4+ Bd2 Bxd2+ Nbxd2...</td>\n",
       "      <td>43</td>\n",
       "      <td>\\nWhite: e4, Black: e5\\n(no capture at White: ...</td>\n",
       "    </tr>\n",
       "    <tr>\n",
       "      <th>2</th>\n",
       "      <td>e4 c5 Nf3 g6 d4 cxd4 Nxd4 Nc6 Nxc6 bxc6 Nc3 Bg...</td>\n",
       "      <td>14</td>\n",
       "      <td>\\nWhite: e4, Black: c5\\n(no capture at White: ...</td>\n",
       "    </tr>\n",
       "    <tr>\n",
       "      <th>3</th>\n",
       "      <td>d4 Nf6 c4 g6 Nc3 Bg7 e4 d6 f3 O-O Be3 e5 d5 c6...</td>\n",
       "      <td>40</td>\n",
       "      <td>\\nWhite: d4, Black: Nf6\\n(no capture at White:...</td>\n",
       "    </tr>\n",
       "    <tr>\n",
       "      <th>4</th>\n",
       "      <td>e4 e5 d3 Nf6 Bg5 Nc6 Bxf6 gxf6 a3 Qe7 b4 d6 c4...</td>\n",
       "      <td>19</td>\n",
       "      <td>\\nWhite: e4, Black: e5\\n(no capture at White: ...</td>\n",
       "    </tr>\n",
       "  </tbody>\n",
       "</table>\n",
       "</div>"
      ],
      "text/plain": [
       "                                               moves  game_length  \\\n",
       "0  d4 f5 Bf4 Nf6 e3 d6 Nc3 Nc6 Bc4 e5 dxe5 dxe5 Q...           31   \n",
       "1  e4 e5 Nf3 f5 d3 fxe4 dxe4 Bb4+ Bd2 Bxd2+ Nbxd2...           43   \n",
       "2  e4 c5 Nf3 g6 d4 cxd4 Nxd4 Nc6 Nxc6 bxc6 Nc3 Bg...           14   \n",
       "3  d4 Nf6 c4 g6 Nc3 Bg7 e4 d6 f3 O-O Be3 e5 d5 c6...           40   \n",
       "4  e4 e5 d3 Nf6 Bg5 Nc6 Bxf6 gxf6 a3 Qe7 b4 d6 c4...           19   \n",
       "\n",
       "                                capture_explanantion  \n",
       "0  \\nWhite: d4, Black: f5\\n(no capture at White: ...  \n",
       "1  \\nWhite: e4, Black: e5\\n(no capture at White: ...  \n",
       "2  \\nWhite: e4, Black: c5\\n(no capture at White: ...  \n",
       "3  \\nWhite: d4, Black: Nf6\\n(no capture at White:...  \n",
       "4  \\nWhite: e4, Black: e5\\n(no capture at White: ...  "
      ]
     },
     "execution_count": 120,
     "metadata": {},
     "output_type": "execute_result"
    }
   ],
   "source": [
    "capture_df = pd.read_csv(\"../data/2nd_finetune/capture_explanation.csv\", index_col=0)\n",
    "capture_df.head()"
   ]
  },
  {
   "cell_type": "code",
   "execution_count": 121,
   "id": "d65613db-79f8-4e3c-818c-a539c2fcdab6",
   "metadata": {},
   "outputs": [],
   "source": [
    "capture_df[\"moves\"] = \"How many chess pieces have been captured in the following game provided in algebraic notation - \" + capture_df[\"moves\"]"
   ]
  },
  {
   "cell_type": "code",
   "execution_count": 122,
   "id": "5c5318ac-08f0-4e1e-815b-5d4c9a5abd60",
   "metadata": {},
   "outputs": [
    {
     "data": {
      "text/plain": [
       "'How many chess pieces have been captured in the following game provided in algebraic notation - d4 f5 Bf4 Nf6 e3 d6 Nc3 Nc6 Bc4 e5 dxe5 dxe5 Qxd8+ Kxd8 O-O-O+ Bd6 Bg5 Ke7 Nd5+ Kf8 Nxf6 gxf6 Bxf6 Rg8 Bxg8 Kxg8 Nf3 Kf7 Bh4 Be6 a3 b5 h3 b4 axb4 Bxb4 Bg3 Bd6 Rd2 a5 Rhd1 f4 exf4 exf4 Bh4 a4 Ng5+ Kf6 Ne4+ Ke5 Nxd6 cxd6 Rxd6 a3 Rxc6 axb2+ Kxb2 Ra2+ Kc3 Ra3+ Kb4'"
      ]
     },
     "execution_count": 122,
     "metadata": {},
     "output_type": "execute_result"
    }
   ],
   "source": [
    "capture_df.loc[0][\"moves\"]"
   ]
  },
  {
   "cell_type": "code",
   "execution_count": 123,
   "id": "ae7664a7-2c0d-45df-b86a-0590409b7f69",
   "metadata": {},
   "outputs": [],
   "source": [
    "capture_df[\"Context\"] = \"\"\n",
    "capture_df.drop(columns=[\"game_length\"], inplace=True)"
   ]
  },
  {
   "cell_type": "code",
   "execution_count": 124,
   "id": "05ce94a6-9217-4e40-9e1d-7a8c01b16672",
   "metadata": {},
   "outputs": [
    {
     "data": {
      "text/html": [
       "<div>\n",
       "<style scoped>\n",
       "    .dataframe tbody tr th:only-of-type {\n",
       "        vertical-align: middle;\n",
       "    }\n",
       "\n",
       "    .dataframe tbody tr th {\n",
       "        vertical-align: top;\n",
       "    }\n",
       "\n",
       "    .dataframe thead th {\n",
       "        text-align: right;\n",
       "    }\n",
       "</style>\n",
       "<table border=\"1\" class=\"dataframe\">\n",
       "  <thead>\n",
       "    <tr style=\"text-align: right;\">\n",
       "      <th></th>\n",
       "      <th>moves</th>\n",
       "      <th>capture_explanantion</th>\n",
       "      <th>Context</th>\n",
       "    </tr>\n",
       "  </thead>\n",
       "  <tbody>\n",
       "    <tr>\n",
       "      <th>0</th>\n",
       "      <td>How many chess pieces have been captured in th...</td>\n",
       "      <td>\\nWhite: d4, Black: f5\\n(no capture at White: ...</td>\n",
       "      <td></td>\n",
       "    </tr>\n",
       "    <tr>\n",
       "      <th>1</th>\n",
       "      <td>How many chess pieces have been captured in th...</td>\n",
       "      <td>\\nWhite: e4, Black: e5\\n(no capture at White: ...</td>\n",
       "      <td></td>\n",
       "    </tr>\n",
       "    <tr>\n",
       "      <th>2</th>\n",
       "      <td>How many chess pieces have been captured in th...</td>\n",
       "      <td>\\nWhite: e4, Black: c5\\n(no capture at White: ...</td>\n",
       "      <td></td>\n",
       "    </tr>\n",
       "    <tr>\n",
       "      <th>3</th>\n",
       "      <td>How many chess pieces have been captured in th...</td>\n",
       "      <td>\\nWhite: d4, Black: Nf6\\n(no capture at White:...</td>\n",
       "      <td></td>\n",
       "    </tr>\n",
       "    <tr>\n",
       "      <th>4</th>\n",
       "      <td>How many chess pieces have been captured in th...</td>\n",
       "      <td>\\nWhite: e4, Black: e5\\n(no capture at White: ...</td>\n",
       "      <td></td>\n",
       "    </tr>\n",
       "  </tbody>\n",
       "</table>\n",
       "</div>"
      ],
      "text/plain": [
       "                                               moves  \\\n",
       "0  How many chess pieces have been captured in th...   \n",
       "1  How many chess pieces have been captured in th...   \n",
       "2  How many chess pieces have been captured in th...   \n",
       "3  How many chess pieces have been captured in th...   \n",
       "4  How many chess pieces have been captured in th...   \n",
       "\n",
       "                                capture_explanantion Context  \n",
       "0  \\nWhite: d4, Black: f5\\n(no capture at White: ...          \n",
       "1  \\nWhite: e4, Black: e5\\n(no capture at White: ...          \n",
       "2  \\nWhite: e4, Black: c5\\n(no capture at White: ...          \n",
       "3  \\nWhite: d4, Black: Nf6\\n(no capture at White:...          \n",
       "4  \\nWhite: e4, Black: e5\\n(no capture at White: ...          "
      ]
     },
     "execution_count": 124,
     "metadata": {},
     "output_type": "execute_result"
    }
   ],
   "source": [
    "capture_df.head()"
   ]
  },
  {
   "cell_type": "code",
   "execution_count": 125,
   "id": "3c35c9e0-3c86-42d8-861b-384239b8a5be",
   "metadata": {},
   "outputs": [],
   "source": [
    "capture_df[\"capture_explanantion\"] = \"Analysing each move pair -\" + capture_df[\"capture_explanantion\"]"
   ]
  },
  {
   "cell_type": "code",
   "execution_count": 126,
   "id": "9ef8d1d5-e618-4234-9df8-d29b34317b40",
   "metadata": {},
   "outputs": [],
   "source": [
    "data = {\n",
    "    \"Question\" : capture_df[\"moves\"],\n",
    "    \"Context\" : capture_df[\"Context\"],\n",
    "    \"Answer\" : capture_df[\"capture_explanantion\"] \n",
    "}"
   ]
  },
  {
   "cell_type": "code",
   "execution_count": 127,
   "id": "5035afdf-7e1c-4daf-ad22-fb7295e1ded2",
   "metadata": {},
   "outputs": [],
   "source": [
    "capture = pd.DataFrame(data)"
   ]
  },
  {
   "cell_type": "code",
   "execution_count": 128,
   "id": "06883dc6-8fc1-43bf-96b1-82f7f3bb068e",
   "metadata": {},
   "outputs": [
    {
     "data": {
      "text/html": [
       "<div>\n",
       "<style scoped>\n",
       "    .dataframe tbody tr th:only-of-type {\n",
       "        vertical-align: middle;\n",
       "    }\n",
       "\n",
       "    .dataframe tbody tr th {\n",
       "        vertical-align: top;\n",
       "    }\n",
       "\n",
       "    .dataframe thead th {\n",
       "        text-align: right;\n",
       "    }\n",
       "</style>\n",
       "<table border=\"1\" class=\"dataframe\">\n",
       "  <thead>\n",
       "    <tr style=\"text-align: right;\">\n",
       "      <th></th>\n",
       "      <th>Question</th>\n",
       "      <th>Context</th>\n",
       "      <th>Answer</th>\n",
       "    </tr>\n",
       "  </thead>\n",
       "  <tbody>\n",
       "    <tr>\n",
       "      <th>0</th>\n",
       "      <td>How many chess pieces have been captured in th...</td>\n",
       "      <td></td>\n",
       "      <td>Analysing each move pair -\\nWhite: d4, Black: ...</td>\n",
       "    </tr>\n",
       "    <tr>\n",
       "      <th>1</th>\n",
       "      <td>How many chess pieces have been captured in th...</td>\n",
       "      <td></td>\n",
       "      <td>Analysing each move pair -\\nWhite: e4, Black: ...</td>\n",
       "    </tr>\n",
       "    <tr>\n",
       "      <th>2</th>\n",
       "      <td>How many chess pieces have been captured in th...</td>\n",
       "      <td></td>\n",
       "      <td>Analysing each move pair -\\nWhite: e4, Black: ...</td>\n",
       "    </tr>\n",
       "    <tr>\n",
       "      <th>3</th>\n",
       "      <td>How many chess pieces have been captured in th...</td>\n",
       "      <td></td>\n",
       "      <td>Analysing each move pair -\\nWhite: d4, Black: ...</td>\n",
       "    </tr>\n",
       "    <tr>\n",
       "      <th>4</th>\n",
       "      <td>How many chess pieces have been captured in th...</td>\n",
       "      <td></td>\n",
       "      <td>Analysing each move pair -\\nWhite: e4, Black: ...</td>\n",
       "    </tr>\n",
       "  </tbody>\n",
       "</table>\n",
       "</div>"
      ],
      "text/plain": [
       "                                            Question Context  \\\n",
       "0  How many chess pieces have been captured in th...           \n",
       "1  How many chess pieces have been captured in th...           \n",
       "2  How many chess pieces have been captured in th...           \n",
       "3  How many chess pieces have been captured in th...           \n",
       "4  How many chess pieces have been captured in th...           \n",
       "\n",
       "                                              Answer  \n",
       "0  Analysing each move pair -\\nWhite: d4, Black: ...  \n",
       "1  Analysing each move pair -\\nWhite: e4, Black: ...  \n",
       "2  Analysing each move pair -\\nWhite: e4, Black: ...  \n",
       "3  Analysing each move pair -\\nWhite: d4, Black: ...  \n",
       "4  Analysing each move pair -\\nWhite: e4, Black: ...  "
      ]
     },
     "execution_count": 128,
     "metadata": {},
     "output_type": "execute_result"
    }
   ],
   "source": [
    "capture.head()"
   ]
  },
  {
   "cell_type": "code",
   "execution_count": 129,
   "id": "4285b740-cd98-447f-a904-278460198fb0",
   "metadata": {},
   "outputs": [],
   "source": [
    "capture.to_csv(\"capture.csv\", index = False)"
   ]
  },
  {
   "cell_type": "markdown",
   "id": "b06f7b34-386f-42b1-98de-56f90d011381",
   "metadata": {},
   "source": [
    "# FEN"
   ]
  },
  {
   "cell_type": "code",
   "execution_count": 130,
   "id": "174e8a5f-afbe-4e77-9885-5b6c4b9cfc49",
   "metadata": {},
   "outputs": [],
   "source": [
    "fen_file = open(\"../data/2nd_finetune/fen_parsing.txt\", \"r\").read()\n",
    "entries = fen_file.split(\"-----\\n\")"
   ]
  },
  {
   "cell_type": "code",
   "execution_count": 131,
   "id": "556e8029-2a90-47ab-8020-31b0c4c06014",
   "metadata": {},
   "outputs": [
    {
     "name": "stdout",
     "output_type": "stream",
     "text": [
      "4n3/8/8/8/4B3/1K2kr2/8/1q6\n",
      "\n"
     ]
    }
   ],
   "source": [
    "print(entries[0])"
   ]
  },
  {
   "cell_type": "code",
   "execution_count": 132,
   "id": "5f4899e4-0caa-4cf6-96e4-626548864f88",
   "metadata": {},
   "outputs": [
    {
     "name": "stdout",
     "output_type": "stream",
     "text": [
      "Empty chess board square is denoted by '1'\n",
      "Total 6 pieces present in the board\n",
      "\n",
      "            White Pieces: 2 pieces which are 1 x White Bishop, 1 x White King\n",
      "\n",
      "            Black Pieces: 4 pieces which are 1 x Black Knight, 1 x Black King, 1 x Black Rook, 1 x Black Queen\n",
      "            \n",
      "Board State is:\n",
      " 1 1 1 1 n 1 1 1\n",
      " 1 1 1 1 1 1 1 1\n",
      " 1 1 1 1 1 1 1 1\n",
      " 1 1 1 1 1 1 1 1\n",
      " 1 1 1 1 B 1 1 1\n",
      " 1 K 1 1 k r 1 1\n",
      " 1 1 1 1 1 1 1 1\n",
      " 1 q 1 1 1 1 1 1\n",
      "\n",
      "Piece Positions are:\n",
      "Black Knight at e8\n",
      "White Bishop at e4\n",
      "White King at b3\n",
      "Black King at e3\n",
      "Black Rook at f3\n",
      "Black Queen at b1\n",
      "\n",
      "\n"
     ]
    }
   ],
   "source": [
    "print(entries[1])"
   ]
  },
  {
   "cell_type": "code",
   "execution_count": 133,
   "id": "c92a94c3-480d-4c4f-9a33-64a4e2c6a68a",
   "metadata": {},
   "outputs": [],
   "source": [
    "fen_explanation = '''Analysing the FEN line where each chessboard row is divided by '/'.\n",
    "Numbers represent empty squares. For example, \"4\" means 4 empty squares.\n",
    "Each letter represents a chess piece: lowercase letters represent black pieces and uppercase letters represent white pieces.\n",
    "For example, 'K' is a White King, 'N' is  and 'q' is a Black Queen.\n",
    "The columns are known as files range from 1-8.\n",
    "The rows are known as ranks range from a-h.\n",
    "e.g. a White Knight at rank \"a\" and file \"3\" will be N at a3.\n",
    "\n",
    "'''"
   ]
  },
  {
   "cell_type": "code",
   "execution_count": 134,
   "id": "c8bafd36-fb8d-42a4-b80d-5b7d5c65d589",
   "metadata": {},
   "outputs": [],
   "source": [
    "fen_question = \"Analyse the provided FEN and explain which chess pieces are present in the board - \""
   ]
  },
  {
   "cell_type": "code",
   "execution_count": 135,
   "id": "2fbbd3a5-16c8-468f-9d1c-80530cfbf15e",
   "metadata": {},
   "outputs": [],
   "source": [
    "questions = []\n",
    "answers = []\n",
    "\n",
    "for i in range(0, len(entries)-1, 2):\n",
    "    questions.append(fen_question + entries[i].strip())\n",
    "    answers.append(fen_explanation + entries[i+1].strip())\n",
    "\n",
    "data = {\n",
    "    \"Question\" : questions,\n",
    "    \"Context\" : \"\",\n",
    "    \"Answer\" : answers\n",
    "}\n",
    "fen = pd.DataFrame(data)"
   ]
  },
  {
   "cell_type": "code",
   "execution_count": 137,
   "id": "70424f2d-bc0f-4693-b39d-703c8c31a2c0",
   "metadata": {},
   "outputs": [
    {
     "data": {
      "text/html": [
       "<div>\n",
       "<style scoped>\n",
       "    .dataframe tbody tr th:only-of-type {\n",
       "        vertical-align: middle;\n",
       "    }\n",
       "\n",
       "    .dataframe tbody tr th {\n",
       "        vertical-align: top;\n",
       "    }\n",
       "\n",
       "    .dataframe thead th {\n",
       "        text-align: right;\n",
       "    }\n",
       "</style>\n",
       "<table border=\"1\" class=\"dataframe\">\n",
       "  <thead>\n",
       "    <tr style=\"text-align: right;\">\n",
       "      <th></th>\n",
       "      <th>Question</th>\n",
       "      <th>Context</th>\n",
       "      <th>Answer</th>\n",
       "    </tr>\n",
       "  </thead>\n",
       "  <tbody>\n",
       "    <tr>\n",
       "      <th>0</th>\n",
       "      <td>Analyse the provided FEN and explain which che...</td>\n",
       "      <td></td>\n",
       "      <td>Analysing the FEN line where each chessboard r...</td>\n",
       "    </tr>\n",
       "    <tr>\n",
       "      <th>1</th>\n",
       "      <td>Analyse the provided FEN and explain which che...</td>\n",
       "      <td></td>\n",
       "      <td>Analysing the FEN line where each chessboard r...</td>\n",
       "    </tr>\n",
       "    <tr>\n",
       "      <th>2</th>\n",
       "      <td>Analyse the provided FEN and explain which che...</td>\n",
       "      <td></td>\n",
       "      <td>Analysing the FEN line where each chessboard r...</td>\n",
       "    </tr>\n",
       "    <tr>\n",
       "      <th>3</th>\n",
       "      <td>Analyse the provided FEN and explain which che...</td>\n",
       "      <td></td>\n",
       "      <td>Analysing the FEN line where each chessboard r...</td>\n",
       "    </tr>\n",
       "    <tr>\n",
       "      <th>4</th>\n",
       "      <td>Analyse the provided FEN and explain which che...</td>\n",
       "      <td></td>\n",
       "      <td>Analysing the FEN line where each chessboard r...</td>\n",
       "    </tr>\n",
       "  </tbody>\n",
       "</table>\n",
       "</div>"
      ],
      "text/plain": [
       "                                            Question Context  \\\n",
       "0  Analyse the provided FEN and explain which che...           \n",
       "1  Analyse the provided FEN and explain which che...           \n",
       "2  Analyse the provided FEN and explain which che...           \n",
       "3  Analyse the provided FEN and explain which che...           \n",
       "4  Analyse the provided FEN and explain which che...           \n",
       "\n",
       "                                              Answer  \n",
       "0  Analysing the FEN line where each chessboard r...  \n",
       "1  Analysing the FEN line where each chessboard r...  \n",
       "2  Analysing the FEN line where each chessboard r...  \n",
       "3  Analysing the FEN line where each chessboard r...  \n",
       "4  Analysing the FEN line where each chessboard r...  "
      ]
     },
     "execution_count": 137,
     "metadata": {},
     "output_type": "execute_result"
    }
   ],
   "source": [
    "fen.head()"
   ]
  },
  {
   "cell_type": "code",
   "execution_count": 136,
   "id": "974eb6e7-fc6c-4c52-8c2f-fc0b00ef08ad",
   "metadata": {},
   "outputs": [],
   "source": [
    "fen.to_csv(\"fen.csv\", index=False)"
   ]
  },
  {
   "cell_type": "markdown",
   "id": "df3e1cce-f6fc-4806-b589-0a878fc04ff1",
   "metadata": {},
   "source": [
    "# 1st finetune"
   ]
  },
  {
   "cell_type": "code",
   "execution_count": 6,
   "id": "304d9f20-3207-417a-9ce5-88f08c57212b",
   "metadata": {},
   "outputs": [
    {
     "data": {
      "text/html": [
       "<div>\n",
       "<style scoped>\n",
       "    .dataframe tbody tr th:only-of-type {\n",
       "        vertical-align: middle;\n",
       "    }\n",
       "\n",
       "    .dataframe tbody tr th {\n",
       "        vertical-align: top;\n",
       "    }\n",
       "\n",
       "    .dataframe thead th {\n",
       "        text-align: right;\n",
       "    }\n",
       "</style>\n",
       "<table border=\"1\" class=\"dataframe\">\n",
       "  <thead>\n",
       "    <tr style=\"text-align: right;\">\n",
       "      <th></th>\n",
       "      <th>moves</th>\n",
       "      <th>instruction</th>\n",
       "      <th>explanation</th>\n",
       "    </tr>\n",
       "  </thead>\n",
       "  <tbody>\n",
       "    <tr>\n",
       "      <th>0</th>\n",
       "      <td>e4 e6 d4 d5 Nd2 c5 exd5 exd5 dxc5 Bxc5 Nb3 Bb6...</td>\n",
       "      <td>Assume you are a chess master. Who do you thin...</td>\n",
       "      <td>White. The game dynamics favored White, who ef...</td>\n",
       "    </tr>\n",
       "    <tr>\n",
       "      <th>1</th>\n",
       "      <td>e4 d5 exd5 Qxd5 Nc3 Qe5+ Be2 Na6 d4 Qf5 Bxa6 b...</td>\n",
       "      <td>Assume you are a chess master. Suggest the nex...</td>\n",
       "      <td>Qg7#</td>\n",
       "    </tr>\n",
       "    <tr>\n",
       "      <th>2</th>\n",
       "      <td>e4 d5 exd5 Qxd5 Nc3 Qe5+ Be2 Na6 d4 Qf5 Bxa6 b...</td>\n",
       "      <td>Assume you are a chess master. Suggest the nex...</td>\n",
       "      <td>Rd2+</td>\n",
       "    </tr>\n",
       "    <tr>\n",
       "      <th>3</th>\n",
       "      <td>d4 d5 Nf3 c5 c3 c4 Bf4 Nc6 e3 e6 Nbd2 Bd6 Bg3 ...</td>\n",
       "      <td>Assume you are a chess master. Who do you thin...</td>\n",
       "      <td>White, achieved through superior tactical expl...</td>\n",
       "    </tr>\n",
       "    <tr>\n",
       "      <th>4</th>\n",
       "      <td>e4 e5 Bc4 Nf6 Nc3 Bc5 Nf3 O-O O-O d6 d4 exd4 N...</td>\n",
       "      <td>Assume you are a chess master. Who do you thin...</td>\n",
       "      <td>ReasonWhite emerged as the winner, largely due...</td>\n",
       "    </tr>\n",
       "  </tbody>\n",
       "</table>\n",
       "</div>"
      ],
      "text/plain": [
       "                                               moves  \\\n",
       "0  e4 e6 d4 d5 Nd2 c5 exd5 exd5 dxc5 Bxc5 Nb3 Bb6...   \n",
       "1  e4 d5 exd5 Qxd5 Nc3 Qe5+ Be2 Na6 d4 Qf5 Bxa6 b...   \n",
       "2  e4 d5 exd5 Qxd5 Nc3 Qe5+ Be2 Na6 d4 Qf5 Bxa6 b...   \n",
       "3  d4 d5 Nf3 c5 c3 c4 Bf4 Nc6 e3 e6 Nbd2 Bd6 Bg3 ...   \n",
       "4  e4 e5 Bc4 Nf6 Nc3 Bc5 Nf3 O-O O-O d6 d4 exd4 N...   \n",
       "\n",
       "                                         instruction  \\\n",
       "0  Assume you are a chess master. Who do you thin...   \n",
       "1  Assume you are a chess master. Suggest the nex...   \n",
       "2  Assume you are a chess master. Suggest the nex...   \n",
       "3  Assume you are a chess master. Who do you thin...   \n",
       "4  Assume you are a chess master. Who do you thin...   \n",
       "\n",
       "                                         explanation  \n",
       "0  White. The game dynamics favored White, who ef...  \n",
       "1                                               Qg7#  \n",
       "2                                               Rd2+  \n",
       "3  White, achieved through superior tactical expl...  \n",
       "4  ReasonWhite emerged as the winner, largely due...  "
      ]
     },
     "execution_count": 6,
     "metadata": {},
     "output_type": "execute_result"
    }
   ],
   "source": [
    "finetune_1 = pd.read_csv(\"../data/finetune/diverse_task_3.csv\", index_col=0)\n",
    "finetune_1.head()"
   ]
  },
  {
   "cell_type": "code",
   "execution_count": 7,
   "id": "d524b0f6-7278-4ae3-b9aa-ff8facb1f062",
   "metadata": {},
   "outputs": [
    {
     "data": {
      "text/plain": [
       "'Assume you are a chess master. Who do you think will win the game based on the provided chess moves in Algebraic Notation. - e4 e6 d4 d5 Nd2 c5 exd5 exd5 dxc5 Bxc5 Nb3 Bb6 Nf3 Nf6 Bd3 Nc6 c3 h6 O-O O-O Bf4 Be6 Qd2 Ne4 Qc2 f5 Nbd4 Nxd4 Nxd4 Bd7 Rfe1 Rc8 Qb3 Nc5 Qxd5+ Kh8 Bc2 Ne4 Bxe4 fxe4 Qxe4 Bxd4 Qxd4 Bc6 Qxd8 Rcxd8 Bg3 Rd2 b4 Rc2 Re3 Rd8 a3 Rdd2 h4 g6 Rae1 Ra2 c4 a6 c5 Kg8 Kf1 Bb5+ Kg1 Bc6 Re6 Kf7 R1e3 h5 Rd6 Re2 Rxe2 Rxe2 f3 Ra2 Rd3 Ke6 Kf1 Bb5 c6 Bxd3+ Kg1 bxc6'"
      ]
     },
     "execution_count": 7,
     "metadata": {},
     "output_type": "execute_result"
    }
   ],
   "source": [
    "questions = finetune_1[\"instruction\"] + \" - \" + finetune_1[\"moves\"]\n",
    "questions[0]"
   ]
  },
  {
   "cell_type": "code",
   "execution_count": 8,
   "id": "edee92b6-5d5b-4bf8-bde5-fc9a434a0b6a",
   "metadata": {},
   "outputs": [],
   "source": [
    "answers = finetune_1[\"explanation\"]"
   ]
  },
  {
   "cell_type": "code",
   "execution_count": null,
   "id": "61516421-3a37-4e95-b34c-a0c8a8f96aa1",
   "metadata": {},
   "outputs": [],
   "source": [
    "finetune_3_tasks = pd.DataFrame({\"Question\" : questions, \"\"})"
   ]
  },
  {
   "cell_type": "code",
   "execution_count": null,
   "id": "60a3e68e-d8b1-41d9-bde6-07f14196b681",
   "metadata": {},
   "outputs": [],
   "source": []
  }
 ],
 "metadata": {
  "kernelspec": {
   "display_name": "Python 3 (ipykernel)",
   "language": "python",
   "name": "python3"
  },
  "language_info": {
   "codemirror_mode": {
    "name": "ipython",
    "version": 3
   },
   "file_extension": ".py",
   "mimetype": "text/x-python",
   "name": "python",
   "nbconvert_exporter": "python",
   "pygments_lexer": "ipython3",
   "version": "3.8.19"
  }
 },
 "nbformat": 4,
 "nbformat_minor": 5
}
