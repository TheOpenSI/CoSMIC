{
 "cells": [
  {
   "cell_type": "code",
   "execution_count": 1,
   "id": "0b8af5ae-5b85-47da-bf3b-af7ebcf9405f",
   "metadata": {},
   "outputs": [],
   "source": [
    "import pandas as pd"
   ]
  },
  {
   "cell_type": "code",
   "execution_count": 2,
   "id": "f16dab8d-3959-4a4a-bae6-2ad222cdafdf",
   "metadata": {},
   "outputs": [
    {
     "data": {
      "text/html": [
       "<div>\n",
       "<style scoped>\n",
       "    .dataframe tbody tr th:only-of-type {\n",
       "        vertical-align: middle;\n",
       "    }\n",
       "\n",
       "    .dataframe tbody tr th {\n",
       "        vertical-align: top;\n",
       "    }\n",
       "\n",
       "    .dataframe thead th {\n",
       "        text-align: right;\n",
       "    }\n",
       "</style>\n",
       "<table border=\"1\" class=\"dataframe\">\n",
       "  <thead>\n",
       "    <tr style=\"text-align: right;\">\n",
       "      <th></th>\n",
       "      <th>moves</th>\n",
       "    </tr>\n",
       "  </thead>\n",
       "  <tbody>\n",
       "    <tr>\n",
       "      <th>0</th>\n",
       "      <td>d4 d5 c4 c6 cxd5 e6 dxe6 fxe6 Nf3 Bb4+ Nc3 Ba5...</td>\n",
       "    </tr>\n",
       "    <tr>\n",
       "      <th>1</th>\n",
       "      <td>d4 Nc6 e4 e5 f4 f6 dxe5 fxe5 fxe5 Nxe5 Qd4 Nc6...</td>\n",
       "    </tr>\n",
       "    <tr>\n",
       "      <th>2</th>\n",
       "      <td>e4 e5 d3 d6 Be3 c6 Be2 b5 Nd2 a5 a4 c5 axb5 Nc...</td>\n",
       "    </tr>\n",
       "    <tr>\n",
       "      <th>3</th>\n",
       "      <td>d4 d5 Nf3 Bf5 Nc3 Nf6 Bf4 Ng4 e3 Nc6 Be2 Qd7 O...</td>\n",
       "    </tr>\n",
       "    <tr>\n",
       "      <th>4</th>\n",
       "      <td>e4 e5 Nf3 d6 d4 Nc6 d5 Nb4 a3 Na6 Nc3 Be7 b4 N...</td>\n",
       "    </tr>\n",
       "  </tbody>\n",
       "</table>\n",
       "</div>"
      ],
      "text/plain": [
       "                                               moves\n",
       "0  d4 d5 c4 c6 cxd5 e6 dxe6 fxe6 Nf3 Bb4+ Nc3 Ba5...\n",
       "1  d4 Nc6 e4 e5 f4 f6 dxe5 fxe5 fxe5 Nxe5 Qd4 Nc6...\n",
       "2  e4 e5 d3 d6 Be3 c6 Be2 b5 Nd2 a5 a4 c5 axb5 Nc...\n",
       "3  d4 d5 Nf3 Bf5 Nc3 Nf6 Bf4 Ng4 e3 Nc6 Be2 Qd7 O...\n",
       "4  e4 e5 Nf3 d6 d4 Nc6 d5 Nb4 a3 Na6 Nc3 Be7 b4 N..."
      ]
     },
     "execution_count": 2,
     "metadata": {},
     "output_type": "execute_result"
    }
   ],
   "source": [
    "df = pd.read_csv(\"../../data/lichess_main.csv\", index_col=False)[[\"moves\"]]\n",
    "df.head()"
   ]
  },
  {
   "cell_type": "code",
   "execution_count": 19,
   "id": "22eaa4d6-00bb-4793-8003-5318626af7ce",
   "metadata": {},
   "outputs": [
    {
     "data": {
      "text/plain": [
       "'e3 c5 d3 d6 c3 g6 Nf3 Bg7 Bd2 Nc6 Na3 Qa5 Qb3 Be6 Qb5 Qxb5 Nxb5 Kd7 Ng5 a6 Na3 Bd5 e4 Be6 Nxe6 Kxe6 Nc4 Nf6 Be2 Kd7 Nb6+ Kc7 Nxa8+ Rxa8 Bg5 e6 Bxf6 Bxf6 O-O d5 exd5 exd5 Bf3 Kd6 Rae1 c4 d4 Ne7 Bg4 h5 Bh3 a5 b3 cxb3 axb3 a4 bxa4 Rxa4 Rb1 Rc4 Rb6+ Rc6 Rxb7 Rxc3 Rb6+ Rc6 Rxc6+ Nxc6 Rd1 Nxd4 Kf1 Nb5 Bc8 d4 Ba6 Nc3 Rc1 Ne4 Bd3 Nd2+ Ke2 Nb3 Rb1 Nc5 Rb6+ Ke5 Rb5 Be7 g3 Kd6 Rb6+ Kc7 Rb5 Kc6 Kf3 Bf6 h4 Kd6 Kf4 Be5+ Kg5 Bg7 Rb6+ Kc7 Rb5 Nxd3 f3 Ne5 Rc5+ Kd6 Rc2 Nxf3+ Kf4 Ne1 Rd2 Be5+ Ke4 Kc5 Kxe5 Nf3+ Kf6 Nxd2 Kxf7 Nf1 Kxg6 Nxg3 Kg5 d3 Kf4 d2 Kxg3 d1=Q Kf4 Qg1 Kf5 Kd4 Kf4 Qg4#'"
      ]
     },
     "execution_count": 19,
     "metadata": {},
     "output_type": "execute_result"
    }
   ],
   "source": [
    "test_move = \"e3 c5 d3 d6 c3 g6 Nf3 Bg7 Bd2 Nc6 Na3 Qa5 Qb3 Be6 Qb5 Qxb5 Nxb5 Kd7 Ng5 a6 Na3 Bd5 e4 Be6 Nxe6 Kxe6 Nc4 Nf6 Be2 Kd7 Nb6+ Kc7 Nxa8+ Rxa8 Bg5 e6 Bxf6 Bxf6 O-O d5 exd5 exd5 Bf3 Kd6 Rae1 c4 d4 Ne7 Bg4 h5 Bh3 a5 b3 cxb3 axb3 a4 bxa4 Rxa4 Rb1 Rc4 Rb6+ Rc6 Rxb7 Rxc3 Rb6+ Rc6 Rxc6+ Nxc6 Rd1 Nxd4 Kf1 Nb5 Bc8 d4 Ba6 Nc3 Rc1 Ne4 Bd3 Nd2+ Ke2 Nb3 Rb1 Nc5 Rb6+ Ke5 Rb5 Be7 g3 Kd6 Rb6+ Kc7 Rb5 Kc6 Kf3 Bf6 h4 Kd6 Kf4 Be5+ Kg5 Bg7 Rb6+ Kc7 Rb5 Nxd3 f3 Ne5 Rc5+ Kd6 Rc2 Nxf3+ Kf4 Ne1 Rd2 Be5+ Ke4 Kc5 Kxe5 Nf3+ Kf6 Nxd2 Kxf7 Nf1 Kxg6 Nxg3 Kg5 d3 Kf4 d2 Kxg3 d1=Q Kf4 Qg1 Kf5 Kd4 Kf4 Qg4#\"\n",
    "test_move"
   ]
  },
  {
   "cell_type": "code",
   "execution_count": 20,
   "id": "d365c792-3b86-48d2-939d-aa58218036d9",
   "metadata": {},
   "outputs": [],
   "source": [
    "def get_pair(moves : str) -> str:\n",
    "    target = moves.split(\" \")\n",
    "    cot_moves = [f\"White: {target[i]}, Black: {target[i+1]}\" if i + 1 < len(target) else f\"White: {target[i]}\" for i in range(0, len(target), 2)]\n",
    "    return \"\\n\".join(cot_moves), len(cot_moves)"
   ]
  },
  {
   "cell_type": "code",
   "execution_count": 24,
   "id": "e6b38c23-f546-45c8-923b-e8b0ea0f271d",
   "metadata": {},
   "outputs": [
    {
     "name": "stdout",
     "output_type": "stream",
     "text": [
      "White: e3, Black: c5\n",
      "White: d3, Black: d6\n",
      "White: c3, Black: g6\n",
      "White: Nf3, Black: Bg7\n",
      "White: Bd2, Black: Nc6\n",
      "White: Na3, Black: Qa5\n",
      "White: Qb3, Black: Be6\n",
      "White: Qb5, Black: Qxb5\n",
      "White: Nxb5, Black: Kd7\n",
      "White: Ng5, Black: a6\n",
      "White: Na3, Black: Bd5\n",
      "White: e4, Black: Be6\n",
      "White: Nxe6, Black: Kxe6\n",
      "White: Nc4, Black: Nf6\n",
      "White: Be2, Black: Kd7\n",
      "White: Nb6+, Black: Kc7\n",
      "White: Nxa8+, Black: Rxa8\n",
      "White: Bg5, Black: e6\n",
      "White: Bxf6, Black: Bxf6\n",
      "White: O-O, Black: d5\n",
      "White: exd5, Black: exd5\n",
      "White: Bf3, Black: Kd6\n",
      "White: Rae1, Black: c4\n",
      "White: d4, Black: Ne7\n",
      "White: Bg4, Black: h5\n",
      "White: Bh3, Black: a5\n",
      "White: b3, Black: cxb3\n",
      "White: axb3, Black: a4\n",
      "White: bxa4, Black: Rxa4\n",
      "White: Rb1, Black: Rc4\n",
      "White: Rb6+, Black: Rc6\n",
      "White: Rxb7, Black: Rxc3\n",
      "White: Rb6+, Black: Rc6\n",
      "White: Rxc6+, Black: Nxc6\n",
      "White: Rd1, Black: Nxd4\n",
      "White: Kf1, Black: Nb5\n",
      "White: Bc8, Black: d4\n",
      "White: Ba6, Black: Nc3\n",
      "White: Rc1, Black: Ne4\n",
      "White: Bd3, Black: Nd2+\n",
      "White: Ke2, Black: Nb3\n",
      "White: Rb1, Black: Nc5\n",
      "White: Rb6+, Black: Ke5\n",
      "White: Rb5, Black: Be7\n",
      "White: g3, Black: Kd6\n",
      "White: Rb6+, Black: Kc7\n",
      "White: Rb5, Black: Kc6\n",
      "White: Kf3, Black: Bf6\n",
      "White: h4, Black: Kd6\n",
      "White: Kf4, Black: Be5+\n",
      "White: Kg5, Black: Bg7\n",
      "White: Rb6+, Black: Kc7\n",
      "White: Rb5, Black: Nxd3\n",
      "White: f3, Black: Ne5\n",
      "White: Rc5+, Black: Kd6\n",
      "White: Rc2, Black: Nxf3+\n",
      "White: Kf4, Black: Ne1\n",
      "White: Rd2, Black: Be5+\n",
      "White: Ke4, Black: Kc5\n",
      "White: Kxe5, Black: Nf3+\n",
      "White: Kf6, Black: Nxd2\n",
      "White: Kxf7, Black: Nf1\n",
      "White: Kxg6, Black: Nxg3\n",
      "White: Kg5, Black: d3\n",
      "White: Kf4, Black: d2\n",
      "White: Kxg3, Black: d1=Q\n",
      "White: Kf4, Black: Qg1\n",
      "White: Kf5, Black: Kd4\n",
      "White: Kf4, Black: Qg4#\n"
     ]
    }
   ],
   "source": [
    "test_pair = get_pair(test_move)[0]\n",
    "print(test_pair)"
   ]
  },
  {
   "cell_type": "code",
   "execution_count": 47,
   "id": "9de0e420-1b8c-4cd9-bc60-d05433deac2e",
   "metadata": {},
   "outputs": [
    {
     "name": "stdout",
     "output_type": "stream",
     "text": [
      "King\n"
     ]
    }
   ],
   "source": [
    "chess_piece = {\"\" : \"Pawn\",\n",
    "               \"R\" : \"Rook\",\n",
    "               \"N\" : \"Knight\", \n",
    "               \"B\" : \"Bishop\", \n",
    "               \"Q\" : \"Queen\", \n",
    "               \"K\" : \"King\"}\n",
    "# Black: Kd6\n",
    "def get_capture_details(current_move : str, all_moves : str) -> None:\n",
    "    target = current_move.split(\" \")[1]\n",
    "    print(chess_piece[target[0]])\n",
    "\n",
    "get_capture_details(\"Black: Kd6\", \"\")\n",
    "    "
   ]
  },
  {
   "cell_type": "code",
   "execution_count": 40,
   "id": "0895d060-d4af-479f-a203-7ed710d4d590",
   "metadata": {},
   "outputs": [],
   "source": [
    "def get_number_of_capture(moves : str) -> int:\n",
    "    total_capture = 0\n",
    "    white_capture = 0 # black piece\n",
    "    black_capture = 0 # white piece\n",
    "    moves = moves.split(\"\\n\")\n",
    "    # print(moves)\n",
    "    # print(len(moves))\n",
    "    for move_pair in moves:\n",
    "        move = move_pair.split(\",\")\n",
    "        if \"x\" in move_pair:\n",
    "            if \"x\" in move[0]:\n",
    "                white_capture+=1\n",
    "            if \"x\" in move[1]:\n",
    "                black_capture+=1\n",
    "        total_capture += move_pair.count(\"x\")\n",
    "        \n",
    "    print(f\"White captured {white_capture} pieces\")\n",
    "    print(f\"Black captured {black_capture} pieces\")\n",
    "\n",
    "    return total_capture"
   ]
  },
  {
   "cell_type": "code",
   "execution_count": 41,
   "id": "85254d90-7cab-4252-9600-4afcbfd54c63",
   "metadata": {},
   "outputs": [
    {
     "name": "stdout",
     "output_type": "stream",
     "text": [
      "White captured 13 pieces\n",
      "Black captured 14 pieces\n"
     ]
    },
    {
     "data": {
      "text/plain": [
       "27"
      ]
     },
     "execution_count": 41,
     "metadata": {},
     "output_type": "execute_result"
    }
   ],
   "source": [
    "get_number_of_capture(test_pair)"
   ]
  },
  {
   "cell_type": "code",
   "execution_count": null,
   "id": "372ae054-02c5-4b36-9469-9bd88bf1fd6a",
   "metadata": {},
   "outputs": [],
   "source": []
  }
 ],
 "metadata": {
  "kernelspec": {
   "display_name": "Python 3 (ipykernel)",
   "language": "python",
   "name": "python3"
  },
  "language_info": {
   "codemirror_mode": {
    "name": "ipython",
    "version": 3
   },
   "file_extension": ".py",
   "mimetype": "text/x-python",
   "name": "python",
   "nbconvert_exporter": "python",
   "pygments_lexer": "ipython3",
   "version": "3.8.19"
  }
 },
 "nbformat": 4,
 "nbformat_minor": 5
}
