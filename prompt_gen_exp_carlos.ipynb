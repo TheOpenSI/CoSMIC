{
 "cells": [
  {
   "cell_type": "code",
   "execution_count": 1,
   "id": "6f45e7b1-4349-4144-bc57-24e235dd690e",
   "metadata": {
    "tags": []
   },
   "outputs": [],
   "source": [
    "import pandas as pd\n",
    "from generate_data import get_api_key, gen_cot_prompt"
   ]
  },
  {
   "cell_type": "code",
   "execution_count": 2,
   "id": "050639a1",
   "metadata": {},
   "outputs": [
    {
     "data": {
      "text/html": [
       "<div>\n",
       "<style scoped>\n",
       "    .dataframe tbody tr th:only-of-type {\n",
       "        vertical-align: middle;\n",
       "    }\n",
       "\n",
       "    .dataframe tbody tr th {\n",
       "        vertical-align: top;\n",
       "    }\n",
       "\n",
       "    .dataframe thead th {\n",
       "        text-align: right;\n",
       "    }\n",
       "</style>\n",
       "<table border=\"1\" class=\"dataframe\">\n",
       "  <thead>\n",
       "    <tr style=\"text-align: right;\">\n",
       "      <th></th>\n",
       "      <th>rated</th>\n",
       "      <th>created_at</th>\n",
       "      <th>last_move_at</th>\n",
       "      <th>turns</th>\n",
       "      <th>victory_status</th>\n",
       "      <th>winner</th>\n",
       "      <th>increment_code</th>\n",
       "      <th>white_id</th>\n",
       "      <th>white_rating</th>\n",
       "      <th>black_id</th>\n",
       "      <th>black_rating</th>\n",
       "      <th>moves</th>\n",
       "      <th>opening_eco</th>\n",
       "      <th>opening_name</th>\n",
       "      <th>opening_ply</th>\n",
       "    </tr>\n",
       "    <tr>\n",
       "      <th>id</th>\n",
       "      <th></th>\n",
       "      <th></th>\n",
       "      <th></th>\n",
       "      <th></th>\n",
       "      <th></th>\n",
       "      <th></th>\n",
       "      <th></th>\n",
       "      <th></th>\n",
       "      <th></th>\n",
       "      <th></th>\n",
       "      <th></th>\n",
       "      <th></th>\n",
       "      <th></th>\n",
       "      <th></th>\n",
       "      <th></th>\n",
       "    </tr>\n",
       "  </thead>\n",
       "  <tbody>\n",
       "    <tr>\n",
       "      <th>TZJHLljE</th>\n",
       "      <td>False</td>\n",
       "      <td>1.504210e+12</td>\n",
       "      <td>1.504210e+12</td>\n",
       "      <td>13</td>\n",
       "      <td>outoftime</td>\n",
       "      <td>white</td>\n",
       "      <td>15+2</td>\n",
       "      <td>bourgris</td>\n",
       "      <td>1500</td>\n",
       "      <td>a-00</td>\n",
       "      <td>1191</td>\n",
       "      <td>d4 d5 c4 c6 cxd5 e6 dxe6 fxe6 Nf3 Bb4+ Nc3 Ba5...</td>\n",
       "      <td>D10</td>\n",
       "      <td>Slav Defense: Exchange Variation</td>\n",
       "      <td>5</td>\n",
       "    </tr>\n",
       "    <tr>\n",
       "      <th>l1NXvwaE</th>\n",
       "      <td>True</td>\n",
       "      <td>1.504130e+12</td>\n",
       "      <td>1.504130e+12</td>\n",
       "      <td>16</td>\n",
       "      <td>resign</td>\n",
       "      <td>black</td>\n",
       "      <td>5+10</td>\n",
       "      <td>a-00</td>\n",
       "      <td>1322</td>\n",
       "      <td>skinnerua</td>\n",
       "      <td>1261</td>\n",
       "      <td>d4 Nc6 e4 e5 f4 f6 dxe5 fxe5 fxe5 Nxe5 Qd4 Nc6...</td>\n",
       "      <td>B00</td>\n",
       "      <td>Nimzowitsch Defense: Kennedy Variation</td>\n",
       "      <td>4</td>\n",
       "    </tr>\n",
       "    <tr>\n",
       "      <th>mIICvQHh</th>\n",
       "      <td>True</td>\n",
       "      <td>1.504130e+12</td>\n",
       "      <td>1.504130e+12</td>\n",
       "      <td>61</td>\n",
       "      <td>mate</td>\n",
       "      <td>white</td>\n",
       "      <td>5+10</td>\n",
       "      <td>ischia</td>\n",
       "      <td>1496</td>\n",
       "      <td>a-00</td>\n",
       "      <td>1500</td>\n",
       "      <td>e4 e5 d3 d6 Be3 c6 Be2 b5 Nd2 a5 a4 c5 axb5 Nc...</td>\n",
       "      <td>C20</td>\n",
       "      <td>King's Pawn Game: Leonardis Variation</td>\n",
       "      <td>3</td>\n",
       "    </tr>\n",
       "    <tr>\n",
       "      <th>kWKvrqYL</th>\n",
       "      <td>True</td>\n",
       "      <td>1.504110e+12</td>\n",
       "      <td>1.504110e+12</td>\n",
       "      <td>61</td>\n",
       "      <td>mate</td>\n",
       "      <td>white</td>\n",
       "      <td>20+0</td>\n",
       "      <td>daniamurashov</td>\n",
       "      <td>1439</td>\n",
       "      <td>adivanov2009</td>\n",
       "      <td>1454</td>\n",
       "      <td>d4 d5 Nf3 Bf5 Nc3 Nf6 Bf4 Ng4 e3 Nc6 Be2 Qd7 O...</td>\n",
       "      <td>D02</td>\n",
       "      <td>Queen's Pawn Game: Zukertort Variation</td>\n",
       "      <td>3</td>\n",
       "    </tr>\n",
       "    <tr>\n",
       "      <th>9tXo1AUZ</th>\n",
       "      <td>True</td>\n",
       "      <td>1.504030e+12</td>\n",
       "      <td>1.504030e+12</td>\n",
       "      <td>95</td>\n",
       "      <td>mate</td>\n",
       "      <td>white</td>\n",
       "      <td>30+3</td>\n",
       "      <td>nik221107</td>\n",
       "      <td>1523</td>\n",
       "      <td>adivanov2009</td>\n",
       "      <td>1469</td>\n",
       "      <td>e4 e5 Nf3 d6 d4 Nc6 d5 Nb4 a3 Na6 Nc3 Be7 b4 N...</td>\n",
       "      <td>C41</td>\n",
       "      <td>Philidor Defense</td>\n",
       "      <td>5</td>\n",
       "    </tr>\n",
       "  </tbody>\n",
       "</table>\n",
       "</div>"
      ],
      "text/plain": [
       "          rated    created_at  last_move_at  turns victory_status winner  \\\n",
       "id                                                                         \n",
       "TZJHLljE  False  1.504210e+12  1.504210e+12     13      outoftime  white   \n",
       "l1NXvwaE   True  1.504130e+12  1.504130e+12     16         resign  black   \n",
       "mIICvQHh   True  1.504130e+12  1.504130e+12     61           mate  white   \n",
       "kWKvrqYL   True  1.504110e+12  1.504110e+12     61           mate  white   \n",
       "9tXo1AUZ   True  1.504030e+12  1.504030e+12     95           mate  white   \n",
       "\n",
       "         increment_code       white_id  white_rating      black_id  \\\n",
       "id                                                                   \n",
       "TZJHLljE           15+2       bourgris          1500          a-00   \n",
       "l1NXvwaE           5+10           a-00          1322     skinnerua   \n",
       "mIICvQHh           5+10         ischia          1496          a-00   \n",
       "kWKvrqYL           20+0  daniamurashov          1439  adivanov2009   \n",
       "9tXo1AUZ           30+3      nik221107          1523  adivanov2009   \n",
       "\n",
       "          black_rating                                              moves  \\\n",
       "id                                                                          \n",
       "TZJHLljE          1191  d4 d5 c4 c6 cxd5 e6 dxe6 fxe6 Nf3 Bb4+ Nc3 Ba5...   \n",
       "l1NXvwaE          1261  d4 Nc6 e4 e5 f4 f6 dxe5 fxe5 fxe5 Nxe5 Qd4 Nc6...   \n",
       "mIICvQHh          1500  e4 e5 d3 d6 Be3 c6 Be2 b5 Nd2 a5 a4 c5 axb5 Nc...   \n",
       "kWKvrqYL          1454  d4 d5 Nf3 Bf5 Nc3 Nf6 Bf4 Ng4 e3 Nc6 Be2 Qd7 O...   \n",
       "9tXo1AUZ          1469  e4 e5 Nf3 d6 d4 Nc6 d5 Nb4 a3 Na6 Nc3 Be7 b4 N...   \n",
       "\n",
       "         opening_eco                            opening_name  opening_ply  \n",
       "id                                                                         \n",
       "TZJHLljE         D10        Slav Defense: Exchange Variation            5  \n",
       "l1NXvwaE         B00  Nimzowitsch Defense: Kennedy Variation            4  \n",
       "mIICvQHh         C20   King's Pawn Game: Leonardis Variation            3  \n",
       "kWKvrqYL         D02  Queen's Pawn Game: Zukertort Variation            3  \n",
       "9tXo1AUZ         C41                        Philidor Defense            5  "
      ]
     },
     "execution_count": 2,
     "metadata": {},
     "output_type": "execute_result"
    }
   ],
   "source": [
    "# get the games data\n",
    "\n",
    "games_df = pd.read_csv(\"./data/games.csv\", index_col = 0)\n",
    "games_df.head()"
   ]
  },
  {
   "cell_type": "code",
   "execution_count": 3,
   "id": "43c69fbb-2d65-4825-b0d6-05f27e866c2e",
   "metadata": {
    "tags": []
   },
   "outputs": [
    {
     "name": "stderr",
     "output_type": "stream",
     "text": [
      "/tmp/ipykernel_176624/1519825386.py:1: FutureWarning: Series.__getitem__ treating keys as positions is deprecated. In a future version, integer keys will always be treated as labels (consistent with DataFrame behavior). To access a value by position, use `ser.iloc[pos]`\n",
      "  games_df.moves[1]\n"
     ]
    },
    {
     "data": {
      "text/plain": [
       "'d4 Nc6 e4 e5 f4 f6 dxe5 fxe5 fxe5 Nxe5 Qd4 Nc6 Qe5+ Nxe5 c4 Bb4+'"
      ]
     },
     "execution_count": 3,
     "metadata": {},
     "output_type": "execute_result"
    }
   ],
   "source": [
    "games_df.moves[1]"
   ]
  },
  {
   "cell_type": "markdown",
   "id": "39ef9165-4e16-4b81-b49f-03a0c3fb2851",
   "metadata": {
    "tags": []
   },
   "source": [
    "# Loading API keys"
   ]
  },
  {
   "cell_type": "code",
   "execution_count": 4,
   "id": "943f239c-19b3-4ce1-9a6e-40a08c925a99",
   "metadata": {
    "tags": []
   },
   "outputs": [],
   "source": [
    "import os\n",
    "from dotenv import load_dotenv\n",
    "load_dotenv()\n",
    "openai_api_key = os.getenv(\"openai_api_key\")"
   ]
  },
  {
   "cell_type": "markdown",
   "id": "32622501-7cd8-400d-b571-66f8917953d7",
   "metadata": {},
   "source": [
    "## Setting up openai api call environment"
   ]
  },
  {
   "cell_type": "code",
   "execution_count": 5,
   "id": "24a27290-e95d-4d94-8f44-5ac619242532",
   "metadata": {
    "tags": []
   },
   "outputs": [],
   "source": [
    "from openai import OpenAI\n",
    "client = OpenAI(api_key = openai_api_key)"
   ]
  },
  {
   "cell_type": "code",
   "execution_count": 6,
   "id": "704ee803-d52c-44bc-a429-399a8717d1af",
   "metadata": {
    "tags": []
   },
   "outputs": [
    {
     "data": {
      "text/plain": [
       "rated                                                          True\n",
       "created_at                                          1502780000000.0\n",
       "last_move_at                                        1502780000000.0\n",
       "turns                                                            53\n",
       "victory_status                                               resign\n",
       "winner                                                        black\n",
       "increment_code                                                10+10\n",
       "white_id                                          shivangithegenius\n",
       "white_rating                                                   1056\n",
       "black_id                                             biyanivedant01\n",
       "black_rating                                                   1156\n",
       "moves             d4 d5 c4 c6 e3 dxc4 Bxc4 Nf6 Nc3 e6 e4 e5 d5 c...\n",
       "opening_eco                                                     D10\n",
       "opening_name                                           Slav Defense\n",
       "opening_ply                                                       4\n",
       "Name: NS6ccssb, dtype: object"
      ]
     },
     "execution_count": 6,
     "metadata": {},
     "output_type": "execute_result"
    }
   ],
   "source": [
    "games_df.iloc[28]"
   ]
  },
  {
   "cell_type": "code",
   "execution_count": 7,
   "id": "9eab5054-f7ea-4684-b0d0-3661805a7412",
   "metadata": {
    "tags": []
   },
   "outputs": [
    {
     "data": {
      "text/plain": [
       "'d4 d5 c4 c6 e3 dxc4 Bxc4 Nf6 Nc3 e6 e4 e5 d5 cxd5 exd5 Bd6 Bg5 O-O Bxf6 Qxf6 Nf3 Bc5 O-O Qg6 Nxe5 Qg5 Nf3 Qh6 Nb5 Na6 d6 Rd8 Qd5 Bxd6 Qxf7+ Kh8 Nxd6 Qxd6 Rfd1 Qf8 Rxd8 Qxd8 h3 Bf5 Qxf5 Qf8 Qd5 Nc7 Qxb7 Qb8 Qd5 Nxd5 Bxd5'"
      ]
     },
     "execution_count": 7,
     "metadata": {},
     "output_type": "execute_result"
    }
   ],
   "source": [
    "moves = games_df.iloc[28][\"moves\"]\n",
    "moves"
   ]
  },
  {
   "cell_type": "markdown",
   "id": "0cd29917-58e9-43c5-bdda-7518eb200a73",
   "metadata": {},
   "source": [
    "# Testing the prim prompt"
   ]
  },
  {
   "cell_type": "markdown",
   "id": "d5775357-1a60-4cce-9387-b69cddabc7cd",
   "metadata": {},
   "source": [
    "# for loop explicit chain of thougt prompting"
   ]
  },
  {
   "cell_type": "code",
   "execution_count": 8,
   "id": "69c54969-e344-4add-8ab0-b2c9c22de812",
   "metadata": {},
   "outputs": [
    {
     "name": "stdout",
     "output_type": "stream",
     "text": [
      "White: d4, Black: d5\n",
      "White: c4, Black: c6\n",
      "White: e3, Black: dxc4\n",
      "White: Bxc4, Black: Nf6\n",
      "White: Nc3, Black: e6\n",
      "White: e4, Black: e5\n",
      "White: d5, Black: cxd5\n",
      "White: exd5, Black: Bd6\n",
      "White: Bg5, Black: O-O\n",
      "White: Bxf6, Black: Qxf6\n",
      "White: Nf3, Black: Bc5\n",
      "White: O-O, Black: Qg6\n",
      "White: Nxe5, Black: Qg5\n",
      "White: Nf3, Black: Qh6\n",
      "White: Nb5, Black: Na6\n",
      "White: d6, Black: Rd8\n",
      "White: Qd5, Black: Bxd6\n",
      "White: Qxf7+, Black: Kh8\n",
      "White: Nxd6, Black: Qxd6\n",
      "White: Rfd1, Black: Qf8\n",
      "White: Rxd8, Black: Qxd8\n",
      "White: h3, Black: Bf5\n",
      "White: Qxf5, Black: Qf8\n",
      "White: Qd5, Black: Nc7\n",
      "White: Qxb7, Black: Qb8\n",
      "White: Qd5, Black: Nxd5\n",
      "White: Bxd5\n"
     ]
    }
   ],
   "source": [
    "print(\"\\n\".join(gen_cot_prompt(moves)))"
   ]
  },
  {
   "cell_type": "code",
   "execution_count": 9,
   "id": "1c33379c-9ea9-4068-9e11-9542e72ed417",
   "metadata": {},
   "outputs": [],
   "source": [
    "system_content_cot = '''Assume you are a chess master.\n",
    "You will be provided with a list of chess move pairs in Algebraic Notation where 1st move is by White and 2nd by Black and so on.\n",
    "Your task is to analyse each pair and then generate the rationale behind each White and Black move.\n",
    "After the pair based analysis you have to write a summary present a list of used strategies during the game and a reason for the winner.\n",
    "\n",
    "'''\n",
    "temp = \"\\n\".join(gen_cot_prompt(moves))\n",
    "user_content_cot = f\"Previous move pairs are - \\n{temp}\""
   ]
  },
  {
   "cell_type": "code",
   "execution_count": 10,
   "id": "be66a844-bad0-4b46-bf21-db7948980293",
   "metadata": {},
   "outputs": [
    {
     "name": "stdout",
     "output_type": "stream",
     "text": [
      "Previous move pairs are - \n",
      "White: d4, Black: d5\n",
      "White: c4, Black: c6\n",
      "White: e3, Black: dxc4\n",
      "White: Bxc4, Black: Nf6\n",
      "White: Nc3, Black: e6\n",
      "White: e4, Black: e5\n",
      "White: d5, Black: cxd5\n",
      "White: exd5, Black: Bd6\n",
      "White: Bg5, Black: O-O\n",
      "White: Bxf6, Black: Qxf6\n",
      "White: Nf3, Black: Bc5\n",
      "White: O-O, Black: Qg6\n",
      "White: Nxe5, Black: Qg5\n",
      "White: Nf3, Black: Qh6\n",
      "White: Nb5, Black: Na6\n",
      "White: d6, Black: Rd8\n",
      "White: Qd5, Black: Bxd6\n",
      "White: Qxf7+, Black: Kh8\n",
      "White: Nxd6, Black: Qxd6\n",
      "White: Rfd1, Black: Qf8\n",
      "White: Rxd8, Black: Qxd8\n",
      "White: h3, Black: Bf5\n",
      "White: Qxf5, Black: Qf8\n",
      "White: Qd5, Black: Nc7\n",
      "White: Qxb7, Black: Qb8\n",
      "White: Qd5, Black: Nxd5\n",
      "White: Bxd5\n"
     ]
    }
   ],
   "source": [
    "print(user_content_cot)"
   ]
  },
  {
   "cell_type": "code",
   "execution_count": 47,
   "id": "6651b569-e260-4dd0-8e6b-4a7f08fecf93",
   "metadata": {},
   "outputs": [
    {
     "name": "stdout",
     "output_type": "stream",
     "text": [
      "\n",
      "In the given sequence of moves, the game has progressed as follows:\n",
      "\n",
      "1. d4, d5: This is a common opening move known as the Queen's Pawn Opening where both players establish control in the center of the board.\n",
      "2. c4, c6: This move by Black, playing the Slav Defense, aims to defend the pawn on d5 and prepare to develop the knight.\n",
      "3. e3, dxc4: White captures the c4 pawn, leading to an early exchange.\n",
      "4. Bxc4, Nf6: White develops the bishop to attack f7 while Black develops the knight to control the center.\n",
      "5. Nc3, e6: White continues development and prepares to castle kingside, while Black strengthens the center.\n",
      "6. e4, e5: White advances the e-pawn to gain more central control, while Black retaliates by advancing the e-pawn as well.\n",
      "7. d5, cxd5: White opens up the center, aiming to create a passed pawn, Black recaptures with the d-pawn.\n",
      "8. exd5, Bd6: White establishes a strong central pawn duo, Black develops the bishop to put pressure on the center.\n",
      "9. Bg5, O-O: White pins the f6 knight to the queen, while Black castles kingside to connect the rooks.\n",
      "10. Bxf6, Qxf6: White opts for the bishop exchange to weaken Black's pawn structure, Black recaptures with the queen.\n",
      "11. Nf3, Bc5: White continues development, Black develops the bishop to target f2.\n",
      "12. O-O, Qg6: White castles kingside for safety, Black attacks the g2 pawn.\n",
      "13. Nxe5, Qg5: White sacrifices the pawn to open up the center and target the weakened black king.\n",
      "14. Nf3, Qh6: White retreats the knight to prepare for a potential attack, Black brings the queen to a more active square.\n",
      "15. Nb5, Na6: White advances the knight to attack the c7 square, Black develops the knight to protect the rook.\n",
      "16. d6, Rd8: White advances the d-pawn to create a passed pawn, Black develops the rook to an open file.\n",
      "17. Qd5, Bxd6: White threatens a discovered attack on the queen, Black captures the pawn on d6 with the bishop.\n",
      "18. Qxf7+, Kh8: White checks the black king, Black moves the king to h8 to escape the check.\n",
      "19. Nxd6, Qxd6: White captures the d6 bishop with the knight, gaining material advantage.\n",
      "20. Rfd1, Qf8: White attacks the pinned queen on d8, Black moves the queen to f8 to defend.\n",
      "21. Rxd8, Qxd8: White pins the black queen to the king, winning the queen.\n",
      "22. h3, Bf5: White prevents any potential back-rank threats, Black brings the bishop to a safer square.\n",
      "23. Qxf5, Qf8: White attacks the f5 pawn, Black exchanges the queens.\n",
      "24. Qd5, Nc7: White targets the b7 pawn with the queen, Black develops the knight to attack the White queen.\n",
      "25. Qxb7, Qb8: White wins the b7 pawn, as Black moves the queen to b8 to defend the rook.\n",
      "26. Qd5, Nxd5: White wins another piece by capturing the knight, Black captures the queen.\n",
      "27. Bxd5: White wins the exchange by capturing the knight on d5.\n",
      "\n",
      "Summary of Strategies Used:\n",
      "1. Control of the center: Both players aimed to establish control in the center by advancing pawns and developing pieces towards the center.\n",
      "2. Piece development: Both players focused on developing their pieces to active squares and castle to safety.\n",
      "3. Pawn structure: White aimed to create a strong central pawn duo, while Black aimed to protect its pawn structure and counterattack.\n",
      "4. Tactical sacrifices: White made tactical sacrifices to open up the position and create attacking chances.\n",
      "5. Material advantage: White gained material advantage by winning pieces through tactical maneuvers.\n",
      "\n",
      "Reason for the Winner:\n",
      "White emerges as the winner in this game due to effective piece coordination, tactical play, and capitalizing on material advantage. By sacrificing pawns and pieces strategically, White managed to create threats on the Black king and win material, ultimately leading to victory."
     ]
    }
   ],
   "source": [
    "stream = client.chat.completions.create(\n",
    "    model=\"gpt-3.5-turbo-0125\",\n",
    "    # messages=[{\"role\": \"user\", \"content\": setup}],\n",
    "    messages = [\n",
    "    {\n",
    "      \"role\": \"system\",\n",
    "      \"content\": system_content_cot\n",
    "    },\n",
    "    {\n",
    "      \"role\": \"user\",\n",
    "      \"content\": user_content_cot\n",
    "    }\n",
    "  ],\n",
    "    stream=True,\n",
    ")\n",
    "print()\n",
    "for chunk in stream:\n",
    "    if chunk.choices[0].delta.content is not None:\n",
    "        print(chunk.choices[0].delta.content, end=\"\")"
   ]
  },
  {
   "cell_type": "code",
   "execution_count": null,
   "id": "bea50c72",
   "metadata": {},
   "outputs": [],
   "source": []
  }
 ],
 "metadata": {
  "kernelspec": {
   "display_name": "Python 3 (ipykernel)",
   "language": "python",
   "name": "python3"
  },
  "language_info": {
   "codemirror_mode": {
    "name": "ipython",
    "version": 3
   },
   "file_extension": ".py",
   "mimetype": "text/x-python",
   "name": "python",
   "nbconvert_exporter": "python",
   "pygments_lexer": "ipython3",
   "version": "3.10.14"
  }
 },
 "nbformat": 4,
 "nbformat_minor": 5
}
