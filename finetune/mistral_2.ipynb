{
 "cells": [
  {
   "cell_type": "code",
   "execution_count": 5,
   "id": "e4cee869-9d96-4320-8745-2918f8666188",
   "metadata": {},
   "outputs": [
    {
     "data": {
      "text/plain": [
       "True"
      ]
     },
     "execution_count": 5,
     "metadata": {},
     "output_type": "execute_result"
    }
   ],
   "source": [
    "import json\n",
    "import os\n",
    "from pprint import pprint\n",
    "import bitsandbytes as bnb\n",
    "import torch\n",
    "import torch.nn as nn\n",
    "import transformers\n",
    "from datasets import load_dataset\n",
    "from huggingface_hub import notebook_login, login\n",
    "from peft import (\n",
    "    LoraConfig,\n",
    "    PeftConfig,\n",
    "    PeftModel,\n",
    "    get_peft_model,\n",
    "    prepare_model_for_kbit_training\n",
    ")\n",
    "from transformers import (\n",
    "    AutoConfig,\n",
    "    AutoModelForCausalLM,\n",
    "    AutoTokenizer,\n",
    "    BitsAndBytesConfig\n",
    ")\n",
    "import pandas as pd\n",
    "from dotenv import load_dotenv\n",
    "load_dotenv()"
   ]
  },
  {
   "cell_type": "code",
   "execution_count": 4,
   "id": "5a5250f8-dc34-4eb3-99e7-e5fa5f251801",
   "metadata": {},
   "outputs": [],
   "source": [
    "hf_token = os.getenv(\"hf_token\")"
   ]
  },
  {
   "cell_type": "code",
   "execution_count": 6,
   "id": "2000f7be-d2ff-474f-9bc4-7378d64383d2",
   "metadata": {},
   "outputs": [
    {
     "name": "stdout",
     "output_type": "stream",
     "text": [
      "The token has not been saved to the git credentials helper. Pass `add_to_git_credential=True` in this function directly or `--add-to-git-credential` if using via `huggingface-cli` if you want to set the git credential as well.\n",
      "Token is valid (permission: write).\n",
      "Your token has been saved to /home/s448780/.cache/huggingface/token\n",
      "Login successful\n"
     ]
    }
   ],
   "source": [
    "login(hf_token)"
   ]
  },
  {
   "cell_type": "markdown",
   "id": "5b5483d5-9f69-4e2d-9e1e-52ef4a7de5e0",
   "metadata": {},
   "source": [
    "## Load model"
   ]
  },
  {
   "cell_type": "code",
   "execution_count": 30,
   "id": "b8259f4c-4baa-44ae-b60b-2dabe4b4c0b4",
   "metadata": {},
   "outputs": [],
   "source": [
    "bnb_config = BitsAndBytesConfig(\n",
    "    load_in_4bit=True,\n",
    "    bnb_4bit_use_double_quant=True,\n",
    "    bnb_4bit_quant_type=\"nf4\",\n",
    "    bnb_4bit_compute_dtype=torch.bfloat16\n",
    ")"
   ]
  },
  {
   "cell_type": "code",
   "execution_count": 31,
   "id": "14cfc702-d836-4b74-8e55-953924106b14",
   "metadata": {},
   "outputs": [
    {
     "data": {
      "application/vnd.jupyter.widget-view+json": {
       "model_id": "ed845b12439a4c0194f11f80a3145c42",
       "version_major": 2,
       "version_minor": 0
      },
      "text/plain": [
       "Loading checkpoint shards:   0%|          | 0/2 [00:00<?, ?it/s]"
      ]
     },
     "metadata": {},
     "output_type": "display_data"
    }
   ],
   "source": [
    "model_id = \"mistralai/Mistral-7B-v0.1\"\n",
    "\n",
    "# load model \n",
    "model = AutoModelForCausalLM.from_pretrained(\n",
    "    model_id, \n",
    "    quantization_config=bnb_config, \n",
    "    use_cache=False, \n",
    "    device_map=\"auto\"\n",
    ")\n",
    "model.config.pretraining_tp = 1 #parallel GPU\n",
    "\n",
    "tokenizer = AutoTokenizer.from_pretrained(model_id)\n",
    "tokenizer.pad_token = tokenizer.eos_token"
   ]
  },
  {
   "cell_type": "markdown",
   "id": "a519c0ac-5701-4a69-8d84-91690a0416fe",
   "metadata": {},
   "source": [
    "## dataset"
   ]
  },
  {
   "cell_type": "code",
   "execution_count": 16,
   "id": "6d0606aa-0a15-44d6-a222-f587db90f1f0",
   "metadata": {},
   "outputs": [
    {
     "data": {
      "text/html": [
       "<div>\n",
       "<style scoped>\n",
       "    .dataframe tbody tr th:only-of-type {\n",
       "        vertical-align: middle;\n",
       "    }\n",
       "\n",
       "    .dataframe tbody tr th {\n",
       "        vertical-align: top;\n",
       "    }\n",
       "\n",
       "    .dataframe thead th {\n",
       "        text-align: right;\n",
       "    }\n",
       "</style>\n",
       "<table border=\"1\" class=\"dataframe\">\n",
       "  <thead>\n",
       "    <tr style=\"text-align: right;\">\n",
       "      <th></th>\n",
       "      <th>moves</th>\n",
       "      <th>explanation</th>\n",
       "      <th>instruction</th>\n",
       "    </tr>\n",
       "  </thead>\n",
       "  <tbody>\n",
       "    <tr>\n",
       "      <th>0</th>\n",
       "      <td>e4 e6 d4 b6 e5 Bb7 Nf3 h6 Bd3 g5 O-O g4 Nfd2 h...</td>\n",
       "      <td>### Game Analysis\\n\\n**Move Pair 1:** \\n- **Wh...</td>\n",
       "      <td>Assume you are a chess master, explain the str...</td>\n",
       "    </tr>\n",
       "    <tr>\n",
       "      <th>1</th>\n",
       "      <td>e4 e6 d4 d5 Nd2 dxe4 Nxe4 Nf6 Bd3 Nxe4 Bxe4 Nc...</td>\n",
       "      <td>### Game Analysis\\n1. **White: e4, Black: e6**...</td>\n",
       "      <td>Assume you are a chess master, explain the str...</td>\n",
       "    </tr>\n",
       "    <tr>\n",
       "      <th>2</th>\n",
       "      <td>e4 e6 b3 d5 f3 Nc6 Bb2 dxe4 fxe4 Qh4+ Ke2 Qxe4...</td>\n",
       "      <td>### Game Analysis\\n\\n1. **White: e4, Black: e6...</td>\n",
       "      <td>Assume you are a chess master, explain the str...</td>\n",
       "    </tr>\n",
       "    <tr>\n",
       "      <th>3</th>\n",
       "      <td>e4 e5 Nf3 Nc6 d4 Bb4+ c3 Bd6 Bb5 Qf6 O-O exd4 ...</td>\n",
       "      <td>### Game Analysis:\\n\\n1. **White: e4, Black: e...</td>\n",
       "      <td>Assume you are a chess master, explain the str...</td>\n",
       "    </tr>\n",
       "    <tr>\n",
       "      <th>4</th>\n",
       "      <td>d4 Nf6 c4 e6 Nf3 d5 c5 b6 b4 a5 Ba3 axb4 Bxb4 ...</td>\n",
       "      <td>### Game Analysis\\n\\n1. **d4, Nf6**\\n   - **Wh...</td>\n",
       "      <td>Assume you are a chess master, explain the str...</td>\n",
       "    </tr>\n",
       "  </tbody>\n",
       "</table>\n",
       "</div>"
      ],
      "text/plain": [
       "                                               moves  \\\n",
       "0  e4 e6 d4 b6 e5 Bb7 Nf3 h6 Bd3 g5 O-O g4 Nfd2 h...   \n",
       "1  e4 e6 d4 d5 Nd2 dxe4 Nxe4 Nf6 Bd3 Nxe4 Bxe4 Nc...   \n",
       "2  e4 e6 b3 d5 f3 Nc6 Bb2 dxe4 fxe4 Qh4+ Ke2 Qxe4...   \n",
       "3  e4 e5 Nf3 Nc6 d4 Bb4+ c3 Bd6 Bb5 Qf6 O-O exd4 ...   \n",
       "4  d4 Nf6 c4 e6 Nf3 d5 c5 b6 b4 a5 Ba3 axb4 Bxb4 ...   \n",
       "\n",
       "                                         explanation  \\\n",
       "0  ### Game Analysis\\n\\n**Move Pair 1:** \\n- **Wh...   \n",
       "1  ### Game Analysis\\n1. **White: e4, Black: e6**...   \n",
       "2  ### Game Analysis\\n\\n1. **White: e4, Black: e6...   \n",
       "3  ### Game Analysis:\\n\\n1. **White: e4, Black: e...   \n",
       "4  ### Game Analysis\\n\\n1. **d4, Nf6**\\n   - **Wh...   \n",
       "\n",
       "                                         instruction  \n",
       "0  Assume you are a chess master, explain the str...  \n",
       "1  Assume you are a chess master, explain the str...  \n",
       "2  Assume you are a chess master, explain the str...  \n",
       "3  Assume you are a chess master, explain the str...  \n",
       "4  Assume you are a chess master, explain the str...  "
      ]
     },
     "execution_count": 16,
     "metadata": {},
     "output_type": "execute_result"
    }
   ],
   "source": [
    "df = pd.read_csv(\"filtered_data/data.csv\")\n",
    "df[\"instruction\"] = \"Assume you are a chess master, explain the strategy used by each player based on the provided chess moves.\"\n",
    "df.head()"
   ]
  },
  {
   "cell_type": "code",
   "execution_count": 17,
   "id": "f2f0d105-1270-4b3e-94fb-dbb7c4f12619",
   "metadata": {},
   "outputs": [],
   "source": [
    "df.to_csv(\"./filtered_data/data.csv\", index = False)"
   ]
  },
  {
   "cell_type": "code",
   "execution_count": 18,
   "id": "5f8ffe7a-8201-4bde-a6ca-75cb41db7edc",
   "metadata": {},
   "outputs": [
    {
     "data": {
      "application/vnd.jupyter.widget-view+json": {
       "model_id": "9ff49a943e15444c81d703ebd1befbfd",
       "version_major": 2,
       "version_minor": 0
      },
      "text/plain": [
       "Generating train split: 0 examples [00:00, ? examples/s]"
      ]
     },
     "metadata": {},
     "output_type": "display_data"
    },
    {
     "data": {
      "text/plain": [
       "DatasetDict({\n",
       "    train: Dataset({\n",
       "        features: ['moves', 'explanation', 'instruction'],\n",
       "        num_rows: 500\n",
       "    })\n",
       "})"
      ]
     },
     "execution_count": 18,
     "metadata": {},
     "output_type": "execute_result"
    }
   ],
   "source": [
    "dataset = load_dataset(\"csv\", data_files=\"./filtered_data/data.csv\")\n",
    "dataset"
   ]
  },
  {
   "cell_type": "code",
   "execution_count": 19,
   "id": "86194a2b-eff7-4ff7-9af1-69f3fd5f9f7f",
   "metadata": {},
   "outputs": [],
   "source": [
    "# def format_instruction(sample):\n",
    "#     return f\"\"\"You are a chess expert. Explain the rationale behind the last move from the given chess moves in Algebraic notation - \n",
    "#         {sample[\"moves\"]}\n",
    "\n",
    "#         ### Response:\n",
    "#         {sample[\"explanation\"]}\n",
    "#     \"\"\""
   ]
  },
  {
   "cell_type": "code",
   "execution_count": 20,
   "id": "80c8540d-a3d4-44d9-bdfb-b37381504d30",
   "metadata": {},
   "outputs": [],
   "source": [
    "# sample = dataset[\"train\"][0]\n",
    "# print(format_instruction(sample))"
   ]
  },
  {
   "cell_type": "code",
   "execution_count": 50,
   "id": "15030b0b-f338-487d-bf06-5e8ee120b804",
   "metadata": {},
   "outputs": [],
   "source": [
    "def create_text_row(instruction, moves, explanation):\n",
    "    return f\"\"\"<s>[INST] {instruction} Here are the chess moves in Algenraic Notaion - {moves} [/INST] \\\\n {explanation} </s>\"\"\""
   ]
  },
  {
   "cell_type": "code",
   "execution_count": 51,
   "id": "28d6c5f5-b7ef-4243-932f-e58ce4a788d4",
   "metadata": {},
   "outputs": [],
   "source": [
    "EOS_TOKEN = tokenizer.eos_token\n",
    "def formatting_func(df):\n",
    "    instructions = df[\"instruction\"]\n",
    "    inputs      = df[\"moves\"]\n",
    "    outputs     = df[\"explanation\"]\n",
    "    texts = []\n",
    "    for instruction, inp, output in zip(instructions, inputs, outputs):\n",
    "        text = create_text_row(instruction, inp, output) # eos token coming from create_text_row function\n",
    "        #print(text)\n",
    "        texts.append(text)\n",
    "    return {\"text\" : texts}"
   ]
  },
  {
   "cell_type": "code",
   "execution_count": 52,
   "id": "3575e432-ab90-4cc3-aed2-b19dc1231e20",
   "metadata": {},
   "outputs": [
    {
     "data": {
      "application/vnd.jupyter.widget-view+json": {
       "model_id": "baa4e64a8ba846f798c4b0f960918df5",
       "version_major": 2,
       "version_minor": 0
      },
      "text/plain": [
       "Map:   0%|          | 0/500 [00:00<?, ? examples/s]"
      ]
     },
     "metadata": {},
     "output_type": "display_data"
    }
   ],
   "source": [
    "dataset = dataset.map(formatting_func, batched = True)"
   ]
  },
  {
   "cell_type": "code",
   "execution_count": 53,
   "id": "ee7265c7-a901-48df-8768-fc7034d1b734",
   "metadata": {},
   "outputs": [
    {
     "data": {
      "text/plain": [
       "DatasetDict({\n",
       "    train: Dataset({\n",
       "        features: ['moves', 'explanation', 'instruction', 'text'],\n",
       "        num_rows: 500\n",
       "    })\n",
       "})"
      ]
     },
     "execution_count": 53,
     "metadata": {},
     "output_type": "execute_result"
    }
   ],
   "source": [
    "dataset"
   ]
  },
  {
   "cell_type": "code",
   "execution_count": 55,
   "id": "4453245a-5b50-46ef-b2da-2e5da3c8b645",
   "metadata": {},
   "outputs": [
    {
     "data": {
      "text/plain": [
       "\"<s>[INST] Assume you are a chess master, explain the strategy used by each player based on the provided chess moves. Here are the chess moves in Algenraic Notaion - e4 e6 d4 b6 e5 Bb7 Nf3 h6 Bd3 g5 O-O g4 Nfd2 h5 Ne4 Nc6 Be3 Qe7 Qd2 Bh6 Bxh6 Nxh6 Nf6+ Kd8 Bh7 Nf5 Bxf5 exf5 c3 h4 Qg5 g3 fxg3 hxg3 Qxg3 Qf8 Rxf5 Ne7 Rg5 Ng6 Nd2 Qh6 Rh5 Qg7 Qg4 Bc8 Rxh8+ Qxh8 Rf1 d6 Qg5 Qh4 Qe3 Bb7 e6 [/INST] \\\\n ### Game Analysis\\n\\n**Move Pair 1:** \\n- **White: e4**: White opens with the most common 1.e4 move, aiming for central control and freeing the bishop and queen.\\n- **Black: e6**: Black responds with the French Defense, a solid choice, intending to challenge the center with d5 later.\\n\\n**Move Pair 2:** \\n- **White: d4**: White aims to further control the center and allows for the development of the bishop.\\n- **Black: b6**: Black prepares to fianchetto the light-squared bishop, potentially targeting the e4 pawn.\\n\\n**Move Pair 3:**\\n- **White: e5**: White advances the pawn, gaining more space in the center and setting up an advance on the kingside.\\n- **Black: Bb7**: Black fianchettos the bishop, targeting the central pawns and aiming to contest the center indirectly.\\n\\n**Move Pair 4:**\\n- **White: Nf3**: White develops the knight, putting pressure on the e5 pawn and preparing to castle.\\n- **Black: h6**: Black prevents the g5 move, which could displace the knight or create tactical opportunities for White.\\n\\n**Move Pair 5:**\\n- **White: Bd3**: White develops the bishop, eyeing the h7-pawn and preparing to castle.\\n- **Black: g5**: Black launches a pawn storm on the kingside, possibly aiming to create counterplay or disrupt White’s plans.\\n\\n**Move Pair 6:**\\n- **White: O-O**: White castles, ensuring king safety and connecting the rooks.\\n- **Black: g4**: Black continues the aggressive pawn push, attacking the knight on f3.\\n\\n**Move Pair 7:**\\n- **White: Nfd2**: White repositions the knight, aiming to reroute it to more active squares or prepare the c4 pawn break.\\n- **Black: h5**: Black supports the g4 pawn and continues the aggressive approach on the kingside.\\n\\n**Move Pair 8:**\\n- **White: Ne4**: White centralizes the knight, putting pressure on Black’s position and aiming at key squares.\\n- **Black: Nc6**: Black develops the knight, attacking the e5 pawn.\\n\\n**Move Pair 9:**\\n- **White: Be3**: White develops the bishop and supports the d4 pawn.\\n- **Black: Qe7**: Black prepares to connect rooks and possibly play O-O-O for castling.\\n\\n**Move Pair 10:**\\n- **White: Qd2**: White connects the rooks and prepares for a possible Bh6 move to exchange Black’s active bishop.\\n- **Black: Bh6**: Black aims to exchange White’s bishop and counter the threat of Bh6 by White.\\n\\n**Move Pair 11:**\\n- **White: Bxh6**: White captures the bishop, removing a defensive piece for Black.\\n- **Black: Nxh6**: Black recaptures, placing the knight back into play.\\n\\n**Move Pair 12:**\\n- **White: Nf6+**: A forcing move, checking the Black king and disrupting Black’s coordination.\\n- **Black: Kd8**: Black moves the king, unable to castle anymore.\\n\\n**Move Pair 13:**\\n- **White: Bh7**: White checks the king and places the bishop in a more active position.\\n- **Black: Nf5**: Black develops the knight, offering a trade or attacking the bishop.\\n\\n**Move Pair 14:**\\n- **White: Bxf5**: White captures the knight, further opening Black’s kingside.\\n- **Black: exf5**: Black recaptures, accepting doubled pawns but opening up the e-file for the queen or rook.\\n\\n**Move Pair 15:**\\n- **White: c3**: White prepares to solidify the center and protect the d4 pawn.\\n- **Black: h4**: Black continues to push pawns on the kingside, aiming at White’s position.\\n\\n**Move Pair 16:**\\n- **White: Qg5**: White places the queen on a commanding square, eyeing tactical opportunities against Black’s king.\\n- **Black: g3**: Black sacrifices the g-pawn to open lines against White’s king.\\n\\n**Move Pair 17:**\\n- **White: fxg3**: White captures the pawn, opening the g-file and threatening Black’s kingside.\\n- **Black: hxg3**: Black recaptures, maintaining open lines and potential threats.\\n\\n**Move Pair 18:**\\n- **White: Qxg3**: White captures another pawn, consolidating a material advantage.\\n- **Black: Qf8**: Black retreats the queen, defending key squares and preparing counterattacks.\\n\\n**Move Pair 19:**\\n- **White: Rxf5**: White captures another pawn, threatening Qg5+, aiming to simplify the position advantageously.\\n- **Black: Ne7**: Black blocks the check and deploys the knight defensively.\\n\\n**Move Pair 20:**\\n- **White: Rg5**: White prepares to bring the rook to the g-file, exerting pressure on Black’s position.\\n- **Black: Ng6**: Black aims to exchange or challenge the rook on g5.\\n\\n**Move Pair 21:**\\n- **White: Nd2**: White reroutes the knight, aiming for a better position or supporting the c4 pawn break.\\n- **Black: Qh6**: Black positions the queen aggressively, eyeing the kingside.\\n\\n**Move Pair 22:**\\n- **White: Rh5**: White eyes the h-file, preparing threats against Black’s kingside.\\n- **Black: Qg7**: Black retreats the queen, defending critical squares and preventing immediate threats.\\n\\n**Move Pair 23:**\\n- **White: Qg4**: White offers queen exchange, simplifying the position and maintaining the upper hand.\\n- **Black: Bc8**: Black retreats the bishop to defend and potentially reposition.\\n\\n**Move Pair 24:**\\n- **White: Rxh8+**: White sacrifices the exchange to open lines and simplify the position favorably.\\n- **Black: Qxh8**: Black recaptures, hoping to maintain counterplay possibilities.\\n\\n**Move Pair 25:**\\n- **White: Rf1**: White centralizes the rook, aiming for pressure along the open file.\\n- **Black: d6**: Black tries to open lines and gain some counterplay with pawn breaks.\\n\\n**Move Pair 26:**\\n- **White: Qg5**: White places the queen aggressively, eyeing crucial squares and preparing Qe6.\\n- **Black: Qh4**: Black brings the queen to threaten checks and counterplay.\\n\\n**Move Pair 27:**\\n- **White: Qe3**: White places the queen on a commanding square, targeting weaknesses.\\n- **Black: Bb7**: Black develops the final piece, eyeing potential counterattacks.\\n\\n**Move Pair 28:**\\n- **White: e6**: White pushes the pawn into Black’s territory, creating significant threats and a winning position.\\n\\n### Summary of Strategy Used and Winner\\n\\n**Strategies Used:**\\n- **Central Control**: White consistently aimed to control the center with pawns (e4, d4) and piece placement.\\n- **Kingside Attack**: Both players focus on aggressive pawn moves and piece attacks on the kingside.\\n- **Piece Coordination**: White's pieces were well-coordinated, with knights and bishops playing active roles.\\n- **Material Gains**: White captured Black's pawns and established better material positions without giving Black strong counterplay.\\n- **Simplifying the Position**: Exchanges were played favorably to simplify the position while maintaining the material advantage.\\n\\n**Winner:**\\n- **White** wins. White's final move, pushing the e6 pawn, creates an overwhelming threat that Black cannot counter effectively. The black king's precarious position without castling and the material disadvantage led to White achieving a winning position. </s>\""
      ]
     },
     "execution_count": 55,
     "metadata": {},
     "output_type": "execute_result"
    }
   ],
   "source": [
    "dataset[\"train\"][\"text\"][0]"
   ]
  },
  {
   "cell_type": "markdown",
   "id": "2eecd022-08ab-4266-b7c8-c433f8d9b978",
   "metadata": {},
   "source": [
    "## LoRA"
   ]
  },
  {
   "cell_type": "code",
   "execution_count": 56,
   "id": "25413e2f-82e9-45c7-b9fe-4265e724dad9",
   "metadata": {},
   "outputs": [
    {
     "data": {
      "text/plain": [
       "MistralForCausalLM(\n",
       "  (model): MistralModel(\n",
       "    (embed_tokens): Embedding(32000, 4096)\n",
       "    (layers): ModuleList(\n",
       "      (0-31): 32 x MistralDecoderLayer(\n",
       "        (self_attn): MistralSdpaAttention(\n",
       "          (q_proj): Linear4bit(in_features=4096, out_features=4096, bias=False)\n",
       "          (k_proj): Linear4bit(in_features=4096, out_features=1024, bias=False)\n",
       "          (v_proj): Linear4bit(in_features=4096, out_features=1024, bias=False)\n",
       "          (o_proj): Linear4bit(in_features=4096, out_features=4096, bias=False)\n",
       "          (rotary_emb): MistralRotaryEmbedding()\n",
       "        )\n",
       "        (mlp): MistralMLP(\n",
       "          (gate_proj): Linear4bit(in_features=4096, out_features=14336, bias=False)\n",
       "          (up_proj): Linear4bit(in_features=4096, out_features=14336, bias=False)\n",
       "          (down_proj): Linear4bit(in_features=14336, out_features=4096, bias=False)\n",
       "          (act_fn): SiLU()\n",
       "        )\n",
       "        (input_layernorm): MistralRMSNorm()\n",
       "        (post_attention_layernorm): MistralRMSNorm()\n",
       "      )\n",
       "    )\n",
       "    (norm): MistralRMSNorm()\n",
       "  )\n",
       "  (lm_head): Linear(in_features=4096, out_features=32000, bias=False)\n",
       ")"
      ]
     },
     "execution_count": 56,
     "metadata": {},
     "output_type": "execute_result"
    }
   ],
   "source": [
    "model"
   ]
  },
  {
   "cell_type": "code",
   "execution_count": 57,
   "id": "d6a96ed4-c3c4-4130-89aa-4cfa5469bb42",
   "metadata": {},
   "outputs": [],
   "source": [
    "'''\n",
    "lora_alpha - scaling factor applied to the low-rank matrices. It helps in balancing the contribution of the low-rank update to the original weights. \n",
    "Higher values of lora_alpha can increase the influence of the low-rank updates. It's a form of regularization to ensure the model doesn't deviate too much from the original weights.\n",
    "\n",
    "bias - \"none\", \"all\", or \"lora_only\".\n",
    "need more research on this.\n",
    "\n",
    "'''\n",
    "peft_config = LoraConfig(\n",
    "    r=32,\n",
    "    lora_alpha=16, \n",
    "    target_modules=[\n",
    "        \"q_proj\",\n",
    "        \"k_proj\",\n",
    "        \"v_proj\",\n",
    "        \"o_proj\",\n",
    "        \"gate_proj\",\n",
    "        \"up_proj\",\n",
    "        \"down_proj\"\n",
    "    ],\n",
    "    bias=\"none\",\n",
    "    lora_dropout=0.05,\n",
    "    task_type=\"CAUSAL_LM\",\n",
    ")"
   ]
  },
  {
   "cell_type": "markdown",
   "id": "b1eada9b-37ec-45d1-8f45-25ff358baa54",
   "metadata": {},
   "source": [
    "## Training"
   ]
  },
  {
   "cell_type": "code",
   "execution_count": 58,
   "id": "c17de554-89ef-4f6e-a16e-4b587a3bdaf3",
   "metadata": {},
   "outputs": [],
   "source": [
    "model = prepare_model_for_kbit_training(model)\n",
    "model = get_peft_model(model, peft_config)"
   ]
  },
  {
   "cell_type": "code",
   "execution_count": 61,
   "id": "41287cb9-7c68-42fb-9ff7-e32a7c16b07a",
   "metadata": {},
   "outputs": [
    {
     "name": "stderr",
     "output_type": "stream",
     "text": [
      "/home/s448780/miniconda3/envs/pydev/lib/python3.8/site-packages/huggingface_hub/utils/_deprecation.py:100: FutureWarning: Deprecated argument(s) used in '__init__': dataset_text_field, max_seq_length, packing. Will not be supported from version '1.0.0'.\n",
      "\n",
      "Deprecated positional argument(s) used in SFTTrainer, please use the SFTConfig to set these arguments instead.\n",
      "  warnings.warn(message, FutureWarning)\n",
      "/home/s448780/miniconda3/envs/pydev/lib/python3.8/site-packages/transformers/training_args.py:1965: FutureWarning: `--push_to_hub_token` is deprecated and will be removed in version 5 of 🤗 Transformers. Use `--hub_token` instead.\n",
      "  warnings.warn(\n",
      "/home/s448780/miniconda3/envs/pydev/lib/python3.8/site-packages/trl/trainer/sft_trainer.py:181: UserWarning: You passed a `packing` argument to the SFTTrainer, the value you passed will override the one in the `SFTConfig`.\n",
      "  warnings.warn(\n",
      "/home/s448780/miniconda3/envs/pydev/lib/python3.8/site-packages/trl/trainer/sft_trainer.py:269: UserWarning: You passed a `max_seq_length` argument to the SFTTrainer, the value you passed will override the one in the `SFTConfig`.\n",
      "  warnings.warn(\n",
      "/home/s448780/miniconda3/envs/pydev/lib/python3.8/site-packages/trl/trainer/sft_trainer.py:307: UserWarning: You passed a `dataset_text_field` argument to the SFTTrainer, the value you passed will override the one in the `SFTConfig`.\n",
      "  warnings.warn(\n"
     ]
    },
    {
     "data": {
      "application/vnd.jupyter.widget-view+json": {
       "model_id": "750a7d9772a34c8e801bd253bbb1cf1f",
       "version_major": 2,
       "version_minor": 0
      },
      "text/plain": [
       "Generating train split: 0 examples [00:00, ? examples/s]"
      ]
     },
     "metadata": {},
     "output_type": "display_data"
    },
    {
     "name": "stderr",
     "output_type": "stream",
     "text": [
      "/home/s448780/miniconda3/envs/pydev/lib/python3.8/site-packages/trl/trainer/sft_trainer.py:397: UserWarning: You passed a tokenizer with `padding_side` not equal to `right` to the SFTTrainer. This might lead to some unexpected behaviour due to overflow issues when training a model in half-precision. You might consider adding `tokenizer.padding_side = 'right'` to your code.\n",
      "  warnings.warn(\n",
      "max_steps is given, it will override any value given in num_train_epochs\n",
      "/home/s448780/miniconda3/envs/pydev/lib/python3.8/site-packages/trl/trainer/sft_trainer.py:421: UserWarning: You passed `packing=True` to the SFTTrainer/SFTConfig, and you are training your model with `max_steps` strategy. The dataset will be iterated until the `max_steps` are reached.\n",
      "  warnings.warn(\n",
      "/home/s448780/miniconda3/envs/pydev/lib/python3.8/site-packages/torch/utils/checkpoint.py:464: UserWarning: torch.utils.checkpoint: the use_reentrant parameter should be passed explicitly. In version 2.4 we will raise an exception if use_reentrant is not passed. use_reentrant=False is recommended, but if you need to preserve the current default behavior, you can pass use_reentrant=True. Refer to docs for more details on the differences between the two variants.\n",
      "  warnings.warn(\n"
     ]
    },
    {
     "data": {
      "text/html": [
       "\n",
       "    <div>\n",
       "      \n",
       "      <progress value='50' max='50' style='width:300px; height:20px; vertical-align: middle;'></progress>\n",
       "      [50/50 14:36, Epoch 0/1]\n",
       "    </div>\n",
       "    <table border=\"1\" class=\"dataframe\">\n",
       "  <thead>\n",
       " <tr style=\"text-align: left;\">\n",
       "      <th>Step</th>\n",
       "      <th>Training Loss</th>\n",
       "    </tr>\n",
       "  </thead>\n",
       "  <tbody>\n",
       "    <tr>\n",
       "      <td>20</td>\n",
       "      <td>1.000600</td>\n",
       "    </tr>\n",
       "    <tr>\n",
       "      <td>40</td>\n",
       "      <td>0.880800</td>\n",
       "    </tr>\n",
       "  </tbody>\n",
       "</table><p>"
      ],
      "text/plain": [
       "<IPython.core.display.HTML object>"
      ]
     },
     "metadata": {},
     "output_type": "display_data"
    },
    {
     "name": "stderr",
     "output_type": "stream",
     "text": [
      "/home/s448780/miniconda3/envs/pydev/lib/python3.8/site-packages/huggingface_hub/file_download.py:1132: FutureWarning: `resume_download` is deprecated and will be removed in version 1.0.0. Downloads always resume when possible. If you want to force a new download, use `force_download=True`.\n",
      "  warnings.warn(\n"
     ]
    },
    {
     "data": {
      "text/plain": [
       "TrainOutput(global_step=50, training_loss=0.9168302154541016, metrics={'train_runtime': 893.7981, 'train_samples_per_second': 0.448, 'train_steps_per_second': 0.056, 'total_flos': 3.53626333642752e+16, 'train_loss': 0.9168302154541016, 'epoch': 0.684931506849315})"
      ]
     },
     "execution_count": 61,
     "metadata": {},
     "output_type": "execute_result"
    }
   ],
   "source": [
    "from trl import SFTTrainer\n",
    "from transformers import TrainingArguments\n",
    "\n",
    "model_args = TrainingArguments(\n",
    "    output_dir=\"mistral_7b\",\n",
    "    # num_train_epochs=3,\n",
    "    max_steps=50,\n",
    "    per_device_train_batch_size=4,\n",
    "    gradient_accumulation_steps=2,\n",
    "    gradient_checkpointing=True,\n",
    "    optim=\"paged_adamw_32bit\", # apparently more efficient for 32 bit GPUs\n",
    "    logging_steps=20,\n",
    "    save_strategy=\"epoch\",\n",
    "    learning_rate=2e-4,\n",
    "    bf16=True,\n",
    "    tf32=True,\n",
    "    max_grad_norm=0.3,\n",
    "    warmup_ratio=0.03,\n",
    "    lr_scheduler_type=\"constant\",\n",
    "    disable_tqdm=False\n",
    ")\n",
    "\n",
    "trainer = SFTTrainer(\n",
    "    model=model,\n",
    "    train_dataset=dataset[\"train\"],\n",
    "    dataset_text_field = \"text\",\n",
    "    peft_config=peft_config,\n",
    "    max_seq_length=2048,\n",
    "    tokenizer=tokenizer,\n",
    "    packing=True,\n",
    "    args=model_args,\n",
    ")\n",
    "\n",
    "trainer.train()"
   ]
  },
  {
   "cell_type": "markdown",
   "id": "715ef1e5-8832-457e-86dc-88dbab1e3085",
   "metadata": {},
   "source": [
    "## test"
   ]
  },
  {
   "cell_type": "code",
   "execution_count": 14,
   "id": "cff0b62e-3159-4f3e-aedc-e1678832f327",
   "metadata": {},
   "outputs": [],
   "source": [
    "# test_input = \"Explain the rationale behind the last move from the given chess moves in Algebraic notation -\"\n",
    "# test_moves = \"d4 d5 c4 c6 cxd5 e6 dxe6 fxe6 Nf3 Bb4+ Nc3 Ba5 Bf4\"\n",
    "# test_prompt = f\"\"\" {test_input}\n",
    "#         ### Input:\n",
    "#         {test_moves}\n",
    "\n",
    "#         ### Response:\n",
    "\n",
    "#     \"\"\""
   ]
  },
  {
   "cell_type": "code",
   "execution_count": 86,
   "id": "a0a820d6-0bf8-4e99-88d2-d70a7dca2b7b",
   "metadata": {},
   "outputs": [],
   "source": [
    "test_prompt = '''\n",
    "[INST] Assume you are a chess master, explain the strategy used by each player based on the provided chess moves. Here are the chess moves in Algenraic Notaion - e4 e6 d4 b6 e5 Bb7 Nf3 h6 Bd3 g5 O-O g4 Nfd2 h5 Ne4 Nc6 Be3 Qe7 Qd2 Bh6 Bxh6 Nxh6 Nf6+ Kd8 Bh7 Nf5 Bxf5 exf5 c3 h4 Qg5 g3 fxg3 hxg3 Qxg3 Qf8 Rxf5 Ne7 Rg5 Ng6 Nd2 Qh6 Rh5 Qg7 Qg4 Bc8 Rxh8+ Qxh8 Rf1 d6 Qg5 Qh4 Qe3 Bb7 e6 [/INST]\n",
    "'''"
   ]
  },
  {
   "cell_type": "code",
   "execution_count": 87,
   "id": "84a3a6bc-0eb3-4882-8859-df7e1f14a749",
   "metadata": {},
   "outputs": [],
   "source": [
    "input_ids = tokenizer(test_prompt, return_tensors=\"pt\", truncation=True).input_ids.to(\"cuda:0\")"
   ]
  },
  {
   "cell_type": "code",
   "execution_count": 88,
   "id": "b18a82f3-85f4-483e-919d-499dc864cfaa",
   "metadata": {},
   "outputs": [
    {
     "name": "stderr",
     "output_type": "stream",
     "text": [
      "The attention mask and the pad token id were not set. As a consequence, you may observe unexpected behavior. Please pass your input's `attention_mask` to obtain reliable results.\n",
      "Setting `pad_token_id` to `eos_token_id`:2 for open-end generation.\n"
     ]
    },
    {
     "name": "stdout",
     "output_type": "stream",
     "text": [
      "\n",
      "[INST] Assume you are a chess master, explain the strategy used by each player based on the provided chess moves. Here are the chess moves in Algenraic Notaion - e4 e6 d4 b6 e5 Bb7 Nf3 h6 Bd3 g5 O-O g4 Nfd2 h5 Ne4 Nc6 Be3 Qe7 Qd2 Bh6 Bxh6 Nxh6 Nf6+ Kd8 Bh7 Nf5 Bxf5 exf5 c3 h4 Qg5 g3 fxg3 hxg3 Qxg3 Qf8 Rxf5 Ne7 Rg5 Ng6 Nd2 Qh6 Rh5 Qg7 Qg4 Bc8 Rxh8+ Qxh8 Rf1 d6 Qg5 Qh4 Qe3 Bb7 e6 [/INST]\n",
      "\n",
      "## Game analysis:\n",
      "\n",
      "### Move Pair 1: White: e4, Black: e6\n",
      "- **White:** e4 is the King's Pawn Opening, controlling the center and allowing the knight to develop quickly.\n",
      "- **Black:** e6 supports the d5 square, allowing for flexibility in the opening.\n",
      "\n",
      "### Move Pair 2: White: d4, Black: b6\n",
      "- **White:** d4 challenges Black's control of the center.\n",
      "- **Black:** b6 prepares to fianchetto the light-squared bishop, increasing control of the long diagonal.\n",
      "\n",
      "### Move Pair 3: White: e5, Black: Bb7\n",
      "- **White:** e5 continues to control the center and opens lines for the pieces.\n",
      "- **Black:** Bb7 develops the bishop to a strong diagonal and also supports the d5 square.\n",
      "\n",
      "### Move Pair 4: White: Nf3, Black: h6\n",
      "- **White:** Nf3 develops a knight and attacks the e5 pawn.\n",
      "- **Black:** h6 fianchettos the light-squared bishop and prevents any immediate Nf3-g5 ideas.\n",
      "\n",
      "### Move Pair 5: White: Bd3, Black: g5\n",
      "- **White:** Bd3 develops the bishop and supports the center.\n",
      "- **Black:** g5 aims for an early pawn storm on the kingside and prepares for possible fianchetto.\n",
      "\n",
      "### Move Pair 6: White: O-O, Black: g4\n",
      "- **White:** O-O castles, ensuring king safety and connecting the rooks.\n",
      "- **Black:** g4 continues with the pawn storm, preparing to fianchetto.\n",
      "\n",
      "### Move Pair 7: White: Nfd2, Black: h5\n",
      "- **White:** Nfd2 develops a knight, aiming to reposition it to better squares.\n",
      "- **Black:** h5 pushes the pawn, aiming for kingside expansion.\n",
      "\n",
      "### Move Pair 8: White: Ne4, Black: Nc6\n",
      "- **White:** Ne4 develops a knight and attacks the e5 pawn.\n",
      "- **Black:** Nc6 develops a piece and also attacks the e5 pawn.\n",
      "\n",
      "### Move Pair 9: White: Be3, Black: Qe7\n",
      "- **White:** Be3 develops a piece and supports the center.\n",
      "- **Black:** Qe7 connects the rooks and prepares for a potential fianchetto.\n",
      "\n",
      "### Move Pair 10: White: Qd2, Black: Bh6\n",
      "- **White:** Qd2 aligns the queen with the potential pawn storm on the kingside.\n",
      "- **Black:** Bh6 develops a piece and attacks the f2 square.\n",
      "\n",
      "### Move Pair 11: White: Bxh6, Black: Nxh6\n",
      "- **White:** Bxh6 exchanges bishops, aiming to weaken Black's kingside.\n",
      "- **Black:** Nxh6 recaptures with the knight, maintaining the pawn structure.\n",
      "\n",
      "### Move Pair 12: White: Nf6+, Black: Kd8\n",
      "- **White:** Nf6+ checks the king and develops a piece.\n",
      "- **Black:** Kd8 moves the king to safety.\n",
      "\n",
      "### Move Pair 13: White: Bh7, Black: Nf5\n",
      "- **White:** Bh7 develops a piece, aiming at the weakened kingside pawns.\n",
      "- **Black:** Nf5 centralizes the knight, aiming to reclaim the initiative.\n",
      "\n",
      "### Move Pair 14: White: Bxf5, Black: exf5\n",
      "- **White:** Bxf5 exchanges bishops to weaken Black's kingside pawns further.\n",
      "- **Black:** exf5 recaptures, creating a pawn weakness but keeping the center solid.\n",
      "\n",
      "### Move Pair 15: White: c3, Black: h4\n",
      "- **White:** c3 prepares for a potential d4-d5 push and strengthens the center.\n",
      "- **Black:** h4 pushes the pawn, aiming for counterplay.\n",
      "\n",
      "### Move Pair 16: White: Qg5, Black: g3\n",
      "- **White:** Qg5 aligns the queen with the g-file, eyeing potential attack.\n",
      "- **Black:** g3 pushes the pawn, aiming for counterplay.\n",
      "\n",
      "### Move Pair 17: White: fxg3, Black: hxg3\n",
      "- **White:** fxg3 captures the pawn, opening the h-file.\n",
      "- **Black:** hxg3 recaptures, doubling the pawns on the kingside.\n",
      "\n",
      "### Move Pair 18: White: Qxg3, Black: Qf8\n",
      "- **White:** Qxg3 captures the pawn, simplifying the position.\n",
      "- **Black:** Qf8 connects the rooks and defends the pawns.\n",
      "\n",
      "### Move Pair 19: White: Rxf5, Black: Ne7\n",
      "- **White:** Rxf5 captures the pawn, opening up the kingside.\n",
      "- **Black:** Ne7 develops a piece, aiming to support the center.\n",
      "\n",
      "### Move Pair 20: White: Rg5, Black: Ng6\n",
      "- **White:** Rg5 positions the rook on an open file, aiming at the weak pawns.\n",
      "- **Black:** Ng6 develops a piece, attacking the e4 pawn.\n",
      "\n",
      "### Move Pair 21: White: Nd2, Black: Qh6\n",
      "- **White:** Nd2 prepares for potential central pawn breaks and aligns with the g5 rook.\n",
      "- **Black:** Qh6 places the queen in an aggressive position, attacking the e4 pawn.\n",
      "\n",
      "### Move Pair 22: White: Rh5, Black: Qg7\n",
      "- **White:** Rh5 aligns the rook with the open file.\n",
      "- **Black:** Qg7 retreats, but keeps the pressure on the e4 pawn.\n",
      "\n",
      "### Move Pair 23: White: Qg4, Black: Bc8\n",
      "- **White:** Qg4 centralizes the queen, aiming at weak pawns.\n",
      "- **Black:** Bc8 develops a piece, aiming to control the center.\n",
      "\n",
      "### Move Pair 24: White: Rxh8+, Black: Qxh8\n",
      "- **White:** Rxh8+ exchanges rooks, simplifying the position.\n",
      "- **Black:** Qxh8 recaptures, maintaining material balance.\n",
      "\n",
      "### Move Pair 25: White: Rf1, Black: d6\n",
      "- **White:** Rf1 centralizes the rook.\n",
      "- **Black:** d6 supports the center and opens lines for the light-squared bishop.\n",
      "\n",
      "### Move Pair 26: White: Qg5, Black: Qh4\n",
      "- **White:** Qg5 centralizes the queen, eyeing the weak pawns.\n",
      "- **Black:** Qh4 counters by aligning the queen with an open file.\n",
      "\n",
      "### Move Pair 27: White: Qe3, Black: Bb7\n",
      "- **White:** Qe3 connects the rooks and supports the center.\n",
      "- **Black:** Bb7 develops a piece and protects the bishop pair.\n",
      "\n",
      "### Move Pair 28: White: e6\n",
      "- **White:** e6 pushes a central pawn, opening lines for attack.\n",
      "\n",
      "## Summary of Strategy Used:\n",
      "### White's Strategies:\n",
      "- **Control of the Center:** e4, d4, e5, Nf3, Ne4, and c3.\n",
      "- **Development of Pieces:** Bd3, Qd2, Bh7, and Bxh6.\n",
      "- **Pawn Storm:** g5, fxg3, h4, and Qg5.\n",
      "- **Opening of the Kingside:** O-O, Rxf5, Rg5, and Rxh8+.\n",
      "- **Simplifying Positions:** exf5 and Rxf5.\n",
      "\n",
      "### Black's Strategies:\n",
      "- **Fianchetto:** e6, Bb7, and Qe7.\n",
      "- **Pawn Storm:** g5, h5, and h4.\n",
      "- **Defensive Tactics:** Kd8, Ne7, Ng6, and d6.\n",
      "- **Counter-Attack:** Qh6, Qg7, and Qh4.\n",
      "- **Piece Exchange:** Bh6, Nxh6, and Bc8.\n",
      "\n",
      "**Winner:** White seems to have better chances due to their aggressive central control and the weakened pawn structure on Black's kingside. The opening of the kingside and the simplification of the position through\n"
     ]
    }
   ],
   "source": [
    "model.eval()\n",
    "with torch.inference_mode():\n",
    "    outputs = model.generate(\n",
    "        input_ids=input_ids,\n",
    "        max_new_tokens=2048,\n",
    "        do_sample=True, \n",
    "        top_p=0.9,\n",
    "        temperature=0.9\n",
    "    )\n",
    "\n",
    "print(tokenizer.decode(outputs[0], skip_special_tokens=True))"
   ]
  },
  {
   "cell_type": "markdown",
   "id": "705c2317-c9fa-4e60-976f-83bf73dc082e",
   "metadata": {},
   "source": [
    "## testing base knowledge"
   ]
  },
  {
   "cell_type": "code",
   "execution_count": 91,
   "id": "57d67d11-04f8-448d-a947-eecd09d56a35",
   "metadata": {},
   "outputs": [
    {
     "name": "stderr",
     "output_type": "stream",
     "text": [
      "The attention mask and the pad token id were not set. As a consequence, you may observe unexpected behavior. Please pass your input's `attention_mask` to obtain reliable results.\n",
      "Setting `pad_token_id` to `eos_token_id`:2 for open-end generation.\n"
     ]
    },
    {
     "name": "stdout",
     "output_type": "stream",
     "text": [
      "\n",
      "[INST]You will be given the name of a chess piece. Print how the chess piece can move. Do not add any game analysis. \n",
      "The chess piece  -\n",
      "Knight.[/INST]\n",
      "\n",
      "\n",
      "\n",
      "- **Knight:**\n",
      "  - **Legal Moves:**\n",
      "    - Knight is a piece that moves in an \"L\" shape, jumping over other pieces. It can move to any square that is two squares away, in a straight line, and one square to the side.\n",
      "    - Example move: b1-c3 or c4-d6.\n",
      "  - **Tactical Uses:**\n",
      "    - The knight is a versatile piece and can create pressure in different parts of the board.\n",
      "    - It can reach squares inaccessible to other pieces.\n",
      "    - Knights can control key squares and can be used in attacks or defenses.\n",
      "\n",
      "**White: Kg1**\n",
      "- **Kg1:** This is the king’s safety move. The king is trying to get out of check, and this is a natural response.\n",
      "\n",
      "**Black: Rxe2+**\n",
      "- **Rxe2+:** Black captures the pawn, creating a double check situation. The rook forces White to make an immediate decision regarding the king's safety.\n",
      "\n",
      "**White: Kf1**\n",
      "- **Kf1:** This is another safety move, keeping the king in the center.\n",
      "\n",
      "**Black: Bxg2**\n",
      "- **Bxg2:** Black captures the knight, gaining material advantage and creating further threats.\n",
      "\n",
      "**White: Ke1**\n",
      "- **Ke1:** The king continues to try and get to safety, but the rook is still exerting pressure.\n",
      "\n",
      "**Black: Kd6**\n",
      "- **Kd6:** Black brings the king to a central and active square, preparing for an attack.\n",
      "\n",
      "**White: Kd1**\n",
      "- **Kd1:** White also centralizes the king, aiming for a defensive stance.\n",
      "\n",
      "**Black: Rxe1+**\n",
      "- **Rxe1+:** Black captures another pawn, furthering the material advantage.\n",
      "\n",
      "**White: Ke2**\n",
      "- **Ke2:** White is forced to respond with a safety move again.\n",
      "\n",
      "**Black: Rf1+**\n",
      "- **Rf1+:** Black checks the king, keeping the pressure on White.\n",
      "\n",
      "**White: Kf2**\n",
      "- **Kf2:** White continues to try and move the king out of harm's way.\n",
      "\n",
      "**Black: Bf3#**\n",
      "- **Bf3#:** Black delivers checkmate, finishing the game with a tactical blow.\n",
      "\n",
      "**Summary of Strategy Used:**\n",
      "\n",
      "- **Black’s Strategy:** Black effectively used tactical maneuvers to create and maintain a material advantage. Black’s rook and bishop worked together to create multiple checks and force White into defensive positions. Black’s final checkmate was delivered by a coordinated attack on the king.\n",
      "- **White’s Strategy:** White struggled to defend against Black's continuous threats, trying to avoid checkmate by moving the king around but ultimately failed. White’s king was unable to find a safe position, and the game was lost.\n",
      "\n",
      "**Winner: Black**\n",
      "\n",
      "- Black demonstrated superior tactical understanding and was able to execute a decisive attack on the king, winning the game. \n"
     ]
    }
   ],
   "source": [
    "test_prompt = '''\n",
    "[INST]You will be given the name of a chess piece. Print how the chess piece can move. Do not add any game analysis. \n",
    "The chess piece  -\n",
    "Knight.[/INST]\n",
    "'''\n",
    "input_ids = tokenizer(test_prompt, return_tensors=\"pt\", truncation=True).input_ids.to(\"cuda:0\")\n",
    "with torch.inference_mode():\n",
    "    outputs = model.generate(\n",
    "        input_ids=input_ids,\n",
    "        max_new_tokens=2048,\n",
    "        do_sample=True, \n",
    "        top_p=0.9,\n",
    "        temperature=0.9)\n",
    "    \n",
    "print(tokenizer.decode(outputs[0], skip_special_tokens=True))"
   ]
  },
  {
   "cell_type": "code",
   "execution_count": 84,
   "id": "35c6b43b-3ea0-4811-8c55-62e270aa9fa4",
   "metadata": {},
   "outputs": [
    {
     "name": "stderr",
     "output_type": "stream",
     "text": [
      "The attention mask and the pad token id were not set. As a consequence, you may observe unexpected behavior. Please pass your input's `attention_mask` to obtain reliable results.\n",
      "Setting `pad_token_id` to `eos_token_id`:2 for open-end generation.\n"
     ]
    },
    {
     "name": "stdout",
     "output_type": "stream",
     "text": [
      "\n",
      "[INST]You will be given a list of Algebraic notation based chess moves. Your job is to predict the winner only. Do not print anything else -\n",
      "d4 d5 c4 c6 cxd5 e6 dxe6 fxe6 Nf3 Bb4+ Nc3 Ba5 Bf4.[/INST]\n",
      "\n",
      "**Pair 1:**\n",
      "- **White: d4**: White opens with the Queen's Pawn Opening, aiming for control of the center and potential lateral pressure.\n",
      "- **Black: d5**: Black mirrors the control of the center and opens up lines for both the Queen and the Bishop.\n",
      "\n",
      "**Pair 2:**\n",
      "- **White: c4**: White aggressively attacks Black's center with the English Opening, aiming for a strong pawn structure and central control.\n",
      "- **Black: c6**: Black prepares for the Slav Defense, reinforcing the d5 pawn and preparing to develop pieces.\n",
      "\n",
      "**Pair 3:**\n",
      "- **White: cxd5**: White captures the pawn in the center, aiming to disrupt Black's pawn structure and gain tempo.\n",
      "- **Black: e6**: Black recaptures with the pawn, maintaining central tension and opening lines for the Bishops.\n",
      "\n",
      "**Pair 4:**\n",
      "- **White: dxe6**: White captures another pawn, further disrupting Black's pawn structure and gaining a pawn advantage.\n",
      "- **Black: fxe6**: Black recaptures with the pawn, maintaining material balance but weakening the pawn structure.\n",
      "\n",
      "**Pair 5:**\n",
      "- **White: Nf3**: White develops the Knight to a central square, putting pressure on the e5 square and preparing for a strong central presence.\n",
      "- **Black: Bb4+**: Black checks White's King with the Bishop, forcing White to respond and potentially compromising White's development.\n",
      "\n",
      "**Pair 6:**\n",
      "- **White: Nc3**: White blocks the check, developing another piece and solidifying the central pawn structure.\n",
      "- **Black: Ba5**: Black retreats the Bishop to a less active square, but still keeping pressure on White's position.\n",
      "\n",
      "**Pair 7:**\n",
      "- **White: Bf4**: White develops the Bishop, exerting pressure on the a8 and f7 squares.\n",
      "\n",
      "### Summary of strategy used and winner:\n",
      "- **Strategies used:** White's aggressive English Opening aimed at disrupting Black's pawn structure, followed by central control and development. Black's Slav Defense aimed to solidify the pawn structure but left White with a potential advantage. White’s use of the Nf3 and Bf4 showed a focus on central control and piece activity.\n",
      "- **Winner:** This sequence of moves does not explicitly indicate a clear winner. White has gained an advantage in terms of material and piece activity, but Black has managed to maintain central control and counter-attack potential. Continued play will determine the winner. \n"
     ]
    }
   ],
   "source": [
    "test_prompt = '''\n",
    "[INST]You will be given a list of Algebraic notation based chess moves. Your job is to predict the winner only. Do not print anything else -\n",
    "d4 d5 c4 c6 cxd5 e6 dxe6 fxe6 Nf3 Bb4+ Nc3 Ba5 Bf4.[/INST]\n",
    "'''\n",
    "input_ids = tokenizer(test_prompt, return_tensors=\"pt\", truncation=True).input_ids.to(\"cuda:0\")\n",
    "with torch.inference_mode():\n",
    "    outputs = model.generate(\n",
    "        input_ids=input_ids,\n",
    "        max_new_tokens=2048,\n",
    "        do_sample=True, \n",
    "        top_p=0.9,\n",
    "        temperature=0.9)\n",
    "    \n",
    "print(tokenizer.decode(outputs[0], skip_special_tokens=True))"
   ]
  },
  {
   "cell_type": "code",
   "execution_count": 85,
   "id": "9a6ab97e-79c5-4249-8a79-3931a154b3a3",
   "metadata": {},
   "outputs": [
    {
     "name": "stderr",
     "output_type": "stream",
     "text": [
      "The attention mask and the pad token id were not set. As a consequence, you may observe unexpected behavior. Please pass your input's `attention_mask` to obtain reliable results.\n",
      "Setting `pad_token_id` to `eos_token_id`:2 for open-end generation.\n"
     ]
    },
    {
     "name": "stdout",
     "output_type": "stream",
     "text": [
      "\n",
      "[INST]Assume you are a geography expert. You will be provided with the name of a country. What's the capital of the country?\",\n",
      "Australia[/INST].\n",
      "\n",
      "# Summary of the Country and Capital\n",
      "- **Country**: Australia\n",
      "- **Capital**: Canberra\n",
      "\n",
      "# Discussion\n",
      "### Country: Australia\n",
      "- **Geography**: Australia is the largest country in Oceania, comprising the mainland of the Australian continent, the island of Tasmania, and numerous smaller islands.\n",
      "- **Population**: Around 25 million people reside in Australia, with the majority concentrated in the cities of Sydney, Melbourne, Brisbane, and Perth.\n",
      "- **Economy**: Australia has a diverse economy, including agriculture, mining, and services. It is known for its exports of minerals such as iron ore and coal, as well as for its agriculture, especially in the areas of wine and wheat.\n",
      "- **Political System**: Australia is a federal parliamentary constitutional monarchy with a democratic political system.\n",
      "\n",
      "### Capital: Canberra\n",
      "- **Location**: Canberra is located in the Australian Capital Territory, approximately halfway between Sydney and Melbourne.\n",
      "- **History**: Canberra was designed and built to be the capital of Australia, replacing Sydney and Melbourne as the nation's capital. It was officially named the capital in 1927.\n",
      "- **Landmarks**: Canberra is known for its large government precincts, as well as its museums, galleries, and parks, such as the National Museum of Australia, the National Gallery of Australia, and Lake Burley Griffin.\n",
      "- **Population**: As of 2020, the population of Canberra is around 430,000 people.\n",
      "\n",
      "# Conclusion\n",
      "- Australia is a large, diverse country with a rich history and a strong economy.\n",
      "- Canberra is the capital of Australia, designed to serve as the seat of government and host the country's national institutions.\n",
      "\n",
      "In conclusion, Australia's capital is Canberra, which serves as the seat of government and host to the country's national institutions. The city is located in the Australian Capital Territory and is known for its government precincts, museums, and parks. \n"
     ]
    }
   ],
   "source": [
    "test_prompt ='''\n",
    "[INST]Assume you are a geography expert. You will be provided with the name of a country. What's the capital of the country?\",\n",
    "Australia[/INST].\n",
    "'''\n",
    "input_ids = tokenizer(test_prompt, return_tensors=\"pt\", truncation=True).input_ids.to(\"cuda:0\")\n",
    "\n",
    "with torch.inference_mode():\n",
    "    outputs = model.generate(\n",
    "        input_ids=input_ids,\n",
    "        max_new_tokens=2048,\n",
    "        do_sample=True, \n",
    "        top_p=0.9,\n",
    "        temperature=0.9)\n",
    "    \n",
    "print(tokenizer.decode(outputs[0], skip_special_tokens=True))"
   ]
  },
  {
   "cell_type": "markdown",
   "id": "da2875a8-32e6-43a1-a8de-754c8ba9708f",
   "metadata": {},
   "source": [
    "## testing different prompt"
   ]
  },
  {
   "cell_type": "code",
   "execution_count": 92,
   "id": "f966b89b-1fae-4072-944f-f6ed9401af73",
   "metadata": {},
   "outputs": [
    {
     "name": "stderr",
     "output_type": "stream",
     "text": [
      "The attention mask and the pad token id were not set. As a consequence, you may observe unexpected behavior. Please pass your input's `attention_mask` to obtain reliable results.\n",
      "Setting `pad_token_id` to `eos_token_id`:2 for open-end generation.\n"
     ]
    },
    {
     "name": "stdout",
     "output_type": "stream",
     "text": [
      "[INST]Assume you are a chess master. your job is to suggest the next move. Here are the moves - d4 d5 c4 c6 cxd5 e6 dxe6 fxe6 Nf3 Bb4+ Nc3 Ba5 Bf4[\\INST]\n",
      "\n",
      "**1. White: d4, Black: d5**\n",
      "    - *White* aims to control the center and open lines for the queen and bishop.\n",
      "    - *Black* responds symmetrically to maintain balance.\n",
      "\n",
      "**2. White: c4, Black: c6**\n",
      "    - *White* continues to control the center, possibly preparing to launch a pawn storm on d5.\n",
      "    - *Black* prepares to counter with the Dutch Defense, a flexible and complex pawn structure.\n",
      "\n",
      "**3. White: cxd5, Black: e6**\n",
      "    - *White* initiates pawn exchanges to disrupt Black's pawn structure.\n",
      "    - *Black* opens lines for the bishop and prepares to castle.\n",
      "\n",
      "**4. White: dxe6, Black: fxe6**\n",
      "    - *White* continues to challenge Black's pawn structure.\n",
      "    - *Black* recaptures with the pawn, maintaining central control.\n",
      "\n",
      "**5. White: Nf3, Black: Bb4+**\n",
      "    - *White* develops the knight to attack the e6 pawn and prepare for kingside castling.\n",
      "    - *Black* checks the king to disrupt White's plans and gain tempo.\n",
      "\n",
      "**6. White: Nc3, Black: Ba5**\n",
      "    - *White* blocks the check and develops another piece.\n",
      "    - *Black* retreats the bishop to a less active square, avoiding further checks.\n",
      "\n",
      "**7. White: Bf4**\n",
      "    - *White* develops the bishop to an active square, aiming at the vulnerable f7 pawn.\n",
      "\n",
      "# Summary of Strategy Used and Winner\n",
      "\n",
      "## Strategies Used:\n",
      "- **Control of the Center:** Both sides focused on controlling the central squares early in the game.\n",
      "- **Pawn Structure:** White used pawn exchanges to disrupt Black's pawn structure.\n",
      "- **Tempo Gain:** Black used checks to gain tempo and disrupt White's plans.\n",
      "- **Development:** Both sides aimed to develop pieces to active squares.\n",
      "\n",
      "## Winner:\n",
      "There is no clear winner yet based on the provided moves alone. The game could continue with further development and exchanges, with White holding a slight advantage due to the potential weaknesses in Black's pawn structure. However, without more moves, it's not possible to determine the outcome. \n"
     ]
    }
   ],
   "source": [
    "test_input = \"Assume you are a chess master. your job is to suggest the next move.\"\n",
    "test_moves = \"d4 d5 c4 c6 cxd5 e6 dxe6 fxe6 Nf3 Bb4+ Nc3 Ba5 Bf4\"\n",
    "test_prompt = f\"[INST]{test_input} Here are the moves - {test_moves}[\\INST]\"\n",
    "input_ids = tokenizer(test_prompt, return_tensors=\"pt\", truncation=True).input_ids.to(\"cuda:0\")\n",
    "with torch.inference_mode():\n",
    "    outputs = model.generate(\n",
    "        input_ids=input_ids,\n",
    "        max_new_tokens=2048,\n",
    "        do_sample=True, \n",
    "        top_p=0.9,\n",
    "        temperature=0.9\n",
    "    )\n",
    "\n",
    "print(tokenizer.decode(outputs[0], skip_special_tokens=True))"
   ]
  },
  {
   "cell_type": "markdown",
   "id": "5633417b-6e08-4b01-ae56-92ab050a936c",
   "metadata": {},
   "source": [
    "## saving"
   ]
  },
  {
   "cell_type": "code",
   "execution_count": null,
   "id": "81c887e8-fd67-4d9c-9861-465ed1a6acdb",
   "metadata": {},
   "outputs": [],
   "source": [
    "#  Assume you are a chess master. can you suggest what should be the next move? \n",
    "#         ### Input:\n",
    "#         d4 d5 c4 c6 cxd5 e6 dxe6 fxe6 Nf3 Bb4+ Nc3 Ba5 Bf4\n",
    "\n",
    "#         ### Response:\n",
    "\n",
    "#      ### Game Analysis\n",
    "\n",
    "# 1. **White: d4, Black: d5**\n",
    "#    - **White's Move**: Opening with the Queen's Pawn to control the center.\n",
    "#    - **Black's Move**: Responds symmetrically to contest the center.\n",
    "\n",
    "# 2. **White: c4, Black: c6**\n",
    "#    - **White's Move**: Prepares the Queen's Gambit to challenge Black's center.\n",
    "#    - **Black's Move**: Prepares to fianchetto the King's Bishop and supports the center.\n",
    "\n",
    "# 3. **White: cxd5, Black: e6**\n",
    "#    - **White's Move**: Accepts the gambit and challenges Black's center pawns.\n",
    "#    - **Black's Move**: Prepares to recapture the gambit pawn and solidifies the center.\n",
    "\n",
    "# 4. **White: dxe6, Black: fxe6**\n",
    "#    - **White's Move**: Exchanges the gambit pawn to weaken Black's pawn structure.\n",
    "#    - **Black's Move**: Recaptures the pawn, opening the f-file for the Rook.\n",
    "\n",
    "# 5. **White: Nf3, Black: Bb4+**\n",
    "#    - **White's Move**: Develops a knight, preparing to castle.\n",
    "#    - **Black's Move**: Pins the knight to the king, creating pressure.\n",
    "\n",
    "# 6. **White: Nc3, Black: Ba5**\n",
    "#    - **White's Move**: Defends the knight and further develops.\n",
    "#    - **Black's Move**: Moves the bishop, maintaining the pin and potential pressure on the d4 pawn.\n",
    "\n",
    "# 7. **White: Bf4**\n",
    "#    - **White's Move**: Develops the bishop, aiming to control the e5 square and prepare for further attack.\n",
    "\n",
    "# ### Summary of Strategy Used and Winner\n",
    "\n",
    "# #### Strategies:\n",
    "# - **White's Strategy**: Early central control, aggressive gambit play to weaken Black's pawn structure, and rapid development.\n",
    "# - **Black's Strategy**: Fianchetto to control the center, counter-gambit to challenge White’s aggression, and maintain pressure through pins and potential threats.\n",
    "\n",
    "# #### Winner:\n",
    "# Determining the winner requires further moves and strategic depth. However, at this stage, both players have developed pieces and controlled the center, and the game is open for continued development. The winner would depend on subsequent moves and tactics."
   ]
  },
  {
   "cell_type": "code",
   "execution_count": 93,
   "id": "f05115b5-207e-45e5-bb04-cdb5251fea3d",
   "metadata": {},
   "outputs": [
    {
     "name": "stderr",
     "output_type": "stream",
     "text": [
      "/home/s448780/miniconda3/envs/pydev/lib/python3.8/site-packages/huggingface_hub/file_download.py:1132: FutureWarning: `resume_download` is deprecated and will be removed in version 1.0.0. Downloads always resume when possible. If you want to force a new download, use `force_download=True`.\n",
      "  warnings.warn(\n"
     ]
    }
   ],
   "source": [
    "trainer.save_model()"
   ]
  }
 ],
 "metadata": {
  "kernelspec": {
   "display_name": "Python 3 (ipykernel)",
   "language": "python",
   "name": "python3"
  },
  "language_info": {
   "codemirror_mode": {
    "name": "ipython",
    "version": 3
   },
   "file_extension": ".py",
   "mimetype": "text/x-python",
   "name": "python",
   "nbconvert_exporter": "python",
   "pygments_lexer": "ipython3",
   "version": "3.8.19"
  }
 },
 "nbformat": 4,
 "nbformat_minor": 5
}
