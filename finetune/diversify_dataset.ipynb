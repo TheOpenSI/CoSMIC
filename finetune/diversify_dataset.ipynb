{
 "cells": [
  {
   "cell_type": "code",
   "execution_count": 1,
   "id": "c154f4e3-0b40-4c25-8b65-31952d93e454",
   "metadata": {},
   "outputs": [],
   "source": [
    "import pandas as pd"
   ]
  },
  {
   "cell_type": "code",
   "execution_count": 2,
   "id": "569a4fab-84b3-4332-b6c2-acb8344fac48",
   "metadata": {},
   "outputs": [
    {
     "data": {
      "text/html": [
       "<div>\n",
       "<style scoped>\n",
       "    .dataframe tbody tr th:only-of-type {\n",
       "        vertical-align: middle;\n",
       "    }\n",
       "\n",
       "    .dataframe tbody tr th {\n",
       "        vertical-align: top;\n",
       "    }\n",
       "\n",
       "    .dataframe thead th {\n",
       "        text-align: right;\n",
       "    }\n",
       "</style>\n",
       "<table border=\"1\" class=\"dataframe\">\n",
       "  <thead>\n",
       "    <tr style=\"text-align: right;\">\n",
       "      <th></th>\n",
       "      <th>moves</th>\n",
       "      <th>explanation</th>\n",
       "      <th>instruction</th>\n",
       "    </tr>\n",
       "  </thead>\n",
       "  <tbody>\n",
       "    <tr>\n",
       "      <th>0</th>\n",
       "      <td>e4 e6 d4 b6 e5 Bb7 Nf3 h6 Bd3 g5 O-O g4 Nfd2 h...</td>\n",
       "      <td>### Game Analysis\\n\\n**Move Pair 1:** \\n- **Wh...</td>\n",
       "      <td>Assume you are a chess master, explain the str...</td>\n",
       "    </tr>\n",
       "    <tr>\n",
       "      <th>1</th>\n",
       "      <td>e4 e6 d4 d5 Nd2 dxe4 Nxe4 Nf6 Bd3 Nxe4 Bxe4 Nc...</td>\n",
       "      <td>### Game Analysis\\n1. **White: e4, Black: e6**...</td>\n",
       "      <td>Assume you are a chess master, explain the str...</td>\n",
       "    </tr>\n",
       "    <tr>\n",
       "      <th>2</th>\n",
       "      <td>e4 e6 b3 d5 f3 Nc6 Bb2 dxe4 fxe4 Qh4+ Ke2 Qxe4...</td>\n",
       "      <td>### Game Analysis\\n\\n1. **White: e4, Black: e6...</td>\n",
       "      <td>Assume you are a chess master, explain the str...</td>\n",
       "    </tr>\n",
       "    <tr>\n",
       "      <th>3</th>\n",
       "      <td>e4 e5 Nf3 Nc6 d4 Bb4+ c3 Bd6 Bb5 Qf6 O-O exd4 ...</td>\n",
       "      <td>### Game Analysis:\\n\\n1. **White: e4, Black: e...</td>\n",
       "      <td>Assume you are a chess master, explain the str...</td>\n",
       "    </tr>\n",
       "    <tr>\n",
       "      <th>4</th>\n",
       "      <td>d4 Nf6 c4 e6 Nf3 d5 c5 b6 b4 a5 Ba3 axb4 Bxb4 ...</td>\n",
       "      <td>### Game Analysis\\n\\n1. **d4, Nf6**\\n   - **Wh...</td>\n",
       "      <td>Assume you are a chess master, explain the str...</td>\n",
       "    </tr>\n",
       "  </tbody>\n",
       "</table>\n",
       "</div>"
      ],
      "text/plain": [
       "                                               moves  \\\n",
       "0  e4 e6 d4 b6 e5 Bb7 Nf3 h6 Bd3 g5 O-O g4 Nfd2 h...   \n",
       "1  e4 e6 d4 d5 Nd2 dxe4 Nxe4 Nf6 Bd3 Nxe4 Bxe4 Nc...   \n",
       "2  e4 e6 b3 d5 f3 Nc6 Bb2 dxe4 fxe4 Qh4+ Ke2 Qxe4...   \n",
       "3  e4 e5 Nf3 Nc6 d4 Bb4+ c3 Bd6 Bb5 Qf6 O-O exd4 ...   \n",
       "4  d4 Nf6 c4 e6 Nf3 d5 c5 b6 b4 a5 Ba3 axb4 Bxb4 ...   \n",
       "\n",
       "                                         explanation  \\\n",
       "0  ### Game Analysis\\n\\n**Move Pair 1:** \\n- **Wh...   \n",
       "1  ### Game Analysis\\n1. **White: e4, Black: e6**...   \n",
       "2  ### Game Analysis\\n\\n1. **White: e4, Black: e6...   \n",
       "3  ### Game Analysis:\\n\\n1. **White: e4, Black: e...   \n",
       "4  ### Game Analysis\\n\\n1. **d4, Nf6**\\n   - **Wh...   \n",
       "\n",
       "                                         instruction  \n",
       "0  Assume you are a chess master, explain the str...  \n",
       "1  Assume you are a chess master, explain the str...  \n",
       "2  Assume you are a chess master, explain the str...  \n",
       "3  Assume you are a chess master, explain the str...  \n",
       "4  Assume you are a chess master, explain the str...  "
      ]
     },
     "execution_count": 2,
     "metadata": {},
     "output_type": "execute_result"
    }
   ],
   "source": [
    "df = pd.read_csv(\"filtered_data/data.csv\")\n",
    "df.head()"
   ]
  },
  {
   "cell_type": "code",
   "execution_count": 11,
   "id": "8bf017f8-07a3-4fd5-993c-c85dbe856e9c",
   "metadata": {},
   "outputs": [
    {
     "data": {
      "text/plain": [
       "(100, 3)"
      ]
     },
     "execution_count": 11,
     "metadata": {},
     "output_type": "execute_result"
    }
   ],
   "source": [
    "df_exp = df.iloc[:100]\n",
    "df_exp.shape"
   ]
  },
  {
   "cell_type": "code",
   "execution_count": 49,
   "id": "e4b03dc2-f6e6-4b35-a0ca-ee615906ac24",
   "metadata": {},
   "outputs": [
    {
     "data": {
      "text/plain": [
       "\"White wins. White's final move, pushing the e6 pawn, creates an overwhelming threat that Black cannot counter effectively. The black king's precarious position without castling and the material disadvantage led to White achieving a winning position.\""
      ]
     },
     "execution_count": 49,
     "metadata": {},
     "output_type": "execute_result"
    }
   ],
   "source": [
    "def fix_text_winner(text:str):\n",
    "    to_replace = [\"*\", \":\",\"\\n\", \"-\"]\n",
    "    target = text[:]\n",
    "    for c in to_replace:\n",
    "        target = target.replace(str(c), \"\")\n",
    "    return target.strip()\n",
    "\n",
    "fix_text_winner(text.split(\"Winner\")[len(text.split(\"Winner\"))-1])"
   ]
  },
  {
   "cell_type": "code",
   "execution_count": 46,
   "id": "927eb87c-aed3-441d-99d1-9c0a0bcca5b4",
   "metadata": {},
   "outputs": [
    {
     "data": {
      "text/plain": [
       "\":**\\n- **White** wins. White's final move, pushing the e6 pawn, creates an overwhelming threat that Black cannot counter effectively. The black king's precarious position without castling and the material disadvantage led to White achieving a winning position.\""
      ]
     },
     "execution_count": 46,
     "metadata": {},
     "output_type": "execute_result"
    }
   ],
   "source": [
    "text = df.iloc[0][\"explanation\"]\n",
    "text.split(\"Winner\")[len(text.split(\"Winner\"))-1]"
   ]
  },
  {
   "cell_type": "code",
   "execution_count": 14,
   "id": "68151ce9-ee12-4ed9-a391-e141fd3975c3",
   "metadata": {},
   "outputs": [
    {
     "data": {
      "text/plain": [
       "'Assume you are a chess master, explain the strategy used by each player based on the provided chess moves.'"
      ]
     },
     "execution_count": 14,
     "metadata": {},
     "output_type": "execute_result"
    }
   ],
   "source": [
    "df.iloc[0][\"instruction\"]"
   ]
  },
  {
   "cell_type": "code",
   "execution_count": 10,
   "id": "59431eb4-23e2-4c76-bf73-ed72abd9d3e7",
   "metadata": {},
   "outputs": [
    {
     "data": {
      "text/plain": [
       "Index(['moves', 'explanation', 'instruction'], dtype='object')"
      ]
     },
     "execution_count": 10,
     "metadata": {},
     "output_type": "execute_result"
    }
   ],
   "source": [
    "df.columns"
   ]
  },
  {
   "cell_type": "markdown",
   "id": "965367af-a5fe-4a43-96ab-30f13a76bd24",
   "metadata": {},
   "source": [
    "## taking 100 random rows for winner task"
   ]
  },
  {
   "cell_type": "code",
   "execution_count": 51,
   "id": "a6770ea0-bbe5-4e6a-86c6-854666c89687",
   "metadata": {},
   "outputs": [],
   "source": [
    "df_win_temp = df.sample(100, random_state=42)"
   ]
  },
  {
   "cell_type": "code",
   "execution_count": 60,
   "id": "bcfa6347-95f8-4e33-adc0-c6eeb7e8f656",
   "metadata": {},
   "outputs": [],
   "source": [
    "def generate_winner_task(df):\n",
    "    instruction = []\n",
    "    moves  = []\n",
    "    explanation = []\n",
    "    for i in range(df.shape[0]):\n",
    "        instruction.append(\"Assume you are a chess master. Who do you think will win the game based on the provided chess moves in Algebraic Notation.\")\n",
    "        moves.append(df.iloc[i][\"moves\"])\n",
    "        target = df.iloc[i][\"explanation\"]\n",
    "        target = target.split(\"Winner\")\n",
    "        output = target[len(target)-1]\n",
    "        explanation.append(fix_text_winner(output))\n",
    "\n",
    "    return list(zip(moves, explanation, instruction))"
   ]
  },
  {
   "cell_type": "code",
   "execution_count": 61,
   "id": "e01687d2-9194-41b8-965e-4e84e50c4f2a",
   "metadata": {},
   "outputs": [],
   "source": [
    "df_win = pd.DataFrame(generate_winner_task(df_win_temp), columns=[\"moves\", \"explanation\", \"instruction\"])"
   ]
  },
  {
   "cell_type": "code",
   "execution_count": 62,
   "id": "d772ee6a-23a6-4392-b50d-b2d06f59c63d",
   "metadata": {},
   "outputs": [
    {
     "data": {
      "text/html": [
       "<div>\n",
       "<style scoped>\n",
       "    .dataframe tbody tr th:only-of-type {\n",
       "        vertical-align: middle;\n",
       "    }\n",
       "\n",
       "    .dataframe tbody tr th {\n",
       "        vertical-align: top;\n",
       "    }\n",
       "\n",
       "    .dataframe thead th {\n",
       "        text-align: right;\n",
       "    }\n",
       "</style>\n",
       "<table border=\"1\" class=\"dataframe\">\n",
       "  <thead>\n",
       "    <tr style=\"text-align: right;\">\n",
       "      <th></th>\n",
       "      <th>moves</th>\n",
       "      <th>explanation</th>\n",
       "      <th>instruction</th>\n",
       "    </tr>\n",
       "  </thead>\n",
       "  <tbody>\n",
       "    <tr>\n",
       "      <th>0</th>\n",
       "      <td>e4 c5 Nf3 d6 Bc4 Nf6 d3 Bg4 Nbd2 Nc6 c3 e5 Qb3...</td>\n",
       "      <td>By the analysis of the final position, White s...</td>\n",
       "      <td>Assume you are a chess master. Who do you thin...</td>\n",
       "    </tr>\n",
       "    <tr>\n",
       "      <th>1</th>\n",
       "      <td>d4 Nf6 c4 g6 Nc3 Bg7 Nf3 d6 Bg5 O-O e3 Nfd7 h3...</td>\n",
       "      <td>The final move, Be5+, puts heavy pressure on B...</td>\n",
       "      <td>Assume you are a chess master. Who do you thin...</td>\n",
       "    </tr>\n",
       "    <tr>\n",
       "      <th>2</th>\n",
       "      <td>e4 c5 f4 d6 Nf3 Nf6 d3 e5 fxe5 dxe5 Nxe5 Be6 B...</td>\n",
       "      <td>White. The decisive sequence at the end forced...</td>\n",
       "      <td>Assume you are a chess master. Who do you thin...</td>\n",
       "    </tr>\n",
       "    <tr>\n",
       "      <th>3</th>\n",
       "      <td>e4 e5 Nf3 Nc6 d4 exd4 Nxd4 Bc5 Nb3 Bb6 a4 Qf6 ...</td>\n",
       "      <td>White won the game due to superior positioning...</td>\n",
       "      <td>Assume you are a chess master. Who do you thin...</td>\n",
       "    </tr>\n",
       "    <tr>\n",
       "      <th>4</th>\n",
       "      <td>d4 c6 Nf3 d5 Bf4 Bg4 e3 Nd7 Nbd2 f6 h3 Bh5 c4 ...</td>\n",
       "      <td>White demonstrates superior strategic play, le...</td>\n",
       "      <td>Assume you are a chess master. Who do you thin...</td>\n",
       "    </tr>\n",
       "  </tbody>\n",
       "</table>\n",
       "</div>"
      ],
      "text/plain": [
       "                                               moves  \\\n",
       "0  e4 c5 Nf3 d6 Bc4 Nf6 d3 Bg4 Nbd2 Nc6 c3 e5 Qb3...   \n",
       "1  d4 Nf6 c4 g6 Nc3 Bg7 Nf3 d6 Bg5 O-O e3 Nfd7 h3...   \n",
       "2  e4 c5 f4 d6 Nf3 Nf6 d3 e5 fxe5 dxe5 Nxe5 Be6 B...   \n",
       "3  e4 e5 Nf3 Nc6 d4 exd4 Nxd4 Bc5 Nb3 Bb6 a4 Qf6 ...   \n",
       "4  d4 c6 Nf3 d5 Bf4 Bg4 e3 Nd7 Nbd2 f6 h3 Bh5 c4 ...   \n",
       "\n",
       "                                         explanation  \\\n",
       "0  By the analysis of the final position, White s...   \n",
       "1  The final move, Be5+, puts heavy pressure on B...   \n",
       "2  White. The decisive sequence at the end forced...   \n",
       "3  White won the game due to superior positioning...   \n",
       "4  White demonstrates superior strategic play, le...   \n",
       "\n",
       "                                         instruction  \n",
       "0  Assume you are a chess master. Who do you thin...  \n",
       "1  Assume you are a chess master. Who do you thin...  \n",
       "2  Assume you are a chess master. Who do you thin...  \n",
       "3  Assume you are a chess master. Who do you thin...  \n",
       "4  Assume you are a chess master. Who do you thin...  "
      ]
     },
     "execution_count": 62,
     "metadata": {},
     "output_type": "execute_result"
    }
   ],
   "source": [
    "df_win.head()"
   ]
  },
  {
   "cell_type": "code",
   "execution_count": 63,
   "id": "0f97a516-197d-4e7b-8141-9d60891c4fdf",
   "metadata": {},
   "outputs": [
    {
     "data": {
      "text/plain": [
       "'White demonstrates superior strategic play, leveraging tactical opportunities and decisive sacrifice to expose Black’s king and gain the winning position.'"
      ]
     },
     "execution_count": 63,
     "metadata": {},
     "output_type": "execute_result"
    }
   ],
   "source": [
    "df_win.iloc[4][\"explanation\"]"
   ]
  },
  {
   "cell_type": "markdown",
   "id": "4c158dd2-e8b0-4e77-9b92-4fe670e24c64",
   "metadata": {},
   "source": [
    "# predict next move task"
   ]
  },
  {
   "cell_type": "code",
   "execution_count": 71,
   "id": "7b4695ec-d6ba-499f-bae4-3ca8189c1457",
   "metadata": {},
   "outputs": [
    {
     "data": {
      "text/html": [
       "<div>\n",
       "<style scoped>\n",
       "    .dataframe tbody tr th:only-of-type {\n",
       "        vertical-align: middle;\n",
       "    }\n",
       "\n",
       "    .dataframe tbody tr th {\n",
       "        vertical-align: top;\n",
       "    }\n",
       "\n",
       "    .dataframe thead th {\n",
       "        text-align: right;\n",
       "    }\n",
       "</style>\n",
       "<table border=\"1\" class=\"dataframe\">\n",
       "  <thead>\n",
       "    <tr style=\"text-align: right;\">\n",
       "      <th></th>\n",
       "      <th>moves</th>\n",
       "      <th>explanation</th>\n",
       "    </tr>\n",
       "  </thead>\n",
       "  <tbody>\n",
       "    <tr>\n",
       "      <th>361</th>\n",
       "      <td>e4 d5</td>\n",
       "      <td>exd5</td>\n",
       "    </tr>\n",
       "    <tr>\n",
       "      <th>73</th>\n",
       "      <td>e4 e5 d3 d6 Be3 c6 Be2 b5 Nd2 a5 a4 c5 axb5 Nc...</td>\n",
       "      <td>Bxh5</td>\n",
       "    </tr>\n",
       "    <tr>\n",
       "      <th>374</th>\n",
       "      <td>e4 d5 exd5 Qxd5 Nc3 Qe5+ Be2 Na6 d4 Qf5 Bxa6 b...</td>\n",
       "      <td>Bb7</td>\n",
       "    </tr>\n",
       "    <tr>\n",
       "      <th>155</th>\n",
       "      <td>e4 e5 Nf3 d6</td>\n",
       "      <td>d4</td>\n",
       "    </tr>\n",
       "    <tr>\n",
       "      <th>104</th>\n",
       "      <td>d4 d5 Nf3 Bf5 Nc3 Nf6 Bf4 Ng4 e3 Nc6 Be2 Qd7 O...</td>\n",
       "      <td>Nb5</td>\n",
       "    </tr>\n",
       "    <tr>\n",
       "      <th>...</th>\n",
       "      <td>...</td>\n",
       "      <td>...</td>\n",
       "    </tr>\n",
       "    <tr>\n",
       "      <th>347</th>\n",
       "      <td>e4 e5 Bc4 Nc6 Nf3 Nd4 d3 Nxf3+ Qxf3 Nf6 h3 Bc5...</td>\n",
       "      <td>Nd3</td>\n",
       "    </tr>\n",
       "    <tr>\n",
       "      <th>86</th>\n",
       "      <td>e4 e5 d3 d6 Be3 c6 Be2 b5 Nd2 a5 a4 c5 axb5 Nc...</td>\n",
       "      <td>Kb4</td>\n",
       "    </tr>\n",
       "    <tr>\n",
       "      <th>75</th>\n",
       "      <td>e4 e5 d3 d6 Be3 c6 Be2 b5 Nd2 a5 a4 c5 axb5 Nc...</td>\n",
       "      <td>Rxh7</td>\n",
       "    </tr>\n",
       "    <tr>\n",
       "      <th>438</th>\n",
       "      <td>e4 d5 exd5 Qxd5 Nc3 Qe5+ Be2 Na6 d4 Qf5 Bxa6 b...</td>\n",
       "      <td>Rf4</td>\n",
       "    </tr>\n",
       "    <tr>\n",
       "      <th>15</th>\n",
       "      <td>d4 Nc6</td>\n",
       "      <td>e4</td>\n",
       "    </tr>\n",
       "  </tbody>\n",
       "</table>\n",
       "<p>100 rows × 2 columns</p>\n",
       "</div>"
      ],
      "text/plain": [
       "                                                 moves explanation\n",
       "361                                              e4 d5        exd5\n",
       "73   e4 e5 d3 d6 Be3 c6 Be2 b5 Nd2 a5 a4 c5 axb5 Nc...        Bxh5\n",
       "374  e4 d5 exd5 Qxd5 Nc3 Qe5+ Be2 Na6 d4 Qf5 Bxa6 b...         Bb7\n",
       "155                                       e4 e5 Nf3 d6          d4\n",
       "104  d4 d5 Nf3 Bf5 Nc3 Nf6 Bf4 Ng4 e3 Nc6 Be2 Qd7 O...         Nb5\n",
       "..                                                 ...         ...\n",
       "347  e4 e5 Bc4 Nc6 Nf3 Nd4 d3 Nxf3+ Qxf3 Nf6 h3 Bc5...         Nd3\n",
       "86   e4 e5 d3 d6 Be3 c6 Be2 b5 Nd2 a5 a4 c5 axb5 Nc...         Kb4\n",
       "75   e4 e5 d3 d6 Be3 c6 Be2 b5 Nd2 a5 a4 c5 axb5 Nc...        Rxh7\n",
       "438  e4 d5 exd5 Qxd5 Nc3 Qe5+ Be2 Na6 d4 Qf5 Bxa6 b...         Rf4\n",
       "15                                              d4 Nc6          e4\n",
       "\n",
       "[100 rows x 2 columns]"
      ]
     },
     "execution_count": 71,
     "metadata": {},
     "output_type": "execute_result"
    }
   ],
   "source": [
    "df_prog = pd.read_csv(\"../data/progressive_move_data_chunks_5000/data_00.csv\")\n",
    "df_prog = df_prog.sample(100, random_state=42)\n",
    "df_prog.drop(\"opening_name\", axis = 1, inplace=True)\n",
    "df_prog.columns = [\"moves\", \"explanation\"]\n",
    "df_prog"
   ]
  },
  {
   "cell_type": "code",
   "execution_count": 72,
   "id": "447f606c-c413-4def-9f40-205bf974b47d",
   "metadata": {},
   "outputs": [],
   "source": [
    "df_prog[\"instruction\"] = \"Assume you are a chess master. Suggest the next move based on the provided ches moves in Algebraic notation\""
   ]
  },
  {
   "cell_type": "code",
   "execution_count": 73,
   "id": "d70ccff4-c052-43f8-8cfd-1439785a834b",
   "metadata": {},
   "outputs": [
    {
     "data": {
      "text/plain": [
       "moves                                                      e4 d5\n",
       "explanation                                                 exd5\n",
       "instruction    Assume you are a chess master. Suggest the nex...\n",
       "Name: 361, dtype: object"
      ]
     },
     "execution_count": 73,
     "metadata": {},
     "output_type": "execute_result"
    }
   ],
   "source": [
    "df_prog.iloc[0]"
   ]
  },
  {
   "cell_type": "code",
   "execution_count": 74,
   "id": "c1daf155-2694-4ab1-94ab-aacd1bebd87b",
   "metadata": {},
   "outputs": [
    {
     "data": {
      "text/plain": [
       "(Index(['moves', 'explanation', 'instruction'], dtype='object'),\n",
       " Index(['moves', 'explanation', 'instruction'], dtype='object'),\n",
       " Index(['moves', 'explanation', 'instruction'], dtype='object'))"
      ]
     },
     "execution_count": 74,
     "metadata": {},
     "output_type": "execute_result"
    }
   ],
   "source": [
    "df_exp.columns, df_win.columns, df_prog.columns"
   ]
  },
  {
   "cell_type": "code",
   "execution_count": 78,
   "id": "f1eba5b7-d45f-477a-ab5b-2f6ead84dbc8",
   "metadata": {},
   "outputs": [],
   "source": [
    "df = pd.concat([df_exp, df_win, df_prog], ignore_index=True)"
   ]
  },
  {
   "cell_type": "code",
   "execution_count": 79,
   "id": "1df3f692-dad4-43c2-ab5f-a00ece7d075d",
   "metadata": {},
   "outputs": [
    {
     "data": {
      "text/html": [
       "<div>\n",
       "<style scoped>\n",
       "    .dataframe tbody tr th:only-of-type {\n",
       "        vertical-align: middle;\n",
       "    }\n",
       "\n",
       "    .dataframe tbody tr th {\n",
       "        vertical-align: top;\n",
       "    }\n",
       "\n",
       "    .dataframe thead th {\n",
       "        text-align: right;\n",
       "    }\n",
       "</style>\n",
       "<table border=\"1\" class=\"dataframe\">\n",
       "  <thead>\n",
       "    <tr style=\"text-align: right;\">\n",
       "      <th></th>\n",
       "      <th>moves</th>\n",
       "      <th>explanation</th>\n",
       "      <th>instruction</th>\n",
       "    </tr>\n",
       "  </thead>\n",
       "  <tbody>\n",
       "    <tr>\n",
       "      <th>0</th>\n",
       "      <td>e4 e6 d4 b6 e5 Bb7 Nf3 h6 Bd3 g5 O-O g4 Nfd2 h...</td>\n",
       "      <td>### Game Analysis\\n\\n**Move Pair 1:** \\n- **Wh...</td>\n",
       "      <td>Assume you are a chess master, explain the str...</td>\n",
       "    </tr>\n",
       "    <tr>\n",
       "      <th>1</th>\n",
       "      <td>e4 e6 d4 d5 Nd2 dxe4 Nxe4 Nf6 Bd3 Nxe4 Bxe4 Nc...</td>\n",
       "      <td>### Game Analysis\\n1. **White: e4, Black: e6**...</td>\n",
       "      <td>Assume you are a chess master, explain the str...</td>\n",
       "    </tr>\n",
       "    <tr>\n",
       "      <th>2</th>\n",
       "      <td>e4 e6 b3 d5 f3 Nc6 Bb2 dxe4 fxe4 Qh4+ Ke2 Qxe4...</td>\n",
       "      <td>### Game Analysis\\n\\n1. **White: e4, Black: e6...</td>\n",
       "      <td>Assume you are a chess master, explain the str...</td>\n",
       "    </tr>\n",
       "    <tr>\n",
       "      <th>3</th>\n",
       "      <td>e4 e5 Nf3 Nc6 d4 Bb4+ c3 Bd6 Bb5 Qf6 O-O exd4 ...</td>\n",
       "      <td>### Game Analysis:\\n\\n1. **White: e4, Black: e...</td>\n",
       "      <td>Assume you are a chess master, explain the str...</td>\n",
       "    </tr>\n",
       "    <tr>\n",
       "      <th>4</th>\n",
       "      <td>d4 Nf6 c4 e6 Nf3 d5 c5 b6 b4 a5 Ba3 axb4 Bxb4 ...</td>\n",
       "      <td>### Game Analysis\\n\\n1. **d4, Nf6**\\n   - **Wh...</td>\n",
       "      <td>Assume you are a chess master, explain the str...</td>\n",
       "    </tr>\n",
       "    <tr>\n",
       "      <th>...</th>\n",
       "      <td>...</td>\n",
       "      <td>...</td>\n",
       "      <td>...</td>\n",
       "    </tr>\n",
       "    <tr>\n",
       "      <th>295</th>\n",
       "      <td>e4 e5 Bc4 Nc6 Nf3 Nd4 d3 Nxf3+ Qxf3 Nf6 h3 Bc5...</td>\n",
       "      <td>Nd3</td>\n",
       "      <td>Assume you are a chess master. Suggest the nex...</td>\n",
       "    </tr>\n",
       "    <tr>\n",
       "      <th>296</th>\n",
       "      <td>e4 e5 d3 d6 Be3 c6 Be2 b5 Nd2 a5 a4 c5 axb5 Nc...</td>\n",
       "      <td>Kb4</td>\n",
       "      <td>Assume you are a chess master. Suggest the nex...</td>\n",
       "    </tr>\n",
       "    <tr>\n",
       "      <th>297</th>\n",
       "      <td>e4 e5 d3 d6 Be3 c6 Be2 b5 Nd2 a5 a4 c5 axb5 Nc...</td>\n",
       "      <td>Rxh7</td>\n",
       "      <td>Assume you are a chess master. Suggest the nex...</td>\n",
       "    </tr>\n",
       "    <tr>\n",
       "      <th>298</th>\n",
       "      <td>e4 d5 exd5 Qxd5 Nc3 Qe5+ Be2 Na6 d4 Qf5 Bxa6 b...</td>\n",
       "      <td>Rf4</td>\n",
       "      <td>Assume you are a chess master. Suggest the nex...</td>\n",
       "    </tr>\n",
       "    <tr>\n",
       "      <th>299</th>\n",
       "      <td>d4 Nc6</td>\n",
       "      <td>e4</td>\n",
       "      <td>Assume you are a chess master. Suggest the nex...</td>\n",
       "    </tr>\n",
       "  </tbody>\n",
       "</table>\n",
       "<p>300 rows × 3 columns</p>\n",
       "</div>"
      ],
      "text/plain": [
       "                                                 moves  \\\n",
       "0    e4 e6 d4 b6 e5 Bb7 Nf3 h6 Bd3 g5 O-O g4 Nfd2 h...   \n",
       "1    e4 e6 d4 d5 Nd2 dxe4 Nxe4 Nf6 Bd3 Nxe4 Bxe4 Nc...   \n",
       "2    e4 e6 b3 d5 f3 Nc6 Bb2 dxe4 fxe4 Qh4+ Ke2 Qxe4...   \n",
       "3    e4 e5 Nf3 Nc6 d4 Bb4+ c3 Bd6 Bb5 Qf6 O-O exd4 ...   \n",
       "4    d4 Nf6 c4 e6 Nf3 d5 c5 b6 b4 a5 Ba3 axb4 Bxb4 ...   \n",
       "..                                                 ...   \n",
       "295  e4 e5 Bc4 Nc6 Nf3 Nd4 d3 Nxf3+ Qxf3 Nf6 h3 Bc5...   \n",
       "296  e4 e5 d3 d6 Be3 c6 Be2 b5 Nd2 a5 a4 c5 axb5 Nc...   \n",
       "297  e4 e5 d3 d6 Be3 c6 Be2 b5 Nd2 a5 a4 c5 axb5 Nc...   \n",
       "298  e4 d5 exd5 Qxd5 Nc3 Qe5+ Be2 Na6 d4 Qf5 Bxa6 b...   \n",
       "299                                             d4 Nc6   \n",
       "\n",
       "                                           explanation  \\\n",
       "0    ### Game Analysis\\n\\n**Move Pair 1:** \\n- **Wh...   \n",
       "1    ### Game Analysis\\n1. **White: e4, Black: e6**...   \n",
       "2    ### Game Analysis\\n\\n1. **White: e4, Black: e6...   \n",
       "3    ### Game Analysis:\\n\\n1. **White: e4, Black: e...   \n",
       "4    ### Game Analysis\\n\\n1. **d4, Nf6**\\n   - **Wh...   \n",
       "..                                                 ...   \n",
       "295                                                Nd3   \n",
       "296                                                Kb4   \n",
       "297                                               Rxh7   \n",
       "298                                                Rf4   \n",
       "299                                                 e4   \n",
       "\n",
       "                                           instruction  \n",
       "0    Assume you are a chess master, explain the str...  \n",
       "1    Assume you are a chess master, explain the str...  \n",
       "2    Assume you are a chess master, explain the str...  \n",
       "3    Assume you are a chess master, explain the str...  \n",
       "4    Assume you are a chess master, explain the str...  \n",
       "..                                                 ...  \n",
       "295  Assume you are a chess master. Suggest the nex...  \n",
       "296  Assume you are a chess master. Suggest the nex...  \n",
       "297  Assume you are a chess master. Suggest the nex...  \n",
       "298  Assume you are a chess master. Suggest the nex...  \n",
       "299  Assume you are a chess master. Suggest the nex...  \n",
       "\n",
       "[300 rows x 3 columns]"
      ]
     },
     "execution_count": 79,
     "metadata": {},
     "output_type": "execute_result"
    }
   ],
   "source": [
    "df"
   ]
  },
  {
   "cell_type": "code",
   "execution_count": 81,
   "id": "f4d88e05-85e3-4d62-9991-8e2b96df28f9",
   "metadata": {},
   "outputs": [
    {
     "data": {
      "text/plain": [
       "array(['Assume you are a chess master, explain the strategy used by each player based on the provided chess moves.',\n",
       "       'Assume you are a chess master. Who do you think will win the game based on the provided chess moves in Algebraic Notation.',\n",
       "       'Assume you are a chess master. Suggest the next move based on the provided ches moves in Algebraic notation'],\n",
       "      dtype=object)"
      ]
     },
     "execution_count": 81,
     "metadata": {},
     "output_type": "execute_result"
    }
   ],
   "source": [
    "df[\"instruction\"].unique()"
   ]
  },
  {
   "cell_type": "markdown",
   "id": "20ae9b27-226e-4f6f-9e75-6e2c527136d0",
   "metadata": {},
   "source": [
    "## shuffle"
   ]
  },
  {
   "cell_type": "code",
   "execution_count": 82,
   "id": "5dd85462-9644-42d3-a483-d9b27b231b0c",
   "metadata": {},
   "outputs": [
    {
     "data": {
      "text/html": [
       "<div>\n",
       "<style scoped>\n",
       "    .dataframe tbody tr th:only-of-type {\n",
       "        vertical-align: middle;\n",
       "    }\n",
       "\n",
       "    .dataframe tbody tr th {\n",
       "        vertical-align: top;\n",
       "    }\n",
       "\n",
       "    .dataframe thead th {\n",
       "        text-align: right;\n",
       "    }\n",
       "</style>\n",
       "<table border=\"1\" class=\"dataframe\">\n",
       "  <thead>\n",
       "    <tr style=\"text-align: right;\">\n",
       "      <th></th>\n",
       "      <th>moves</th>\n",
       "      <th>explanation</th>\n",
       "      <th>instruction</th>\n",
       "    </tr>\n",
       "  </thead>\n",
       "  <tbody>\n",
       "    <tr>\n",
       "      <th>0</th>\n",
       "      <td>e4 e6 d4 d5 Nd2 c5 exd5 exd5 dxc5 Bxc5 Nb3 Bb6...</td>\n",
       "      <td>White. The game dynamics favored White, who ef...</td>\n",
       "      <td>Assume you are a chess master. Who do you thin...</td>\n",
       "    </tr>\n",
       "    <tr>\n",
       "      <th>1</th>\n",
       "      <td>e4 d5 exd5 Qxd5 Nc3 Qe5+ Be2 Na6 d4 Qf5 Bxa6 b...</td>\n",
       "      <td>Qg7#</td>\n",
       "      <td>Assume you are a chess master. Suggest the nex...</td>\n",
       "    </tr>\n",
       "    <tr>\n",
       "      <th>2</th>\n",
       "      <td>e4 d5 exd5 Qxd5 Nc3 Qe5+ Be2 Na6 d4 Qf5 Bxa6 b...</td>\n",
       "      <td>Rd2+</td>\n",
       "      <td>Assume you are a chess master. Suggest the nex...</td>\n",
       "    </tr>\n",
       "    <tr>\n",
       "      <th>3</th>\n",
       "      <td>d4 d5 Nf3 c5 c3 c4 Bf4 Nc6 e3 e6 Nbd2 Bd6 Bg3 ...</td>\n",
       "      <td>White, achieved through superior tactical expl...</td>\n",
       "      <td>Assume you are a chess master. Who do you thin...</td>\n",
       "    </tr>\n",
       "    <tr>\n",
       "      <th>4</th>\n",
       "      <td>e4 e5 Bc4 Nf6 Nc3 Bc5 Nf3 O-O O-O d6 d4 exd4 N...</td>\n",
       "      <td>ReasonWhite emerged as the winner, largely due...</td>\n",
       "      <td>Assume you are a chess master. Who do you thin...</td>\n",
       "    </tr>\n",
       "    <tr>\n",
       "      <th>...</th>\n",
       "      <td>...</td>\n",
       "      <td>...</td>\n",
       "      <td>...</td>\n",
       "    </tr>\n",
       "    <tr>\n",
       "      <th>295</th>\n",
       "      <td>e4 d6 Nf3 Nf6 Nc3 g6 d4 Bg7 Be3 O-O Be2 Nfd7 Q...</td>\n",
       "      <td>### Game Analysis\\n\\n#### Move 1: White e4, Bl...</td>\n",
       "      <td>Assume you are a chess master, explain the str...</td>\n",
       "    </tr>\n",
       "    <tr>\n",
       "      <th>296</th>\n",
       "      <td>Nf3 c6 d4 Nf6 c4 d5 Nc3 g6 Bg5 Bg7 e3 O-O Qb3 ...</td>\n",
       "      <td>### Game Analysis\\n1. **White: Nf3, Black: c6*...</td>\n",
       "      <td>Assume you are a chess master, explain the str...</td>\n",
       "    </tr>\n",
       "    <tr>\n",
       "      <th>297</th>\n",
       "      <td>e4 b6 d4 Bb7 Nc3 e6 a3 Nf6 Bd3 Be7 Nge2 d5 e5 ...</td>\n",
       "      <td>The game analysis stops before we can definiti...</td>\n",
       "      <td>Assume you are a chess master. Who do you thin...</td>\n",
       "    </tr>\n",
       "    <tr>\n",
       "      <th>298</th>\n",
       "      <td>e4 c5 c3 Nc6 Nf3 e6 d4 cxd4 Nxd4 a6 Nxc6 bxc6 ...</td>\n",
       "      <td>Black Reason Black effectively countered White...</td>\n",
       "      <td>Assume you are a chess master. Who do you thin...</td>\n",
       "    </tr>\n",
       "    <tr>\n",
       "      <th>299</th>\n",
       "      <td>Nf3 c6 d4 Nf6 c4 d5 Nc3 g6 Bg5 Bg7 e3 O-O Qb3 ...</td>\n",
       "      <td>Analysis The above moves list ends with White ...</td>\n",
       "      <td>Assume you are a chess master. Who do you thin...</td>\n",
       "    </tr>\n",
       "  </tbody>\n",
       "</table>\n",
       "<p>300 rows × 3 columns</p>\n",
       "</div>"
      ],
      "text/plain": [
       "                                                 moves  \\\n",
       "0    e4 e6 d4 d5 Nd2 c5 exd5 exd5 dxc5 Bxc5 Nb3 Bb6...   \n",
       "1    e4 d5 exd5 Qxd5 Nc3 Qe5+ Be2 Na6 d4 Qf5 Bxa6 b...   \n",
       "2    e4 d5 exd5 Qxd5 Nc3 Qe5+ Be2 Na6 d4 Qf5 Bxa6 b...   \n",
       "3    d4 d5 Nf3 c5 c3 c4 Bf4 Nc6 e3 e6 Nbd2 Bd6 Bg3 ...   \n",
       "4    e4 e5 Bc4 Nf6 Nc3 Bc5 Nf3 O-O O-O d6 d4 exd4 N...   \n",
       "..                                                 ...   \n",
       "295  e4 d6 Nf3 Nf6 Nc3 g6 d4 Bg7 Be3 O-O Be2 Nfd7 Q...   \n",
       "296  Nf3 c6 d4 Nf6 c4 d5 Nc3 g6 Bg5 Bg7 e3 O-O Qb3 ...   \n",
       "297  e4 b6 d4 Bb7 Nc3 e6 a3 Nf6 Bd3 Be7 Nge2 d5 e5 ...   \n",
       "298  e4 c5 c3 Nc6 Nf3 e6 d4 cxd4 Nxd4 a6 Nxc6 bxc6 ...   \n",
       "299  Nf3 c6 d4 Nf6 c4 d5 Nc3 g6 Bg5 Bg7 e3 O-O Qb3 ...   \n",
       "\n",
       "                                           explanation  \\\n",
       "0    White. The game dynamics favored White, who ef...   \n",
       "1                                                 Qg7#   \n",
       "2                                                 Rd2+   \n",
       "3    White, achieved through superior tactical expl...   \n",
       "4    ReasonWhite emerged as the winner, largely due...   \n",
       "..                                                 ...   \n",
       "295  ### Game Analysis\\n\\n#### Move 1: White e4, Bl...   \n",
       "296  ### Game Analysis\\n1. **White: Nf3, Black: c6*...   \n",
       "297  The game analysis stops before we can definiti...   \n",
       "298  Black Reason Black effectively countered White...   \n",
       "299  Analysis The above moves list ends with White ...   \n",
       "\n",
       "                                           instruction  \n",
       "0    Assume you are a chess master. Who do you thin...  \n",
       "1    Assume you are a chess master. Suggest the nex...  \n",
       "2    Assume you are a chess master. Suggest the nex...  \n",
       "3    Assume you are a chess master. Who do you thin...  \n",
       "4    Assume you are a chess master. Who do you thin...  \n",
       "..                                                 ...  \n",
       "295  Assume you are a chess master, explain the str...  \n",
       "296  Assume you are a chess master, explain the str...  \n",
       "297  Assume you are a chess master. Who do you thin...  \n",
       "298  Assume you are a chess master. Who do you thin...  \n",
       "299  Assume you are a chess master. Who do you thin...  \n",
       "\n",
       "[300 rows x 3 columns]"
      ]
     },
     "execution_count": 82,
     "metadata": {},
     "output_type": "execute_result"
    }
   ],
   "source": [
    "df = df.sample(frac = 1).reset_index(drop = True)\n",
    "df"
   ]
  },
  {
   "cell_type": "code",
   "execution_count": 85,
   "id": "78c1fc43-a207-451c-b88b-248ba9b73a26",
   "metadata": {},
   "outputs": [],
   "source": [
    "df.to_csv(\"filtered_data/diverse_data.csv\", index = False)"
   ]
  }
 ],
 "metadata": {
  "kernelspec": {
   "display_name": "Python 3 (ipykernel)",
   "language": "python",
   "name": "python3"
  },
  "language_info": {
   "codemirror_mode": {
    "name": "ipython",
    "version": 3
   },
   "file_extension": ".py",
   "mimetype": "text/x-python",
   "name": "python",
   "nbconvert_exporter": "python",
   "pygments_lexer": "ipython3",
   "version": "3.8.19"
  }
 },
 "nbformat": 4,
 "nbformat_minor": 5
}
