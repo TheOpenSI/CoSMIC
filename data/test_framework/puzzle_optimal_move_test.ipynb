{
 "cells": [
  {
   "cell_type": "code",
   "execution_count": 20,
   "id": "397bf90d-2d28-4c3f-ae37-8bcb50d9cfe5",
   "metadata": {},
   "outputs": [],
   "source": [
    "from stockfish import Stockfish\n",
    "stockfish = Stockfish(\"/home/s448780/workspace/cognitive_ai/cognition_framework/stockfish/stockfish-ubuntu-x86-64-avx2\")"
   ]
  },
  {
   "cell_type": "code",
   "execution_count": 21,
   "id": "23e8006e-1083-46d2-8159-cf3dfa9b11a1",
   "metadata": {},
   "outputs": [],
   "source": [
    "# print(stockfish.get_best_move())\n",
    "FEN = \"1Q6/5ppk/3p4/4r3/4q3/2P5/P5PP/R5K1 w - - 3 25\"\n",
    "stockfish.set_fen_position(FEN)"
   ]
  },
  {
   "cell_type": "code",
   "execution_count": 22,
   "id": "c58153e7-ec7a-4301-897b-c5ed802d3d43",
   "metadata": {},
   "outputs": [
    {
     "data": {
      "text/plain": [
       "{'Debug Log File': '',\n",
       " 'Contempt': 0,\n",
       " 'Min Split Depth': 0,\n",
       " 'Ponder': 'false',\n",
       " 'MultiPV': 1,\n",
       " 'Skill Level': 20,\n",
       " 'Move Overhead': 10,\n",
       " 'Minimum Thinking Time': 20,\n",
       " 'Slow Mover': 100,\n",
       " 'UCI_Chess960': 'false',\n",
       " 'UCI_LimitStrength': 'false',\n",
       " 'UCI_Elo': 1350,\n",
       " 'Threads': 1,\n",
       " 'Hash': 16}"
      ]
     },
     "execution_count": 22,
     "metadata": {},
     "output_type": "execute_result"
    }
   ],
   "source": [
    "stockfish.get_parameters()"
   ]
  },
  {
   "cell_type": "code",
   "execution_count": 23,
   "id": "7b8ed7a5-59f3-4e3e-8cfb-6c774479082d",
   "metadata": {},
   "outputs": [
    {
     "name": "stdout",
     "output_type": "stream",
     "text": [
      "+---+---+---+---+---+---+---+---+\n",
      "|   | Q |   |   |   |   |   |   | 8\n",
      "+---+---+---+---+---+---+---+---+\n",
      "|   |   |   |   |   | p | p | k | 7\n",
      "+---+---+---+---+---+---+---+---+\n",
      "|   |   |   | p |   |   |   |   | 6\n",
      "+---+---+---+---+---+---+---+---+\n",
      "|   |   |   |   | r |   |   |   | 5\n",
      "+---+---+---+---+---+---+---+---+\n",
      "|   |   |   |   | q |   |   |   | 4\n",
      "+---+---+---+---+---+---+---+---+\n",
      "|   |   | P |   |   |   |   |   | 3\n",
      "+---+---+---+---+---+---+---+---+\n",
      "| P |   |   |   |   |   | P | P | 2\n",
      "+---+---+---+---+---+---+---+---+\n",
      "| R |   |   |   |   |   | K |   | 1\n",
      "+---+---+---+---+---+---+---+---+\n",
      "  a   b   c   d   e   f   g   h\n",
      "\n"
     ]
    }
   ],
   "source": [
    "print(stockfish.get_board_visual()) # from white's perspective"
   ]
  },
  {
   "cell_type": "code",
   "execution_count": 24,
   "id": "c3461663-3a2c-4e65-a9f6-f3a2a69af893",
   "metadata": {},
   "outputs": [
    {
     "data": {
      "text/plain": [
       "'b8b1'"
      ]
     },
     "execution_count": 24,
     "metadata": {},
     "output_type": "execute_result"
    }
   ],
   "source": [
    "stockfish.get_best_move()"
   ]
  },
  {
   "cell_type": "code",
   "execution_count": 9,
   "id": "1fcae264-88f6-4fd4-be07-e660d2e1520a",
   "metadata": {},
   "outputs": [],
   "source": [
    "stockfish.make_moves_from_current_position([\"b8d6\"])"
   ]
  },
  {
   "cell_type": "code",
   "execution_count": 10,
   "id": "223690dd-ef0e-47ec-a8cd-315454b912aa",
   "metadata": {},
   "outputs": [
    {
     "name": "stdout",
     "output_type": "stream",
     "text": [
      "+---+---+---+---+---+---+---+---+\n",
      "|   |   |   |   |   |   |   |   | 8\n",
      "+---+---+---+---+---+---+---+---+\n",
      "|   |   |   |   |   | p | p | k | 7\n",
      "+---+---+---+---+---+---+---+---+\n",
      "|   |   |   | Q |   |   |   |   | 6\n",
      "+---+---+---+---+---+---+---+---+\n",
      "|   |   |   |   | r |   |   |   | 5\n",
      "+---+---+---+---+---+---+---+---+\n",
      "|   |   |   |   | q |   |   |   | 4\n",
      "+---+---+---+---+---+---+---+---+\n",
      "|   |   | P |   |   |   |   |   | 3\n",
      "+---+---+---+---+---+---+---+---+\n",
      "| P |   |   |   |   |   | P | P | 2\n",
      "+---+---+---+---+---+---+---+---+\n",
      "| R |   |   |   |   |   | K |   | 1\n",
      "+---+---+---+---+---+---+---+---+\n",
      "  a   b   c   d   e   f   g   h\n",
      "\n"
     ]
    }
   ],
   "source": [
    "print(stockfish.get_board_visual())"
   ]
  },
  {
   "cell_type": "code",
   "execution_count": 11,
   "id": "8b79e83b-72f1-460d-a5f4-2032f0afac85",
   "metadata": {},
   "outputs": [
    {
     "name": "stdout",
     "output_type": "stream",
     "text": [
      "e4e3\n"
     ]
    }
   ],
   "source": [
    "print(stockfish.get_best_move())"
   ]
  },
  {
   "cell_type": "code",
   "execution_count": 13,
   "id": "9c3ba9b4-0a95-4609-afdc-7b292f9e1b18",
   "metadata": {},
   "outputs": [
    {
     "name": "stdout",
     "output_type": "stream",
     "text": [
      "+---+---+---+---+---+---+---+---+\n",
      "|   |   |   |   |   |   |   |   | 8\n",
      "+---+---+---+---+---+---+---+---+\n",
      "|   |   |   |   |   | p | p | k | 7\n",
      "+---+---+---+---+---+---+---+---+\n",
      "|   |   |   | Q |   |   |   |   | 6\n",
      "+---+---+---+---+---+---+---+---+\n",
      "|   |   |   |   | r |   |   |   | 5\n",
      "+---+---+---+---+---+---+---+---+\n",
      "|   |   |   |   |   |   |   |   | 4\n",
      "+---+---+---+---+---+---+---+---+\n",
      "|   |   | P |   | q |   |   |   | 3\n",
      "+---+---+---+---+---+---+---+---+\n",
      "| P |   |   |   |   |   | P | P | 2\n",
      "+---+---+---+---+---+---+---+---+\n",
      "| R |   |   |   |   |   | K |   | 1\n",
      "+---+---+---+---+---+---+---+---+\n",
      "  a   b   c   d   e   f   g   h\n",
      "\n"
     ]
    }
   ],
   "source": [
    "stockfish.make_moves_from_current_position([\"e4e3\"])\n",
    "print(stockfish.get_board_visual())"
   ]
  },
  {
   "cell_type": "code",
   "execution_count": 14,
   "id": "b958b540-f16d-41f3-bb14-b8ec4cd81fde",
   "metadata": {},
   "outputs": [
    {
     "name": "stdout",
     "output_type": "stream",
     "text": [
      "e3e1\n"
     ]
    }
   ],
   "source": [
    "stockfish.make_moves_from_current_position([\"g1h1\"])\n",
    "print(stockfish.get_best_move())"
   ]
  },
  {
   "cell_type": "markdown",
   "id": "3f70de67-5e5e-4df0-87ed-c90878f7d267",
   "metadata": {},
   "source": [
    "## game 2"
   ]
  },
  {
   "cell_type": "code",
   "execution_count": 15,
   "id": "f8999214-06ca-4e20-a316-4ddeb8141ed8",
   "metadata": {},
   "outputs": [
    {
     "name": "stdout",
     "output_type": "stream",
     "text": [
      "+---+---+---+---+---+---+---+---+\n",
      "|   |   | k |   |   |   |   |   | 8\n",
      "+---+---+---+---+---+---+---+---+\n",
      "| p | p |   |   |   | B | p |   | 7\n",
      "+---+---+---+---+---+---+---+---+\n",
      "|   |   | p | p |   |   |   |   | 6\n",
      "+---+---+---+---+---+---+---+---+\n",
      "|   |   |   |   | p |   | p |   | 5\n",
      "+---+---+---+---+---+---+---+---+\n",
      "|   |   |   |   | P | q | n |   | 4\n",
      "+---+---+---+---+---+---+---+---+\n",
      "| P |   |   | P |   | P |   |   | 3\n",
      "+---+---+---+---+---+---+---+---+\n",
      "|   | P | P | N | Q |   | r |   | 2\n",
      "+---+---+---+---+---+---+---+---+\n",
      "|   |   |   |   |   |   | K |   | 1\n",
      "+---+---+---+---+---+---+---+---+\n",
      "  a   b   c   d   e   f   g   h\n",
      "\n"
     ]
    }
   ],
   "source": [
    "FEN_2 = \"2k5/pp3Bp1/2pp4/4p1p1/4Pqn1/P2P1P2/1PPNQ1r1/6K1 w - - 0 31\"\n",
    "stockfish.set_fen_position(FEN_2)\n",
    "print(stockfish.get_board_visual())"
   ]
  },
  {
   "cell_type": "code",
   "execution_count": 16,
   "id": "ebbd5f15-9793-4ca0-ac51-9c7f5e11be0a",
   "metadata": {},
   "outputs": [],
   "source": [
    "stockfish.make_moves_from_current_position([\"g1g2\"])"
   ]
  },
  {
   "cell_type": "code",
   "execution_count": 17,
   "id": "304e4260-5dc8-4484-8dbb-a4031e4d1363",
   "metadata": {},
   "outputs": [
    {
     "data": {
      "text/plain": [
       "'f4h2'"
      ]
     },
     "execution_count": 17,
     "metadata": {},
     "output_type": "execute_result"
    }
   ],
   "source": [
    "stockfish.get_best_move()"
   ]
  },
  {
   "cell_type": "code",
   "execution_count": 19,
   "id": "13b88fe2-f555-48e2-a74f-cd1de6035c4f",
   "metadata": {},
   "outputs": [
    {
     "data": {
      "text/plain": [
       "'g2f1'"
      ]
     },
     "execution_count": 19,
     "metadata": {},
     "output_type": "execute_result"
    }
   ],
   "source": [
    "stockfish.make_moves_from_current_position([\"f4h2\"])\n",
    "stockfish.get_best_move()"
   ]
  },
  {
   "cell_type": "code",
   "execution_count": null,
   "id": "b2edbb56-1677-40e7-9b3d-182627b3223e",
   "metadata": {},
   "outputs": [],
   "source": [
    "stockfish.make_moves_from_current_position([\"g1g2\"])"
   ]
  },
  {
   "cell_type": "code",
   "execution_count": null,
   "id": "b835ab28-f393-46a1-ad8d-8f32d5bea6a5",
   "metadata": {},
   "outputs": [],
   "source": []
  },
  {
   "cell_type": "code",
   "execution_count": null,
   "id": "3b3295cb-0d51-4280-bc7d-3e436eaffb00",
   "metadata": {},
   "outputs": [],
   "source": []
  }
 ],
 "metadata": {
  "kernelspec": {
   "display_name": "Python 3 (ipykernel)",
   "language": "python",
   "name": "python3"
  },
  "language_info": {
   "codemirror_mode": {
    "name": "ipython",
    "version": 3
   },
   "file_extension": ".py",
   "mimetype": "text/x-python",
   "name": "python",
   "nbconvert_exporter": "python",
   "pygments_lexer": "ipython3",
   "version": "3.8.19"
  }
 },
 "nbformat": 4,
 "nbformat_minor": 5
}
