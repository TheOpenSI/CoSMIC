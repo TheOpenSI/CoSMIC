{
 "cells": [
  {
   "cell_type": "code",
   "execution_count": 5,
   "metadata": {},
   "outputs": [],
   "source": [
    "import pandas as pd\n",
    "import os\n",
    "from dotenv import load_dotenv\n",
    "from openai import OpenAI"
   ]
  },
  {
   "cell_type": "code",
   "execution_count": 4,
   "metadata": {},
   "outputs": [
    {
     "data": {
      "text/html": [
       "<div>\n",
       "<style scoped>\n",
       "    .dataframe tbody tr th:only-of-type {\n",
       "        vertical-align: middle;\n",
       "    }\n",
       "\n",
       "    .dataframe tbody tr th {\n",
       "        vertical-align: top;\n",
       "    }\n",
       "\n",
       "    .dataframe thead th {\n",
       "        text-align: right;\n",
       "    }\n",
       "</style>\n",
       "<table border=\"1\" class=\"dataframe\">\n",
       "  <thead>\n",
       "    <tr style=\"text-align: right;\">\n",
       "      <th></th>\n",
       "      <th>moves</th>\n",
       "      <th>explanation</th>\n",
       "    </tr>\n",
       "  </thead>\n",
       "  <tbody>\n",
       "    <tr>\n",
       "      <th>0</th>\n",
       "      <td>d4 d5 c4 c6 cxd5 e6 dxe6 fxe6 Nf3 Bb4+ Nc3 Ba5...</td>\n",
       "      <td></td>\n",
       "    </tr>\n",
       "    <tr>\n",
       "      <th>1</th>\n",
       "      <td>d4 Nc6 e4 e5 f4 f6 dxe5 fxe5 fxe5 Nxe5 Qd4 Nc6...</td>\n",
       "      <td></td>\n",
       "    </tr>\n",
       "    <tr>\n",
       "      <th>2</th>\n",
       "      <td>e4 e5 d3 d6 Be3 c6 Be2 b5 Nd2 a5 a4 c5 axb5 Nc...</td>\n",
       "      <td></td>\n",
       "    </tr>\n",
       "    <tr>\n",
       "      <th>3</th>\n",
       "      <td>d4 d5 Nf3 Bf5 Nc3 Nf6 Bf4 Ng4 e3 Nc6 Be2 Qd7 O...</td>\n",
       "      <td></td>\n",
       "    </tr>\n",
       "    <tr>\n",
       "      <th>4</th>\n",
       "      <td>e4 e5 Nf3 d6 d4 Nc6 d5 Nb4 a3 Na6 Nc3 Be7 b4 N...</td>\n",
       "      <td></td>\n",
       "    </tr>\n",
       "  </tbody>\n",
       "</table>\n",
       "</div>"
      ],
      "text/plain": [
       "                                               moves explanation\n",
       "0  d4 d5 c4 c6 cxd5 e6 dxe6 fxe6 Nf3 Bb4+ Nc3 Ba5...            \n",
       "1  d4 Nc6 e4 e5 f4 f6 dxe5 fxe5 fxe5 Nxe5 Qd4 Nc6...            \n",
       "2  e4 e5 d3 d6 Be3 c6 Be2 b5 Nd2 a5 a4 c5 axb5 Nc...            \n",
       "3  d4 d5 Nf3 Bf5 Nc3 Nf6 Bf4 Ng4 e3 Nc6 Be2 Qd7 O...            \n",
       "4  e4 e5 Nf3 d6 d4 Nc6 d5 Nb4 a3 Na6 Nc3 Be7 b4 N...            "
      ]
     },
     "execution_count": 4,
     "metadata": {},
     "output_type": "execute_result"
    }
   ],
   "source": [
    "df = pd.read_csv(\"../data/li_chess_for_exp.csv\", index_col=0) # relative path\n",
    "df[\"explanation\"] = \"\"\n",
    "df.head()"
   ]
  },
  {
   "cell_type": "code",
   "execution_count": 18,
   "metadata": {},
   "outputs": [
    {
     "data": {
      "text/plain": [
       "(5000, 2)"
      ]
     },
     "execution_count": 18,
     "metadata": {},
     "output_type": "execute_result"
    }
   ],
   "source": [
    "df.shape"
   ]
  },
  {
   "cell_type": "code",
   "execution_count": 14,
   "metadata": {},
   "outputs": [],
   "source": [
    "load_dotenv()\n",
    "openai_api_key = os.getenv(\"openai_api_key\")"
   ]
  },
  {
   "cell_type": "code",
   "execution_count": 15,
   "metadata": {},
   "outputs": [],
   "source": [
    "client = OpenAI(api_key=openai_api_key)"
   ]
  },
  {
   "cell_type": "code",
   "execution_count": 6,
   "metadata": {},
   "outputs": [],
   "source": [
    "def gen_cot_prompt(prev_moves : str) -> str:\n",
    "    prev_moves = prev_moves.split(\" \")\n",
    "    cot_moves = [f\"White: {prev_moves[i]}, Black: {prev_moves[i+1]}\" if i + 1 < len(prev_moves) else f\"White: {prev_moves[i]}\" for i in range(0, len(prev_moves), 2)]\n",
    "    return \"\\n\".join(cot_moves)"
   ]
  },
  {
   "cell_type": "code",
   "execution_count": 11,
   "metadata": {},
   "outputs": [
    {
     "name": "stdout",
     "output_type": "stream",
     "text": [
      "92\n",
      "White: e4, Black: e5\n",
      "White: d3, Black: d6\n",
      "White: Be3, Black: c6\n",
      "White: Be2, Black: b5\n",
      "White: Nd2, Black: a5\n",
      "White: a4, Black: c5\n",
      "White: axb5, Black: Nc6\n",
      "White: bxc6, Black: Ra6\n",
      "White: Nc4, Black: a4\n",
      "White: c3, Black: a3\n",
      "White: Nxa3, Black: Rxa3\n",
      "White: Rxa3, Black: c4\n",
      "White: dxc4, Black: d5\n",
      "White: cxd5, Black: Qxd5\n",
      "White: exd5, Black: Be6\n",
      "White: Ra8+, Black: Ke7\n",
      "White: Bc5+, Black: Kf6\n",
      "White: Bxf8, Black: Kg6\n",
      "White: Bxg7, Black: Kxg7\n",
      "White: dxe6, Black: Kh6\n",
      "White: exf7, Black: Nf6\n",
      "White: Rxh8, Black: Nh5\n",
      "White: Bxh5, Black: Kg5\n",
      "White: Rxh7, Black: Kf5\n",
      "White: Qf3+, Black: Ke6\n",
      "White: Bg4+, Black: Kd6\n",
      "White: Rh6+, Black: Kc5\n",
      "White: Qe3+, Black: Kb5\n",
      "White: c4+, Black: Kb4\n",
      "White: Qc3+, Black: Ka4\n",
      "White: Bd1#\n"
     ]
    }
   ],
   "source": [
    "# testing\n",
    "print(len(gen_cot_prompt(df.iloc[2][\"moves\"]).split(\" \")))\n",
    "print(gen_cot_prompt(df.iloc[2][\"moves\"]))"
   ]
  },
  {
   "cell_type": "code",
   "execution_count": 32,
   "metadata": {},
   "outputs": [],
   "source": [
    "system_content_cot = '''\n",
    "    Act as a chess master.\n",
    "    You will be provided with a list of chess move pairs in Algebraic Notation where 1st move is by White and 2nd by Black.\n",
    "    Generate a very concise rationale behind each pair of moves for all the pairs provided. make sure it fits your context window and you provide analysis for each pair.\n",
    "    After the pair based analysis, you have to write a short summary on why the last move was taken, who is likely to be the winner and what strategy did the player use throughout the game.\n",
    "    Use the heading for your answer: Game analysis, winner and summary of strategy.\n",
    "    '''"
   ]
  },
  {
   "cell_type": "code",
   "execution_count": 33,
   "metadata": {},
   "outputs": [],
   "source": [
    "oai_model = \"gpt-3.5-turbo-0125\"\n",
    "# oai_model = \"gpt-4-turbo\"\n",
    "# oai_model = \"gpt-4o\""
   ]
  },
  {
   "cell_type": "code",
   "execution_count": 34,
   "metadata": {},
   "outputs": [],
   "source": [
    "def generate_explanation(client: OpenAI, model_name: str, df: pd.DataFrame, system_content: str, save_path: str, save_interval: int = 20) -> pd.DataFrame:\n",
    "    return_df = df.copy()\n",
    "\n",
    "    for i in range(df.shape[0]):\n",
    "        print(f\"[Info] Generating explanation for row {i}\")\n",
    "        moves = df.iloc[i][\"moves\"]\n",
    "\n",
    "        user_prompt_move = gen_cot_prompt(moves)\n",
    "        user_content_cot = f\"Move pairs are - \\n{user_prompt_move}\"\n",
    "        \n",
    "        stream = client.chat.completions.create(\n",
    "            model=model_name,\n",
    "            messages=[\n",
    "                {\"role\": \"system\", \"content\": system_content},\n",
    "                {\"role\": \"user\", \"content\": user_content_cot}\n",
    "            ],\n",
    "            stream=True,\n",
    "        )\n",
    "        \n",
    "        explanation = \"\"\n",
    "        for chunk in stream:\n",
    "            if chunk.choices[0].delta.content is not None:\n",
    "                explanation += chunk.choices[0].delta.content\n",
    "        return_df.loc[i, \"explanation\"] = explanation.strip()\n",
    "        \n",
    "        # saving file at each interval\n",
    "        if (i + 1) % save_interval == 0:\n",
    "            header = (i == 0)\n",
    "            return_df.to_csv(save_path, mode=\"w\", header=header, index=False)\n",
    "            print(f\"[Info] Saved progress as csv in {save_path} at iteration {i + 1}\")\n",
    "\n",
    "    # Save the final DataFrame after the loop\n",
    "    print(\"[Info] Final data saved\")\n",
    "    return return_df\n"
   ]
  },
  {
   "cell_type": "code",
   "execution_count": 35,
   "metadata": {},
   "outputs": [],
   "source": [
    "# for testing\n",
    "temp = df.iloc[:20]"
   ]
  },
  {
   "cell_type": "code",
   "execution_count": 36,
   "metadata": {},
   "outputs": [
    {
     "name": "stdout",
     "output_type": "stream",
     "text": [
      "[Info] Generating explanation for row 0\n",
      "[Info] Generating explanation for row 1\n",
      "[Info] Generating explanation for row 2\n",
      "[Info] Generating explanation for row 3\n",
      "[Info] Generating explanation for row 4\n",
      "[Info] Saved progress as csv in ./interval_data/interval.csv at iteration 5\n",
      "[Info] Generating explanation for row 5\n",
      "[Info] Generating explanation for row 6\n",
      "[Info] Generating explanation for row 7\n",
      "[Info] Generating explanation for row 8\n",
      "[Info] Generating explanation for row 9\n",
      "[Info] Saved progress as csv in ./interval_data/interval.csv at iteration 10\n",
      "[Info] Generating explanation for row 10\n",
      "[Info] Generating explanation for row 11\n",
      "[Info] Generating explanation for row 12\n",
      "[Info] Generating explanation for row 13\n",
      "[Info] Generating explanation for row 14\n",
      "[Info] Saved progress as csv in ./interval_data/interval.csv at iteration 15\n",
      "[Info] Generating explanation for row 15\n",
      "[Info] Generating explanation for row 16\n",
      "[Info] Generating explanation for row 17\n",
      "[Info] Generating explanation for row 18\n",
      "[Info] Generating explanation for row 19\n",
      "[Info] Saved progress as csv in ./interval_data/interval.csv at iteration 20\n",
      "[Info] Final data saved\n",
      "[Info] Final CSV generated\n"
     ]
    }
   ],
   "source": [
    "target_df = generate_explanation(OpenAI(api_key = openai_api_key), oai_model, temp, system_content_cot, \"./interval_data/interval.csv\", 5)\n",
    "target_df.to_csv(f\"../exp_data/lichess_exp.csv\")\n",
    "print(\"[Info] Final CSV generated\")"
   ]
  }
 ],
 "metadata": {
  "kernelspec": {
   "display_name": "Python 3",
   "language": "python",
   "name": "python3"
  },
  "language_info": {
   "codemirror_mode": {
    "name": "ipython",
    "version": 3
   },
   "file_extension": ".py",
   "mimetype": "text/x-python",
   "name": "python",
   "nbconvert_exporter": "python",
   "pygments_lexer": "ipython3",
   "version": "3.10.13"
  }
 },
 "nbformat": 4,
 "nbformat_minor": 2
}
